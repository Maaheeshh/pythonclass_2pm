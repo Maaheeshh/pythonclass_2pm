{
 "cells": [
  {
   "cell_type": "code",
   "execution_count": null,
   "id": "422a37c6",
   "metadata": {},
   "outputs": [],
   "source": [
    "from bs4 import BeautifulSoup    #200 respone successs response   parse garne tanne\n",
    "import requests\n",
    "url = BeautifulSoup('https://www.worldometers.info/coronavirus/', 'html.parser')\n",
    "soup=requests.get(url)\n",
    "soup\n"
   ]
  },
  {
   "cell_type": "code",
   "execution_count": null,
   "id": "c4cfb68f",
   "metadata": {},
   "outputs": [],
   "source": [
    "code=soup.text   #source code tandinxa\n",
    "code"
   ]
  },
  {
   "cell_type": "code",
   "execution_count": null,
   "id": "04ad0328",
   "metadata": {},
   "outputs": [],
   "source": [
    "lxml_code=BeautifulSoup(code, \"lxml\") #browser le bujne format large xml file\n",
    "lxml_code\n"
   ]
  },
  {
   "cell_type": "code",
   "execution_count": null,
   "id": "29040dc8",
   "metadata": {},
   "outputs": [],
   "source": [
    "lxml_code.table"
   ]
  },
  {
   "cell_type": "code",
   "execution_count": null,
   "id": "8639a729",
   "metadata": {},
   "outputs": [],
   "source": [
    "table=lxml_code.table"
   ]
  },
  {
   "cell_type": "code",
   "execution_count": null,
   "id": "4ec1aa95",
   "metadata": {},
   "outputs": [],
   "source": [
    "tag=table.find_all('tr')    #list ko form ma ayera baseko xa\n",
    "tag"
   ]
  },
  {
   "cell_type": "code",
   "execution_count": null,
   "id": "7733ac17",
   "metadata": {},
   "outputs": [],
   "source": [
    "tag[0]"
   ]
  },
  {
   "cell_type": "code",
   "execution_count": null,
   "id": "b6f93269",
   "metadata": {},
   "outputs": [],
   "source": [
    "tag[0].text"
   ]
  },
  {
   "cell_type": "code",
   "execution_count": null,
   "id": "1b3f7faf",
   "metadata": {},
   "outputs": [],
   "source": [
    "tag[0].text.split('\\n')   #euta line ko ayo but multiple lina xa"
   ]
  },
  {
   "cell_type": "code",
   "execution_count": null,
   "id": "1d56ece8",
   "metadata": {},
   "outputs": [],
   "source": [
    "for i in range(len(tag)):    #sabai ko value nikalana range use gariyo  list ko format ma ayo sabai data\n",
    "    print(tag[i].text.split('\\n')[1:-1])"
   ]
  },
  {
   "cell_type": "code",
   "execution_count": null,
   "id": "567d151e",
   "metadata": {},
   "outputs": [],
   "source": [
    "#mathi ra talako hataune  slicing garnu paryo\n",
    "#csv file ma change garne"
   ]
  },
  {
   "cell_type": "code",
   "execution_count": null,
   "id": "c53a9144",
   "metadata": {},
   "outputs": [],
   "source": [
    "output=[]\n",
    "for i in range(len(tag)):    \n",
    "    datas=tag[i].text.split('\\n')[1:-1]\n",
    "    if datas[0]!='':\n",
    "        output.append(datas)\n",
    "output\n",
    "    "
   ]
  },
  {
   "cell_type": "code",
   "execution_count": null,
   "id": "fa38d34c",
   "metadata": {},
   "outputs": [],
   "source": [
    "import csv\n",
    "file=open('covids_data.csv','w')\n",
    "x=csv.writer(file)\n",
    "for i in output:\n",
    "    x.writerow(i)"
   ]
  },
  {
   "cell_type": "code",
   "execution_count": null,
   "id": "bd0d5325",
   "metadata": {},
   "outputs": [],
   "source": [
    "import pandas as pd\n",
    "df=pd.read_csv('covids_data.csv',encoding=\"ISO-8859-1\")\n",
    "df\n"
   ]
  },
  {
   "cell_type": "code",
   "execution_count": 1,
   "id": "36720b15",
   "metadata": {},
   "outputs": [
    {
     "ename": "NameError",
     "evalue": "name 'df' is not defined",
     "output_type": "error",
     "traceback": [
      "\u001b[1;31m---------------------------------------------------------------------------\u001b[0m",
      "\u001b[1;31mNameError\u001b[0m                                 Traceback (most recent call last)",
      "\u001b[1;32m~\\AppData\\Local\\Temp/ipykernel_21160/847804625.py\u001b[0m in \u001b[0;36m<module>\u001b[1;34m\u001b[0m\n\u001b[0;32m      1\u001b[0m \u001b[1;32mimport\u001b[0m \u001b[0mplotly\u001b[0m\u001b[1;33m.\u001b[0m\u001b[0mgraph_objects\u001b[0m \u001b[1;32mas\u001b[0m \u001b[0mgo\u001b[0m\u001b[1;33m\u001b[0m\u001b[1;33m\u001b[0m\u001b[0m\n\u001b[1;32m----> 2\u001b[1;33m \u001b[0mfig\u001b[0m \u001b[1;33m=\u001b[0m \u001b[0mgo\u001b[0m\u001b[1;33m.\u001b[0m\u001b[0mFigure\u001b[0m\u001b[1;33m(\u001b[0m\u001b[1;33m[\u001b[0m\u001b[0mgo\u001b[0m\u001b[1;33m.\u001b[0m\u001b[0mBar\u001b[0m\u001b[1;33m(\u001b[0m\u001b[0mx\u001b[0m\u001b[1;33m=\u001b[0m\u001b[0mdf\u001b[0m\u001b[1;33m[\u001b[0m\u001b[1;34m'Country,Other'\u001b[0m\u001b[1;33m]\u001b[0m\u001b[1;33m,\u001b[0m \u001b[0my\u001b[0m\u001b[1;33m=\u001b[0m\u001b[0mdf\u001b[0m\u001b[1;33m[\u001b[0m\u001b[1;34m'TotalDeaths'\u001b[0m\u001b[1;33m]\u001b[0m\u001b[1;33m)\u001b[0m\u001b[1;33m]\u001b[0m\u001b[1;33m)\u001b[0m\u001b[1;33m\u001b[0m\u001b[1;33m\u001b[0m\u001b[0m\n\u001b[0m\u001b[0;32m      3\u001b[0m \u001b[0mfig\u001b[0m\u001b[1;33m.\u001b[0m\u001b[0mshow\u001b[0m\u001b[1;33m(\u001b[0m\u001b[1;33m)\u001b[0m\u001b[1;33m\u001b[0m\u001b[1;33m\u001b[0m\u001b[0m\n",
      "\u001b[1;31mNameError\u001b[0m: name 'df' is not defined"
     ]
    }
   ],
   "source": [
    "import plotly.graph_objects as go\n",
    "fig = go.Figure([go.Bar(x=df['Country,Other'], y=df['TotalDeaths'])])\n",
    "fig.show()"
   ]
  },
  {
   "cell_type": "code",
   "execution_count": null,
   "id": "259a32ec",
   "metadata": {},
   "outputs": [],
   "source": [
    "import plotly.graph_objects as go\n",
    "death=df['TotalDeaths'][0:10]\n",
    "new_death=[]\n",
    "new_country=df['Country,Other'][0:10]\n",
    "\n",
    "for i in death:\n",
    "    new_death.append(int(i.replace(',','')))\n",
    "print(new_death)\n",
    "    \n",
    "\n",
    "fig = go.Figure([go.Bar(x=new_country, y=new_death)])\n",
    "fig.show()"
   ]
  },
  {
   "cell_type": "code",
   "execution_count": null,
   "id": "b66248d9",
   "metadata": {},
   "outputs": [],
   "source": [
    "import plotly.graph_objects as go\n",
    "\n",
    "x = new_country\n",
    "y = new_death\n",
    "\n",
    "fig = go.Figure(data=[go.Pie(labels=x, values=y)])\n",
    "fig.show()\n"
   ]
  },
  {
   "cell_type": "code",
   "execution_count": 9,
   "id": "958f6470",
   "metadata": {},
   "outputs": [],
   "source": [
    "from bs4 import BeautifulSoup    #200 respone successs response   parse garne tanne\n",
    "import requests\n",
    "for i in range(1,6):\n",
    "    url = BeautifulSoup('https://www.worldometers.info/coronavirus/', 'html.parser')\n",
    "    soup=requests.get(url)\n",
    "    soup.text\n"
   ]
  },
  {
   "cell_type": "code",
   "execution_count": null,
   "id": "cb9a11b3",
   "metadata": {},
   "outputs": [],
   "source": []
  },
  {
   "cell_type": "code",
   "execution_count": null,
   "id": "8b975639",
   "metadata": {},
   "outputs": [],
   "source": []
  },
  {
   "cell_type": "code",
   "execution_count": null,
   "id": "0d05c5b3",
   "metadata": {},
   "outputs": [],
   "source": []
  },
  {
   "cell_type": "code",
   "execution_count": null,
   "id": "66e0db24",
   "metadata": {},
   "outputs": [],
   "source": []
  }
 ],
 "metadata": {
  "kernelspec": {
   "display_name": "Python 3 (ipykernel)",
   "language": "python",
   "name": "python3"
  },
  "language_info": {
   "codemirror_mode": {
    "name": "ipython",
    "version": 3
   },
   "file_extension": ".py",
   "mimetype": "text/x-python",
   "name": "python",
   "nbconvert_exporter": "python",
   "pygments_lexer": "ipython3",
   "version": "3.9.7"
  }
 },
 "nbformat": 4,
 "nbformat_minor": 5
}

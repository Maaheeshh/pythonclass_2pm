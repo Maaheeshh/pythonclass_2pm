{
 "cells": [
  {
   "cell_type": "code",
   "execution_count": null,
   "id": "56b29d69",
   "metadata": {},
   "outputs": [],
   "source": [
    "b=open('<file name>','<modes>'')\n",
    "b.close()"
   ]
  },
  {
   "cell_type": "code",
   "execution_count": null,
   "id": "f700ccfd",
   "metadata": {},
   "outputs": [],
   "source": [
    "with open(<file name>, <modes>) as f:\n",
    "    operation\n",
    "    print(f.read())"
   ]
  },
  {
   "cell_type": "code",
   "execution_count": null,
   "id": "2a210c4b",
   "metadata": {},
   "outputs": [],
   "source": [
    "r=read file\n",
    "a=append\n",
    "w=write\n",
    "x=create"
   ]
  },
  {
   "cell_type": "code",
   "execution_count": 3,
   "id": "bd4e5769",
   "metadata": {},
   "outputs": [
    {
     "name": "stdout",
     "output_type": "stream",
     "text": [
      "error occured\n"
     ]
    }
   ],
   "source": [
    "try:\n",
    "    b=open('dete.txt','x')\n",
    "    b.close()\n",
    "except:\n",
    "    print(\"error occured\")\n"
   ]
  },
  {
   "cell_type": "code",
   "execution_count": 6,
   "id": "717cf441",
   "metadata": {},
   "outputs": [
    {
     "name": "stdout",
     "output_type": "stream",
     "text": [
      "1.hello world\n",
      "2.hello world\n",
      "3.hello world\n",
      "4.hello world\n",
      "5.hello world\n",
      "6.hello world\n",
      "7.hello world\n",
      "8.hello world\n",
      "9.hello world\n",
      "10.hello world\n",
      "\n",
      "\n",
      "\n",
      "<class 'str'>\n",
      "\n"
     ]
    }
   ],
   "source": [
    "b=open('dete.txt','r')\n",
    "data=b.read()\n",
    "print(data)\n",
    "print(type(data))\n",
    "print(b.read())\n",
    "b.close()"
   ]
  },
  {
   "cell_type": "code",
   "execution_count": 8,
   "id": "b230dc9e",
   "metadata": {},
   "outputs": [
    {
     "name": "stdout",
     "output_type": "stream",
     "text": [
      "enter x= dddf\n",
      "enter only int data\n"
     ]
    }
   ],
   "source": [
    "#error free program\n",
    "\n",
    "try:\n",
    "    x=int(input(\"enter x= \"))\n",
    "except:\n",
    "    print(\"enter only int data\")"
   ]
  },
  {
   "cell_type": "code",
   "execution_count": 10,
   "id": "ba4963bd",
   "metadata": {},
   "outputs": [
    {
     "name": "stdout",
     "output_type": "stream",
     "text": [
      "enter x= 5\n",
      "125.0\n"
     ]
    }
   ],
   "source": [
    "import math as m\n",
    "try:\n",
    "    x=int(input(\"enter x= \"))\n",
    "    print(m.pow(x,3))\n",
    "except:\n",
    "    print(\"enter only int data\")"
   ]
  },
  {
   "cell_type": "code",
   "execution_count": 12,
   "id": "a09571a4",
   "metadata": {},
   "outputs": [
    {
     "ename": "FileExistsError",
     "evalue": "[Errno 17] File exists: 'detes.txt'",
     "output_type": "error",
     "traceback": [
      "\u001b[1;31m---------------------------------------------------------------------------\u001b[0m",
      "\u001b[1;31mFileExistsError\u001b[0m                           Traceback (most recent call last)",
      "\u001b[1;32m~\\AppData\\Local\\Temp/ipykernel_12828/3480067983.py\u001b[0m in \u001b[0;36m<module>\u001b[1;34m\u001b[0m\n\u001b[1;32m----> 1\u001b[1;33m \u001b[0mb\u001b[0m\u001b[1;33m=\u001b[0m\u001b[0mopen\u001b[0m\u001b[1;33m(\u001b[0m\u001b[1;34m\"detes.txt\"\u001b[0m\u001b[1;33m,\u001b[0m\u001b[1;34m'x'\u001b[0m\u001b[1;33m)\u001b[0m\u001b[1;33m\u001b[0m\u001b[1;33m\u001b[0m\u001b[0m\n\u001b[0m\u001b[0;32m      2\u001b[0m \u001b[0mb\u001b[0m\u001b[1;33m.\u001b[0m\u001b[0mwrite\u001b[0m\u001b[1;33m(\u001b[0m\u001b[1;34m\"hello world i am python\"\u001b[0m\u001b[1;33m)\u001b[0m\u001b[1;33m\u001b[0m\u001b[1;33m\u001b[0m\u001b[0m\n\u001b[0;32m      3\u001b[0m \u001b[0mb\u001b[0m\u001b[1;33m.\u001b[0m\u001b[0mclose\u001b[0m\u001b[1;33m(\u001b[0m\u001b[1;33m)\u001b[0m\u001b[1;33m\u001b[0m\u001b[1;33m\u001b[0m\u001b[0m\n",
      "\u001b[1;31mFileExistsError\u001b[0m: [Errno 17] File exists: 'detes.txt'"
     ]
    }
   ],
   "source": [
    "# b=open(\"detes.txt\",'x')\n",
    "# b.write(\"hello world i am python\")\n",
    "# b.close()"
   ]
  },
  {
   "cell_type": "code",
   "execution_count": 17,
   "id": "d9b65389",
   "metadata": {},
   "outputs": [],
   "source": [
    "b=open(\"detes.txt\",'w')\n",
    "b.write(\"hello world i am python\")\n",
    "b.close()"
   ]
  },
  {
   "cell_type": "code",
   "execution_count": 18,
   "id": "410c107b",
   "metadata": {},
   "outputs": [
    {
     "name": "stdout",
     "output_type": "stream",
     "text": [
      "enter n= 2\n",
      "enter name= momo\n",
      "enter price55\n",
      "enter qunatity7\n",
      "momo 55 7 385\n",
      "\n",
      "enter name= chw\n",
      "enter price67\n",
      "enter qunatity3\n",
      "momo 55 7 385\n",
      "chw 67 3 201\n",
      "\n"
     ]
    }
   ],
   "source": [
    "\n",
    "n=int(input(\"enter n= \"))\n",
    "bill= \"\"\n",
    "for i in range(n):\n",
    "    name=input(\"enter name= \")\n",
    "    price=int(input(\"enter price\"))\n",
    "    quantity=int(input(\"enter qunatity\"))\n",
    "    total=price*quantity\n",
    "\n",
    "    data=f\"{name} {price} {quantity} {total}\\n\"\n",
    "    bill=bill +data\n",
    "    print(bill)\n",
    "    "
   ]
  },
  {
   "cell_type": "code",
   "execution_count": 20,
   "id": "2c450391",
   "metadata": {},
   "outputs": [],
   "source": [
    "b=open(\"detes.txt\",'w')\n",
    "b.write(\"product,price,quantity,total\\n\")\n",
    "b.write(bill)\n",
    "b.close()"
   ]
  },
  {
   "cell_type": "code",
   "execution_count": 24,
   "id": "63592085",
   "metadata": {},
   "outputs": [
    {
     "name": "stdout",
     "output_type": "stream",
     "text": [
      "enter n= 2\n",
      "enter name= momo\n",
      "enter price6\n",
      "enter qunatity8\n",
      "momo, 6 ,8 ,48\n",
      "\n",
      "enter name= v\n",
      "enter price8\n",
      "enter qunatity9\n",
      "momo, 6 ,8 ,48\n",
      "v, 8 ,9 ,72\n",
      "\n"
     ]
    }
   ],
   "source": [
    "n=int(input(\"enter n= \"))\n",
    "bill= \"\"\n",
    "for i in range(n):\n",
    "    name=input(\"enter name= \")\n",
    "    price=int(input(\"enter price\"))\n",
    "    quantity=int(input(\"enter qunatity\"))\n",
    "    total=price*quantity\n",
    "\n",
    "    data=f\"{name}, {price} ,{quantity} ,{total}\\n\"\n",
    "    bill=bill +data\n",
    "    print(bill)\n",
    "    "
   ]
  },
  {
   "cell_type": "code",
   "execution_count": 27,
   "id": "caa3d860",
   "metadata": {},
   "outputs": [
    {
     "ename": "PermissionError",
     "evalue": "[Errno 13] Permission denied: 'detes.csv'",
     "output_type": "error",
     "traceback": [
      "\u001b[1;31m---------------------------------------------------------------------------\u001b[0m",
      "\u001b[1;31mPermissionError\u001b[0m                           Traceback (most recent call last)",
      "\u001b[1;32m~\\AppData\\Local\\Temp/ipykernel_12828/3135280519.py\u001b[0m in \u001b[0;36m<module>\u001b[1;34m\u001b[0m\n\u001b[1;32m----> 1\u001b[1;33m \u001b[0mb\u001b[0m\u001b[1;33m=\u001b[0m\u001b[0mopen\u001b[0m\u001b[1;33m(\u001b[0m\u001b[1;34m'detes.csv'\u001b[0m\u001b[1;33m,\u001b[0m\u001b[1;34m'w'\u001b[0m\u001b[1;33m)\u001b[0m\u001b[1;33m\u001b[0m\u001b[1;33m\u001b[0m\u001b[0m\n\u001b[0m\u001b[0;32m      2\u001b[0m \u001b[0mb\u001b[0m\u001b[1;33m.\u001b[0m\u001b[0mwrite\u001b[0m\u001b[1;33m(\u001b[0m\u001b[1;34m\"name,price,quantity,total\\n\"\u001b[0m\u001b[1;33m)\u001b[0m\u001b[1;33m\u001b[0m\u001b[1;33m\u001b[0m\u001b[0m\n\u001b[0;32m      3\u001b[0m \u001b[0mb\u001b[0m\u001b[1;33m.\u001b[0m\u001b[0mwrite\u001b[0m\u001b[1;33m(\u001b[0m\u001b[0mbill\u001b[0m\u001b[1;33m)\u001b[0m\u001b[1;33m\u001b[0m\u001b[1;33m\u001b[0m\u001b[0m\n\u001b[0;32m      4\u001b[0m \u001b[0mb\u001b[0m\u001b[1;33m.\u001b[0m\u001b[0mclose\u001b[0m\u001b[1;33m(\u001b[0m\u001b[1;33m)\u001b[0m\u001b[1;33m\u001b[0m\u001b[1;33m\u001b[0m\u001b[0m\n",
      "\u001b[1;31mPermissionError\u001b[0m: [Errno 13] Permission denied: 'detes.csv'"
     ]
    }
   ],
   "source": [
    "b=open('detes.csv','w')\n",
    "b.write(\"name,price,quantity,total\\n\")\n",
    "b.write(bill)\n",
    "b.close()"
   ]
  },
  {
   "cell_type": "code",
   "execution_count": 29,
   "id": "01521037",
   "metadata": {},
   "outputs": [
    {
     "name": "stdout",
     "output_type": "stream",
     "text": [
      "product,price,quantity,total\n",
      "momo 55 7 385\n",
      "chw 67 3 201\n",
      "\n"
     ]
    }
   ],
   "source": [
    "file=open('detes.csv')\n",
    "x=(file.read())\n",
    "print(x)\n",
    "file.close()"
   ]
  },
  {
   "cell_type": "code",
   "execution_count": 30,
   "id": "2d833f17",
   "metadata": {},
   "outputs": [
    {
     "data": {
      "text/plain": [
       "'product,price,quantity,total\\nmomo 55 7 385\\nchw 67 3 201\\n'"
      ]
     },
     "execution_count": 30,
     "metadata": {},
     "output_type": "execute_result"
    }
   ],
   "source": [
    "x\n"
   ]
  },
  {
   "cell_type": "code",
   "execution_count": 31,
   "id": "0b39a3a6",
   "metadata": {},
   "outputs": [
    {
     "name": "stdout",
     "output_type": "stream",
     "text": [
      "product,price,quantity,total\n",
      "momo 55 7 385\n",
      "chw 67 3 201\n",
      "\n"
     ]
    }
   ],
   "source": [
    "print(x)"
   ]
  },
  {
   "cell_type": "code",
   "execution_count": null,
   "id": "6266fbec",
   "metadata": {},
   "outputs": [],
   "source": []
  },
  {
   "cell_type": "code",
   "execution_count": null,
   "id": "583df183",
   "metadata": {},
   "outputs": [],
   "source": []
  },
  {
   "cell_type": "code",
   "execution_count": null,
   "id": "e083fb65",
   "metadata": {},
   "outputs": [],
   "source": []
  },
  {
   "cell_type": "code",
   "execution_count": null,
   "id": "6d373e3b",
   "metadata": {},
   "outputs": [],
   "source": []
  }
 ],
 "metadata": {
  "kernelspec": {
   "display_name": "Python 3 (ipykernel)",
   "language": "python",
   "name": "python3"
  },
  "language_info": {
   "codemirror_mode": {
    "name": "ipython",
    "version": 3
   },
   "file_extension": ".py",
   "mimetype": "text/x-python",
   "name": "python",
   "nbconvert_exporter": "python",
   "pygments_lexer": "ipython3",
   "version": "3.9.7"
  }
 },
 "nbformat": 4,
 "nbformat_minor": 5
}

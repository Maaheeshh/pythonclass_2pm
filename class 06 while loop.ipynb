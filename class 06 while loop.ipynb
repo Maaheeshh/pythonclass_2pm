{
 "cells": [
  {
   "cell_type": "code",
   "execution_count": null,
   "id": "1dff0eea",
   "metadata": {},
   "outputs": [],
   "source": [
    "# while <conditon>:\n",
    "#     <operation>\n",
    "while True:\n",
    "    print(\"hello world\")"
   ]
  },
  {
   "cell_type": "code",
   "execution_count": 2,
   "id": "5da52c31",
   "metadata": {},
   "outputs": [
    {
     "name": "stdout",
     "output_type": "stream",
     "text": [
      "0 hello world\n",
      "1 hello world\n",
      "2 hello world\n",
      "3 hello world\n",
      "4 hello world\n"
     ]
    }
   ],
   "source": [
    "a=0\n",
    "while a<5:\n",
    "    print(a,\"hello world\")\n",
    "    a=a+1"
   ]
  },
  {
   "cell_type": "code",
   "execution_count": 1,
   "id": "1e44af35",
   "metadata": {},
   "outputs": [
    {
     "name": "stdout",
     "output_type": "stream",
     "text": [
      "5 hello world\n",
      "4 hello world\n",
      "3 hello world\n",
      "2 hello world\n",
      "1 hello world\n",
      "0 hello world\n"
     ]
    }
   ],
   "source": [
    "a=5\n",
    "while a>=0:\n",
    "    print(a,\"hello world\")\n",
    "    a-=1"
   ]
  },
  {
   "cell_type": "code",
   "execution_count": null,
   "id": "43675d39",
   "metadata": {},
   "outputs": [],
   "source": [
    "i=1\n",
    "n=int(input(\"enter n=\"))\n",
    "while i<=10:\n",
    "    print(n, \"*\" ,i, \"=\" ,n*i)\n",
    "    i=i+1"
   ]
  },
  {
   "cell_type": "markdown",
   "id": "10a0fd16",
   "metadata": {},
   "source": [
    " n=int(input(\"enter n=\"))\n",
    "for i in range(1,11):\n",
    "    print(n,\"*\", i ,\"=\", n*i)\n"
   ]
  },
  {
   "cell_type": "code",
   "execution_count": null,
   "id": "4b1006bf",
   "metadata": {},
   "outputs": [],
   "source": [
    "i=0\n",
    "while i<5:\n",
    "    print(i)\n",
    "    i=i+0.5"
   ]
  },
  {
   "cell_type": "markdown",
   "id": "9e96540a",
   "metadata": {},
   "source": [
    " s=0 \n",
    "i=0 #increment loop\n",
    "n= int(input(\"Enter n= \"))\n",
    "while i<n:\n",
    "    x= int(input(\"enter x=\"))\n",
    "    s=s+x\n",
    "    i=i+1\n",
    "    \n",
    "print(s)\n",
    "    "
   ]
  },
  {
   "cell_type": "code",
   "execution_count": null,
   "id": "54440b29",
   "metadata": {},
   "outputs": [],
   "source": [
    "# x,y=2,3\n",
    "# x=2; y=4\n",
    "# x,y=0,0"
   ]
  },
  {
   "cell_type": "code",
   "execution_count": null,
   "id": "62453566",
   "metadata": {},
   "outputs": [],
   "source": [
    "a=\"python\"\n",
    "l=len(a)\n",
    "print(l)"
   ]
  },
  {
   "cell_type": "code",
   "execution_count": null,
   "id": "2bda3070",
   "metadata": {},
   "outputs": [],
   "source": [
    "i=0\n",
    "a=\"python\"\n",
    "\n",
    "l=len(a)\n",
    "while i<l:# not write i<=l\n",
    "    print(a[i])\n",
    "    i=i+1"
   ]
  },
  {
   "cell_type": "code",
   "execution_count": null,
   "id": "48ecd692",
   "metadata": {},
   "outputs": [],
   "source": [
    "a=\"python\"\n",
    "a[0]"
   ]
  },
  {
   "cell_type": "code",
   "execution_count": null,
   "id": "7e51e1cf",
   "metadata": {},
   "outputs": [],
   "source": [
    "i=0\n",
    "a=\"hello world i am python\"\n",
    "\n",
    "l=len(a)\n",
    "while i<l:\n",
    "    if a[i]!=' ':\n",
    "        print(a[i],end = '')\n",
    "    i=i+1"
   ]
  },
  {
   "cell_type": "code",
   "execution_count": null,
   "id": "a3f798a8",
   "metadata": {},
   "outputs": [],
   "source": []
  }
 ],
 "metadata": {
  "kernelspec": {
   "display_name": "Python 3 (ipykernel)",
   "language": "python",
   "name": "python3"
  },
  "language_info": {
   "codemirror_mode": {
    "name": "ipython",
    "version": 3
   },
   "file_extension": ".py",
   "mimetype": "text/x-python",
   "name": "python",
   "nbconvert_exporter": "python",
   "pygments_lexer": "ipython3",
   "version": "3.9.7"
  }
 },
 "nbformat": 4,
 "nbformat_minor": 5
}

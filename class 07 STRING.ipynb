{
 "cells": [
  {
   "cell_type": "code",
   "execution_count": null,
   "id": "a7a94dc2",
   "metadata": {},
   "outputs": [],
   "source": [
    "#string\n",
    "# sequence of character\n",
    "# imutable data type"
   ]
  },
  {
   "cell_type": "code",
   "execution_count": null,
   "id": "3b32629d",
   "metadata": {},
   "outputs": [],
   "source": [
    "a=\"hello world\"\n",
    "print(type(a))\n",
    "print(a)"
   ]
  },
  {
   "cell_type": "code",
   "execution_count": null,
   "id": "bf639f63",
   "metadata": {},
   "outputs": [],
   "source": [
    "#+ *\n",
    "a=\"helllo \"\n",
    "b=\"world\"\n",
    "c=a+b# string concatination\n",
    "print(c)"
   ]
  },
  {
   "cell_type": "code",
   "execution_count": null,
   "id": "6a7d3dd2",
   "metadata": {},
   "outputs": [],
   "source": [
    "a=\"hello world\\n\"\n",
    "print(a*2)#string enlargement"
   ]
  },
  {
   "cell_type": "code",
   "execution_count": null,
   "id": "a711fcda",
   "metadata": {},
   "outputs": [],
   "source": [
    "#string slicing\n",
    "a=\"hello world\"\n",
    "print(a[0])"
   ]
  },
  {
   "cell_type": "code",
   "execution_count": null,
   "id": "356e7d78",
   "metadata": {},
   "outputs": [],
   "source": [
    "a=\"hello world\"\n",
    "print(a[0:6])#not include 6"
   ]
  },
  {
   "cell_type": "code",
   "execution_count": null,
   "id": "0bc0d173",
   "metadata": {},
   "outputs": [],
   "source": [
    "a=\"hello world\"\n",
    "print(a[2:10])"
   ]
  },
  {
   "cell_type": "code",
   "execution_count": null,
   "id": "5780ff21",
   "metadata": {},
   "outputs": [],
   "source": [
    "a=\"hello world\"\n",
    "x=a[0:6]# or a[:6]\n",
    "y=a[6:]# 6 dekhi bahek sabai\n",
    "print(x)\n",
    "print(y)"
   ]
  },
  {
   "cell_type": "code",
   "execution_count": null,
   "id": "1370300e",
   "metadata": {},
   "outputs": [],
   "source": [
    "a=\"hello world\"\n",
    "a[0:11:2] #2 le increament"
   ]
  },
  {
   "cell_type": "code",
   "execution_count": null,
   "id": "877ce0fb",
   "metadata": {},
   "outputs": [],
   "source": [
    "a=\"hello world\"\n",
    "a[11:0:-1]"
   ]
  },
  {
   "cell_type": "code",
   "execution_count": null,
   "id": "7d1eee0f",
   "metadata": {},
   "outputs": [],
   "source": [
    "a=\"hello world\"\n",
    "a[11::-1]"
   ]
  },
  {
   "cell_type": "code",
   "execution_count": null,
   "id": "e4210b5d",
   "metadata": {},
   "outputs": [],
   "source": [
    "a=\"hello world\"#last ko element chaiye khali xodne\n",
    "a[-1::-1]"
   ]
  },
  {
   "cell_type": "code",
   "execution_count": null,
   "id": "45963835",
   "metadata": {},
   "outputs": [],
   "source": [
    "a=\"hello world\"\n",
    "a[::-1]"
   ]
  },
  {
   "cell_type": "code",
   "execution_count": null,
   "id": "1f979c28",
   "metadata": {},
   "outputs": [],
   "source": [
    "#string formating\n",
    "a=\"hello\"\n",
    "b=7\n",
    "c=a+b"
   ]
  },
  {
   "cell_type": "code",
   "execution_count": null,
   "id": "e31acc95",
   "metadata": {},
   "outputs": [],
   "source": [
    "name= input(\"enter name =\")\n",
    "add = input(\"enter add =\")\n",
    "age=int(input(\"enter age =\"))\n",
    "info=\"hello world  i am \"+name+\". i am from \"+add +\" i am \"+str(age)\n",
    "print(info)"
   ]
  },
  {
   "cell_type": "code",
   "execution_count": null,
   "id": "b405031a",
   "metadata": {},
   "outputs": [],
   "source": [
    "a=\"hello\"\n",
    "b=7\n",
    "c=f\"{a}{b}\"\n",
    "print(c)\n"
   ]
  },
  {
   "cell_type": "code",
   "execution_count": null,
   "id": "d81d7902",
   "metadata": {},
   "outputs": [],
   "source": [
    "name= input(\"enter name =\")\n",
    "add = input(\"enter add =\")\n",
    "age=int(input(\"enter age =\"))\n",
    "info=f\"hello world  i am {name}. i am from {add } i am {age}\"\n",
    "print(info)"
   ]
  },
  {
   "cell_type": "code",
   "execution_count": null,
   "id": "b9f556da",
   "metadata": {},
   "outputs": [],
   "source": [
    "a=\"ram shyam hari gita nita shyam\"\n",
    "if \"ram\" in a:\n",
    "    print(\"yes\")\n",
    "    print(a.count(\"ram\"))\n"
   ]
  },
  {
   "cell_type": "code",
   "execution_count": null,
   "id": "f6ec8159",
   "metadata": {},
   "outputs": [],
   "source": [
    "a=\"ram shyam hari gita nita shyam\" \n",
    "search=input(\"enter search = \") \n",
    "if search in a:\n",
    "    print(\"yes\",a.count(search))#seq of character hunupARX\n",
    "    \n"
   ]
  },
  {
   "cell_type": "code",
   "execution_count": null,
   "id": "8195d436",
   "metadata": {},
   "outputs": [],
   "source": [
    "a=\"Ram Shyam Hari Gita Nita Shyam\" \n",
    "print(a.lower())\n",
    "print(a.upper())"
   ]
  },
  {
   "cell_type": "code",
   "execution_count": null,
   "id": "5fe12045",
   "metadata": {},
   "outputs": [],
   "source": [
    "print(a)#  string is immutable data type"
   ]
  },
  {
   "cell_type": "code",
   "execution_count": null,
   "id": "4a475feb",
   "metadata": {},
   "outputs": [],
   "source": [
    "# wap to develop a billing system\n",
    "# name\n",
    "# price\n",
    "# quantity\n",
    "# total\n",
    "\n",
    "# grand total"
   ]
  },
  {
   "cell_type": "markdown",
   "id": "3c4faa3c",
   "metadata": {},
   "source": [
    " "
   ]
  },
  {
   "cell_type": "markdown",
   "id": "addcd2e9",
   "metadata": {},
   "source": [
    "\n",
    "\n",
    "            "
   ]
  },
  {
   "cell_type": "code",
   "execution_count": null,
   "id": "c6a81c5d",
   "metadata": {},
   "outputs": [],
   "source": [
    "name=input(\"enter name of items:  \")\n",
    "price=int(input(\"enter price of item in rupee:  \"))\n",
    "quantity=int(input (\"quantity of item in number:  \"))\n",
    "total =int(input(\"total item you buy:  \"))\n",
    "otheritem=input(\"enter other item name:  \")\n",
    "otp=int(input(\"enter other item price\"))\n",
    "otqt=int(input(\"enter other item quantity\"))\n",
    "grandtotal=input(\"all item you buy:  \")\n",
    "\n",
    "\n",
    "sum=price*quantity\n",
    "grandt=sum+(otp*otqt)\n",
    "\n",
    "\n",
    "print(\"the sum of total item: \"  + str(name)+ str(sum))\n",
    "print(\"the grandtotal of item: \" + str(name) +str( otheritem)+ str(sum)+str(grandt))\n",
    "\n",
    "            "
   ]
  },
  {
   "cell_type": "code",
   "execution_count": null,
   "id": "b75d9c39",
   "metadata": {},
   "outputs": [],
   "source": [
    "i=0\n",
    "s=0\n",
    "\n",
    "while(i>=0):\n",
    "    name=input(\"enter name of item or press n to close: \\n \")\n",
    "    price=float(input(\"enter price of item in rupee or press 0: \\n \"))\n",
    "    quantity=float(input (\"quantity of item in number or press 0 : \\n \"))\n",
    "    i=i+1\n",
    "    \n",
    "    \n",
    "    if(name!='n'):\n",
    "        total=price*quantity\n",
    "        s=s+float(total)\n",
    "        print(i,f\"name and total sum of item: {name}  and {s}\")\n",
    "    \n",
    "    else: \n",
    "        \n",
    "        print(i,f\" The grandtotal of your item is {s}.thanks for trusting us\")\n",
    "        break\n",
    "        "
   ]
  },
  {
   "cell_type": "code",
   "execution_count": null,
   "id": "faed9a4f",
   "metadata": {},
   "outputs": [],
   "source": []
  },
  {
   "cell_type": "markdown",
   "id": "74b8b93e",
   "metadata": {},
   "source": []
  },
  {
   "cell_type": "code",
   "execution_count": null,
   "id": "0e30f2de",
   "metadata": {},
   "outputs": [],
   "source": [
    "i=0\n",
    "s=0\n",
    "while(True):\n",
    "    a=input(\"enter the price or press q to quit:\")\n",
    "    if(a!='q'):\n",
    "        s=s+int(a)\n",
    "        print(f\"total sum of item:{s}\")\n",
    "    else:\n",
    "        print(f\"your grandtotal is {s}.thanks for shopping with us\")\n",
    "        break"
   ]
  },
  {
   "cell_type": "code",
   "execution_count": null,
   "id": "227abfb2",
   "metadata": {},
   "outputs": [],
   "source": [
    "grandtotal=0\n",
    "n=int(input(\"enter n= \"))\n",
    "bill=\"\"\n",
    "for i in range(n):\n",
    "    name=input(\"enter name= \")\n",
    "    price=int(input(\"enter price\"))\n",
    "    quantity=int(input(\"enter qunatity\"))\n",
    "    total=price*quantity\n",
    "    grandtotal=grandtotal+total\n",
    "    data=f\"{name} {price}  {quantity} {total}\\n\"\n",
    "    bill=bill+data\n",
    "    print(bill)\n",
    "    print(grandtotal)"
   ]
  },
  {
   "cell_type": "code",
   "execution_count": null,
   "id": "c628b5ae",
   "metadata": {},
   "outputs": [],
   "source": [
    "a=\"ram shyam hari gita nita shyam\"\n",
    "if \"ram\" in a:\n",
    "    print(\"yes\")\n",
    "    print(a.count(\"ram\"))\n"
   ]
  },
  {
   "cell_type": "code",
   "execution_count": null,
   "id": "e1431c50",
   "metadata": {},
   "outputs": [],
   "source": [
    "a=\"ram shyam hari gita nita shyam\" .lower()\n",
    "search=input(\"enter search = \").lower()\n",
    "if search in a:\n",
    "    print(\"yes\",a.count(search))\n",
    "    \n"
   ]
  },
  {
   "cell_type": "code",
   "execution_count": null,
   "id": "74fbc3b1",
   "metadata": {},
   "outputs": [],
   "source": [
    "a=\"ram shyam hari gita nita shyam\" \n",
    "a=a.replace('ram','rama')\n",
    "print(a)"
   ]
  },
  {
   "cell_type": "code",
   "execution_count": null,
   "id": "b8657c91",
   "metadata": {},
   "outputs": [],
   "source": [
    "a=\"ram shyam hari gita nita shyam\" \n",
    "a[3:]"
   ]
  },
  {
   "cell_type": "code",
   "execution_count": null,
   "id": "b1e31dda",
   "metadata": {},
   "outputs": [],
   "source": [
    "a=\"ram shyam hari gita nita shyam\" \n",
    "b=a[0:10]\n",
    "c=a[14:]\n",
    "print(b+c)"
   ]
  },
  {
   "cell_type": "code",
   "execution_count": null,
   "id": "1a52a4d7",
   "metadata": {},
   "outputs": [],
   "source": [
    "a=\"ram shyam hari gita nita shyam\" \n",
    "a=a.replace('ram','')\n",
    "print(a)"
   ]
  },
  {
   "cell_type": "code",
   "execution_count": null,
   "id": "6164c0fd",
   "metadata": {},
   "outputs": [],
   "source": [
    "a=\"ram shyam hari gita nita shyam\" \n",
    "a=a.replace('hari','shyam')\n",
    "print(a)"
   ]
  },
  {
   "cell_type": "code",
   "execution_count": null,
   "id": "d3bb0fa8",
   "metadata": {},
   "outputs": [],
   "source": [
    "a=\"ram shyam hari gita nita shyam\" \n",
    "a.title()\n"
   ]
  },
  {
   "cell_type": "code",
   "execution_count": null,
   "id": "9bce4621",
   "metadata": {},
   "outputs": [],
   "source": [
    "a=\"python\"\n",
    "for i in a:\n",
    "    print(i,end=\"\")"
   ]
  },
  {
   "cell_type": "code",
   "execution_count": null,
   "id": "2795aecd",
   "metadata": {},
   "outputs": [],
   "source": [
    "a=\"ram shyam hari gita nita shyam\" \n",
    "a.split() #array"
   ]
  },
  {
   "cell_type": "code",
   "execution_count": null,
   "id": "cfa65c2a",
   "metadata": {},
   "outputs": [],
   "source": [
    "a=\"ram-shyam-hari-gita-nita-shyam\" \n",
    "a.split('-')"
   ]
  },
  {
   "cell_type": "code",
   "execution_count": null,
   "id": "8c7b7a2b",
   "metadata": {},
   "outputs": [],
   "source": [
    "wap to create a result management system"
   ]
  },
  {
   "cell_type": "code",
   "execution_count": null,
   "id": "7e718006",
   "metadata": {},
   "outputs": [],
   "source": [
    "grand_total=0\n",
    "n=int(input(\"enter n= \"))\n",
    "bill= \"\"\n",
    "for i in range(n):\n",
    "    name=input(\"enter name= \")\n",
    "    price=int(input(\"enter price\"))\n",
    "    quantity=int(input(\"enter qunatity\"))\n",
    "    total=price*quantity\n",
    "    grand_total=grand_total+total\n",
    "    data=f\"{name} {price} {quantity} {total}\\n\"\n",
    "    bill=bill +data\n",
    "    print(bill)\n",
    "    print(grand_total)"
   ]
  },
  {
   "cell_type": "code",
   "execution_count": null,
   "id": "5b27ec77",
   "metadata": {},
   "outputs": [],
   "source": [
    "grand_total = 0\n",
    "n = int(input(\"Enter n = \"))\n",
    "bill = \"\"\n",
    "for i in range(n):\n",
    "    name = input(\"Enter name = \")\n",
    "    price = int(input(\"Enter price = \"))\n",
    "    quantity = int(input(\"Enter quantity = \"))\n",
    "    total = price*quantity\n",
    "    grand_total = grand_total +total\n",
    "    data = f\"{name} {price} {quantity} {total}\\n\"\n",
    "    bill = bill +data\n",
    "    print(bill)\n",
    "    print(grand_total)"
   ]
  },
  {
   "cell_type": "code",
   "execution_count": null,
   "id": "1a80bc25",
   "metadata": {},
   "outputs": [],
   "source": [
    "grandtotal=0\n",
    "n=int(input(\"enter n= \"))\n",
    "bill= \"\"\n",
    "for i in range(n):\n",
    "      name=input(\"enter name= \")\n",
    "      price=int(input(\"enter price= \"))\n",
    "      quantity=int(input(\"enter quantity= \"))\n",
    "      total=price*quantity\n",
    "      data=f\"{name} {price} {quantity} {total}\\n\"\n",
    "      grandtotal=grandtotal+total\n",
    "      bill=bill+data\n",
    "      print(bill)\n",
    "      print(grandtotal)"
   ]
  },
  {
   "cell_type": "code",
   "execution_count": null,
   "id": "b93a472b",
   "metadata": {},
   "outputs": [],
   "source": [
    "#wap to create aresult management system\n"
   ]
  },
  {
   "cell_type": "markdown",
   "id": "d612b8a4",
   "metadata": {},
   "source": [
    "\n",
    "    \n",
    "    \n",
    "\n"
   ]
  },
  {
   "cell_type": "markdown",
   "id": "572a6ac0",
   "metadata": {},
   "source": []
  },
  {
   "cell_type": "markdown",
   "id": "ba57773a",
   "metadata": {},
   "source": []
  },
  {
   "cell_type": "code",
   "execution_count": 2,
   "id": "1795670c",
   "metadata": {},
   "outputs": [
    {
     "ename": "SyntaxError",
     "evalue": "invalid syntax (Temp/ipykernel_22748/1854528512.py, line 7)",
     "output_type": "error",
     "traceback": [
      "\u001b[1;36m  File \u001b[1;32m\"C:\\Users\\HP\\AppData\\Local\\Temp/ipykernel_22748/1854528512.py\"\u001b[1;36m, line \u001b[1;32m7\u001b[0m\n\u001b[1;33m    if search='TB':\u001b[0m\n\u001b[1;37m             ^\u001b[0m\n\u001b[1;31mSyntaxError\u001b[0m\u001b[1;31m:\u001b[0m invalid syntax\n"
     ]
    }
   ],
   "source": [
    "    \n",
    "d={\"TB\":['headache,fever,cough,chestpain,blood in sputum'],\n",
    "  \"ascariasis\":['vomiting,abdominal pain,loeffler pneumonia'],\n",
    "  \"giardiasis\":['abdominal pain,fatty stool,foul smell,diarrhoea']}\n",
    "b=list(d.keys())\n",
    "print(b)\n",
    "search=input('enter search')\n",
    "if search='TB':\n",
    "    print(d.values[0])\n",
    "    if search in b:\n",
    "    print(d.values())\n",
    "\n",
    "# if search in b:\n",
    "#     print(d.values())"
   ]
  },
  {
   "cell_type": "code",
   "execution_count": null,
   "id": "546f333e",
   "metadata": {},
   "outputs": [],
   "source": []
  },
  {
   "cell_type": "code",
   "execution_count": null,
   "id": "ed5cf8dc",
   "metadata": {},
   "outputs": [],
   "source": []
  },
  {
   "cell_type": "code",
   "execution_count": null,
   "id": "fd466da8",
   "metadata": {},
   "outputs": [],
   "source": []
  }
 ],
 "metadata": {
  "kernelspec": {
   "display_name": "Python 3 (ipykernel)",
   "language": "python",
   "name": "python3"
  },
  "language_info": {
   "codemirror_mode": {
    "name": "ipython",
    "version": 3
   },
   "file_extension": ".py",
   "mimetype": "text/x-python",
   "name": "python",
   "nbconvert_exporter": "python",
   "pygments_lexer": "ipython3",
   "version": "3.9.7"
  }
 },
 "nbformat": 4,
 "nbformat_minor": 5
}

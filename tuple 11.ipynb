{
 "cells": [
  {
   "cell_type": "code",
   "execution_count": null,
   "id": "ea062777",
   "metadata": {},
   "outputs": [],
   "source": [
    "# tuple\n",
    "# indexed\n",
    "# ordered\n",
    "# duplicate and multiple \n",
    "# imutable\n",
    "#static data save garna use hunxa tuple"
   ]
  },
  {
   "cell_type": "code",
   "execution_count": 1,
   "id": "a06e7a2c",
   "metadata": {},
   "outputs": [
    {
     "name": "stdout",
     "output_type": "stream",
     "text": [
      "(1, 2, 3, 4, 5)\n",
      "<class 'tuple'>\n"
     ]
    }
   ],
   "source": [
    "a=(1,2,3,4,5)\n",
    "print(a)\n",
    "print(type(a))"
   ]
  },
  {
   "cell_type": "code",
   "execution_count": 2,
   "id": "2557e117",
   "metadata": {},
   "outputs": [
    {
     "name": "stdout",
     "output_type": "stream",
     "text": [
      "3\n"
     ]
    }
   ],
   "source": [
    "a=(1,2,3,4,5)\n",
    "print(a[2])"
   ]
  },
  {
   "cell_type": "code",
   "execution_count": 3,
   "id": "da454362",
   "metadata": {},
   "outputs": [
    {
     "name": "stdout",
     "output_type": "stream",
     "text": [
      "(1, 2, 3, 4, 3, 4, 5)\n"
     ]
    }
   ],
   "source": [
    "a=(1,2,3,4)\n",
    "b=(3,4,5)\n",
    "c=a+b\n",
    "print(c)"
   ]
  },
  {
   "cell_type": "code",
   "execution_count": 1,
   "id": "249a17ff",
   "metadata": {},
   "outputs": [
    {
     "name": "stdout",
     "output_type": "stream",
     "text": [
      "[(1, 2, 3, 4, 3, 4, 5)]\n"
     ]
    }
   ],
   "source": [
    "a=(1,2,3,4)\n",
    "b=(3,4,5)\n",
    "c=[a+b]\n",
    "print(c)"
   ]
  },
  {
   "cell_type": "code",
   "execution_count": null,
   "id": "f354ca96",
   "metadata": {},
   "outputs": [],
   "source": [
    "#no  update delete\n",
    "# no append() extend() insert()\n",
    "# no del remove() pop()\n",
    "# no sort()"
   ]
  },
  {
   "cell_type": "code",
   "execution_count": 4,
   "id": "2da8974c",
   "metadata": {},
   "outputs": [
    {
     "name": "stdout",
     "output_type": "stream",
     "text": [
      "<class 'tuple'>\n"
     ]
    }
   ],
   "source": [
    "a=('apple','ball')\n",
    "print(type(a))\n"
   ]
  },
  {
   "cell_type": "code",
   "execution_count": 8,
   "id": "13aba679",
   "metadata": {},
   "outputs": [
    {
     "name": "stdout",
     "output_type": "stream",
     "text": [
      "<class 'str'>\n"
     ]
    }
   ],
   "source": [
    "a=('apple')\n",
    "print(type(a))"
   ]
  },
  {
   "cell_type": "code",
   "execution_count": null,
   "id": "0de0ccc2",
   "metadata": {},
   "outputs": [],
   "source": []
  },
  {
   "cell_type": "code",
   "execution_count": null,
   "id": "7056cd24",
   "metadata": {},
   "outputs": [],
   "source": []
  },
  {
   "cell_type": "code",
   "execution_count": null,
   "id": "0bcc1e95",
   "metadata": {},
   "outputs": [],
   "source": []
  },
  {
   "cell_type": "code",
   "execution_count": 5,
   "id": "2322464e",
   "metadata": {},
   "outputs": [
    {
     "name": "stdout",
     "output_type": "stream",
     "text": [
      "<class 'tuple'>\n"
     ]
    }
   ],
   "source": [
    "a=('apple',)\n",
    "print(type(a))"
   ]
  },
  {
   "cell_type": "code",
   "execution_count": 6,
   "id": "15645b5c",
   "metadata": {},
   "outputs": [
    {
     "name": "stdout",
     "output_type": "stream",
     "text": [
      "('apple', 'ball')\n"
     ]
    }
   ],
   "source": [
    "a=()\n",
    "b=(\"apple\",)\n",
    "c=(\"ball\",)\n",
    "d=a+b+c\n",
    "print(d)"
   ]
  },
  {
   "cell_type": "code",
   "execution_count": 9,
   "id": "0a4f9f06",
   "metadata": {},
   "outputs": [
    {
     "data": {
      "text/plain": [
       "['ball']"
      ]
     },
     "execution_count": 9,
     "metadata": {},
     "output_type": "execute_result"
    }
   ],
   "source": [
    "a=('apple','ball')\n",
    "b=list(a)\n",
    "del b[0]\n",
    "b"
   ]
  },
  {
   "cell_type": "code",
   "execution_count": 12,
   "id": "53a7045e",
   "metadata": {},
   "outputs": [
    {
     "data": {
      "text/plain": [
       "('ball',)"
      ]
     },
     "execution_count": 12,
     "metadata": {},
     "output_type": "execute_result"
    }
   ],
   "source": [
    "a=('apple','ball')\n",
    "b=list(a)\n",
    "del b[0]\n",
    "a=tuple(b)\n",
    "a"
   ]
  },
  {
   "cell_type": "code",
   "execution_count": 14,
   "id": "b528fe4d",
   "metadata": {},
   "outputs": [
    {
     "data": {
      "text/plain": [
       "('h', 'e', 'l', 'l', 'o', ' ', 'w', 'o', 'r', 'l', 'd')"
      ]
     },
     "execution_count": 14,
     "metadata": {},
     "output_type": "execute_result"
    }
   ],
   "source": [
    "a=tuple(\"hello world\")\n",
    "a"
   ]
  },
  {
   "cell_type": "code",
   "execution_count": 13,
   "id": "72b849c3",
   "metadata": {},
   "outputs": [
    {
     "data": {
      "text/plain": [
       "['h', 'e', 'l', 'l', 'o', ' ', 'w', 'o', 'r', 'l', 'd']"
      ]
     },
     "execution_count": 13,
     "metadata": {},
     "output_type": "execute_result"
    }
   ],
   "source": [
    "a=list(\"hello world\")\n",
    "a"
   ]
  },
  {
   "cell_type": "code",
   "execution_count": 15,
   "id": "a9d21a6d",
   "metadata": {},
   "outputs": [
    {
     "data": {
      "text/plain": [
       "\"['h', 'e', 'l', 'l', 'o', ' ', 'w', 'o', 'r', 'l', 'd']\""
      ]
     },
     "execution_count": 15,
     "metadata": {},
     "output_type": "execute_result"
    }
   ],
   "source": [
    "a=['h', 'e', 'l', 'l', 'o', ' ', 'w', 'o', 'r', 'l', 'd']\n",
    "str(a)\n"
   ]
  },
  {
   "cell_type": "code",
   "execution_count": null,
   "id": "38749fdc",
   "metadata": {},
   "outputs": [],
   "source": [
    "a=[]\n",
    "n=int(input(\"enter n= \"))\n",
    "for i in  range(n):\n",
    "    x= int(input(\"enter x= \"))\n",
    "    a.append(x)\n",
    "print(a)"
   ]
  },
  {
   "cell_type": "code",
   "execution_count": 17,
   "id": "3e774a1f",
   "metadata": {},
   "outputs": [
    {
     "name": "stdout",
     "output_type": "stream",
     "text": [
      "enter n= 2\n",
      "enter x= a\n",
      "enter x= b\n",
      "('a', 'b')\n"
     ]
    }
   ],
   "source": [
    "a=()\n",
    "n=int(input(\"enter n= \"))\n",
    "for i in  range(n):\n",
    "    x= (input(\"enter x= \"))\n",
    "    a=a+(x,)#making tuple\n",
    "print(a)"
   ]
  },
  {
   "cell_type": "code",
   "execution_count": null,
   "id": "11f79d0b",
   "metadata": {},
   "outputs": [],
   "source": [
    "#tuple inside tuple\n"
   ]
  },
  {
   "cell_type": "code",
   "execution_count": 18,
   "id": "d6e0e7d1",
   "metadata": {},
   "outputs": [
    {
     "name": "stdout",
     "output_type": "stream",
     "text": [
      "[(1, 2, 3), (4, 5, 6), (7, 8, 9)]\n"
     ]
    }
   ],
   "source": [
    "a=((1,2,3),(4,5,6),(7,8,9))\n",
    "print(list(a))"
   ]
  },
  {
   "cell_type": "code",
   "execution_count": 20,
   "id": "7355c572",
   "metadata": {},
   "outputs": [
    {
     "data": {
      "text/plain": [
       "[(11, 22, 33), (4, 5, 6), (7, 8, 9)]"
      ]
     },
     "execution_count": 20,
     "metadata": {},
     "output_type": "execute_result"
    }
   ],
   "source": [
    "a=[(1, 2, 3), (4, 5, 6), (7, 8, 9)]\n",
    "a[0]=(11,22,33)\n",
    "a"
   ]
  },
  {
   "cell_type": "code",
   "execution_count": 21,
   "id": "a00290ed",
   "metadata": {},
   "outputs": [
    {
     "data": {
      "text/plain": [
       "[(11, 2, 3), (4, 5, 6), (7, 8, 9)]"
      ]
     },
     "execution_count": 21,
     "metadata": {},
     "output_type": "execute_result"
    }
   ],
   "source": [
    "a=[(1, 2, 3), (4, 5, 6), (7, 8, 9)]\n",
    "a[0]=(11,2,3)\n",
    "a"
   ]
  },
  {
   "cell_type": "code",
   "execution_count": null,
   "id": "0726dd68",
   "metadata": {},
   "outputs": [],
   "source": []
  },
  {
   "cell_type": "code",
   "execution_count": null,
   "id": "ce90321f",
   "metadata": {},
   "outputs": [],
   "source": [
    "a=([1,2,3],[4,5,6],[7,8,9])\n",
    "a[0]"
   ]
  },
  {
   "cell_type": "code",
   "execution_count": 19,
   "id": "45e6dc28",
   "metadata": {},
   "outputs": [
    {
     "data": {
      "text/plain": [
       "([11, 2, 3], [4, 5, 6], [7, 8, 9])"
      ]
     },
     "execution_count": 19,
     "metadata": {},
     "output_type": "execute_result"
    }
   ],
   "source": [
    "a=([1,2,3],[4,5,6],[7,8,9])\n",
    "a[0][0]=11\n",
    "a"
   ]
  },
  {
   "cell_type": "code",
   "execution_count": 4,
   "id": "2a11dd0c",
   "metadata": {},
   "outputs": [
    {
     "name": "stdout",
     "output_type": "stream",
     "text": [
      "()\n",
      "(1, 2, 3)\n",
      "('apple', (1, 2, 3), [6, 7, 8])\n"
     ]
    }
   ],
   "source": [
    "# wap to create tuple inside tuple\n",
    "a=()\n",
    "print(a)\n",
    "a=(1,2,3)\n",
    "print(a)\n",
    "a=(\"apple\",(1,2,3), [6,7,8])\n",
    "print(a)"
   ]
  },
  {
   "cell_type": "code",
   "execution_count": 13,
   "id": "00ec5c60",
   "metadata": {},
   "outputs": [
    {
     "name": "stdout",
     "output_type": "stream",
     "text": [
      "enter n= 2\n",
      "enter name= e\n",
      "enter age= 3\n",
      "enter add= r\n",
      "enter name= t\n",
      "enter age= 5\n",
      "enter add= e\n",
      "(('e', 3, 'r'), ('t', 5, 'e'))\n"
     ]
    }
   ],
   "source": [
    "a=()\n",
    "n=int(input(\"enter n= \"))\n",
    "for i in range(n):\n",
    "    name=input(\"enter name= \")\n",
    "    age=int(input(\"enter age= \"))\n",
    "    add=input(\"enter add= \")\n",
    "    data=(name,age,add)\n",
    "    a=a+(data,)\n",
    "print(a)\n",
    "\n",
    "\n"
   ]
  },
  {
   "cell_type": "code",
   "execution_count": 1,
   "id": "3b5be4eb",
   "metadata": {},
   "outputs": [
    {
     "name": "stdout",
     "output_type": "stream",
     "text": [
      "enter r= 2\n",
      "enter c= 2\n",
      "enter x= 1\n",
      "enter x= 2\n",
      "enter x= 3\n",
      "enter x= 4\n",
      "((1, 2), (3, 4))\n"
     ]
    }
   ],
   "source": [
    "m=()\n",
    "r=int(input(\"enter r= \"))\n",
    "c=int(input(\"enter c= \"))\n",
    "for i in range(r):\n",
    "    n=()\n",
    "    for j in range(c):\n",
    "        x=int(input(\"enter x= \"))\n",
    "        n=n+(x,)\n",
    "    m=m+(n,)\n",
    "print(m)\n",
    "        "
   ]
  },
  {
   "cell_type": "code",
   "execution_count": null,
   "id": "1ac17670",
   "metadata": {},
   "outputs": [],
   "source": [
    "sot"
   ]
  },
  {
   "cell_type": "code",
   "execution_count": null,
   "id": "e7fb52c4",
   "metadata": {},
   "outputs": [],
   "source": []
  },
  {
   "cell_type": "code",
   "execution_count": null,
   "id": "f1eb925a",
   "metadata": {},
   "outputs": [],
   "source": []
  },
  {
   "cell_type": "code",
   "execution_count": null,
   "id": "33af6075",
   "metadata": {},
   "outputs": [],
   "source": []
  },
  {
   "cell_type": "code",
   "execution_count": null,
   "id": "bd146c17",
   "metadata": {},
   "outputs": [],
   "source": []
  }
 ],
 "metadata": {
  "kernelspec": {
   "display_name": "Python 3 (ipykernel)",
   "language": "python",
   "name": "python3"
  },
  "language_info": {
   "codemirror_mode": {
    "name": "ipython",
    "version": 3
   },
   "file_extension": ".py",
   "mimetype": "text/x-python",
   "name": "python",
   "nbconvert_exporter": "python",
   "pygments_lexer": "ipython3",
   "version": "3.9.7"
  }
 },
 "nbformat": 4,
 "nbformat_minor": 5
}

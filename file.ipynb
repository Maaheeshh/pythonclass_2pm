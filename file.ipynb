{
 "cells": [
  {
   "cell_type": "code",
   "execution_count": null,
   "id": "77041936",
   "metadata": {},
   "outputs": [],
   "source": [
    "b=open(<file name>, module)\n",
    "b.close()\n"
   ]
  },
  {
   "cell_type": "code",
   "execution_count": null,
   "id": "5d8c8a3c",
   "metadata": {},
   "outputs": [],
   "source": []
  },
  {
   "cell_type": "code",
   "execution_count": null,
   "id": "24c92c02",
   "metadata": {},
   "outputs": [],
   "source": [
    "syntax\n",
    "with open('<file name>',<module>) as f:\n",
    "    <operation>\n",
    "    print(f.read())"
   ]
  },
  {
   "cell_type": "code",
   "execution_count": null,
   "id": "161367d4",
   "metadata": {},
   "outputs": [],
   "source": [
    "r= read file\n",
    "a= append\n",
    "w= write\n",
    "x=create\n"
   ]
  },
  {
   "cell_type": "code",
   "execution_count": null,
   "id": "07f3334e",
   "metadata": {},
   "outputs": [],
   "source": [
    "try:\n",
    "    b=open('data.txt','x')\n",
    "    b.close()\n",
    "except:\n",
    "        print(\"error occured\")"
   ]
  },
  {
   "cell_type": "code",
   "execution_count": null,
   "id": "13120134",
   "metadata": {},
   "outputs": [],
   "source": [
    "b=open('data.txt','r')\n",
    "x=b.read()\n",
    "print(x)\n",
    "print(type(x))\n",
    "print(b.read())\n",
    "b.close()"
   ]
  },
  {
   "cell_type": "code",
   "execution_count": null,
   "id": "831ee5be",
   "metadata": {},
   "outputs": [],
   "source": [
    "import math as m\n",
    "try:\n",
    "    x=int(input(\"enter x= \"))\n",
    "    print(m.pow(x,2))\n",
    "except:\n",
    "    print(\"enter only int data\")"
   ]
  },
  {
   "cell_type": "code",
   "execution_count": null,
   "id": "d6203a57",
   "metadata": {},
   "outputs": [],
   "source": [
    "b=open('datas.txt','w')\n",
    "b.write(\"hello world i am python\")\n",
    "b.close()"
   ]
  },
  {
   "cell_type": "code",
   "execution_count": null,
   "id": "f6d9ca23",
   "metadata": {},
   "outputs": [],
   "source": [
    "\n",
    "n=int(input(\"enter n= \"))\n",
    "bill= \"\"\n",
    "for i in range(n):\n",
    "      name=input(\"enter name= \")\n",
    "      price=int(input(\"enter price= \"))\n",
    "      quantity=int(input(\"enter quantity= \"))\n",
    "      total=price*quantity\n",
    "      data=f\"{name} {price} {quantity} {total}\\n\"\n",
    "      \n",
    "      bill=bill+data\n",
    "      print(bill)\n",
    "      "
   ]
  },
  {
   "cell_type": "code",
   "execution_count": null,
   "id": "505ec776",
   "metadata": {},
   "outputs": [],
   "source": [
    "b=open('datas.txt','w')  #ms word ma khulxa\n",
    "b.write('product price quantity total\\n')\n",
    "b.write(bill)\n",
    "b.close()"
   ]
  },
  {
   "cell_type": "code",
   "execution_count": null,
   "id": "bdc45864",
   "metadata": {},
   "outputs": [],
   "source": [
    "n=int(input(\"enter n= \"))\n",
    "bill= \"\"\n",
    "for i in range(n):\n",
    "      name=input(\"enter name= \")\n",
    "      price=int(input(\"enter price= \"))\n",
    "      quantity=int(input(\"enter quantity= \"))\n",
    "      total=price*quantity\n",
    "      data=f\"{name}, {price}, {quantity}, {total}\\n\"\n",
    "      \n",
    "      bill=bill+data\n",
    "      print(bill)\n",
    "      "
   ]
  },
  {
   "cell_type": "code",
   "execution_count": null,
   "id": "29c87d75",
   "metadata": {},
   "outputs": [],
   "source": [
    "b=open('datas.csv','w') #comma separated value excel ma khulxa\n",
    "b.write('product,price,quantity, total\\n')\n",
    "b.write(bill)\n",
    "b.close()"
   ]
  },
  {
   "cell_type": "code",
   "execution_count": null,
   "id": "7a45722d",
   "metadata": {},
   "outputs": [],
   "source": [
    "file=open('datas.csv')\n",
    "x=file.read()\n",
    "print(x)\n",
    "\n",
    "file.close()"
   ]
  },
  {
   "cell_type": "code",
   "execution_count": null,
   "id": "51961d95",
   "metadata": {},
   "outputs": [],
   "source": [
    "print(x)"
   ]
  },
  {
   "cell_type": "code",
   "execution_count": null,
   "id": "92b7bd98",
   "metadata": {},
   "outputs": [],
   "source": [
    "data=x.split(\"\\n\")[0:-1]\n",
    "data"
   ]
  },
  {
   "cell_type": "code",
   "execution_count": null,
   "id": "30c4813c",
   "metadata": {},
   "outputs": [],
   "source": [
    "final_data=[]\n",
    "for i in data:\n",
    "    y=i.split(',')\n",
    "    final_data.append(y)\n",
    "final_data\n",
    "    "
   ]
  },
  {
   "cell_type": "code",
   "execution_count": null,
   "id": "ed6cd2af",
   "metadata": {},
   "outputs": [],
   "source": [
    "final_data[1]"
   ]
  },
  {
   "cell_type": "code",
   "execution_count": null,
   "id": "10a4226e",
   "metadata": {},
   "outputs": [],
   "source": [
    "product_name=input(\"enter product name= \")\n",
    "for i in  final_data:\n",
    "    if \"coke\" in i:\n",
    "        print(i)"
   ]
  },
  {
   "cell_type": "code",
   "execution_count": null,
   "id": "263d53ad",
   "metadata": {},
   "outputs": [],
   "source": [
    "product_name=input(\"enter product name= \").lower()\n",
    "for i in  final_data:\n",
    "    if product_name in i[0].lower():\n",
    "        print(i)"
   ]
  },
  {
   "cell_type": "code",
   "execution_count": null,
   "id": "ad8fc7a9",
   "metadata": {},
   "outputs": [],
   "source": [
    "\n"
   ]
  },
  {
   "cell_type": "code",
   "execution_count": null,
   "id": "11931dcd",
   "metadata": {},
   "outputs": [],
   "source": [
    "import pandas as pd\n",
    "df=pd.read_csv('datas.csv')\n",
    "df"
   ]
  },
  {
   "cell_type": "code",
   "execution_count": null,
   "id": "f528e6b3",
   "metadata": {},
   "outputs": [],
   "source": [
    "wap to create a result management system using CRUD in csv"
   ]
  },
  {
   "cell_type": "code",
   "execution_count": null,
   "id": "17f01049",
   "metadata": {},
   "outputs": [],
   "source": [
    "i=0\n",
    "n=int(input(\"enter no of student = \"))\n",
    "st=\"\"\n",
    "for i in range(n):\n",
    "    name=input(\"enter name= \")\n",
    "    rollno=int(input(\"enter roll no.= \"))\n",
    "    physics=int(input(\"enter physics marks=\"))\n",
    "    chemistry=int(input(\"enter chemistry marks=\"))\n",
    "    math=int(input(\"enter math marks=\"))\n",
    "    english=int(input(\"enter english marks=\"))\n",
    "    nepali=int(input(\"enter nepali marks=\"))\n",
    "    total=physics+chemistry+math+english+nepali\n",
    "    per=total/5\n",
    "    grade=(\":A,B,C,fail\")\n",
    "\n",
    "    if per>=80:\n",
    "        grade=\"A\"\n",
    "        print(\"A grade\")\n",
    "    elif per>=60:\n",
    "        grade=\"B\"\n",
    "        print(\"B grade\")\n",
    "    elif per>=40:\n",
    "        grade=\"C\"\n",
    "        print(\"C grade\")\n",
    "    else:\n",
    "        grade=\"fail\"\n",
    "        print(\"fail\")\n",
    "    i=i+1\n",
    "    print(i,\"your grade is=  \" ,grade)\n",
    "\n",
    "    total=f\"{name} {rollno} {physics} {chemistry} {math} {english} {nepali} {per} {grade}\\n\"\n",
    "    st=st+total\n",
    "    print(st)\n",
    "    \n",
    "    "
   ]
  },
  {
   "cell_type": "code",
   "execution_count": null,
   "id": "7764fd89",
   "metadata": {},
   "outputs": [],
   "source": []
  },
  {
   "cell_type": "code",
   "execution_count": null,
   "id": "abe9f6c9",
   "metadata": {},
   "outputs": [],
   "source": [
    "b=open('student.txt','w')  #ms word ma khulxa\n",
    "b.write(f'name rollno physics chemistry math english nepali per grade\\n')\n",
    "b.write(st)\n",
    "b.close()"
   ]
  },
  {
   "cell_type": "code",
   "execution_count": null,
   "id": "81569b96",
   "metadata": {},
   "outputs": [],
   "source": []
  },
  {
   "cell_type": "code",
   "execution_count": null,
   "id": "32bc315a",
   "metadata": {},
   "outputs": [],
   "source": []
  },
  {
   "cell_type": "code",
   "execution_count": null,
   "id": "a1c5d828",
   "metadata": {},
   "outputs": [],
   "source": []
  },
  {
   "cell_type": "code",
   "execution_count": null,
   "id": "6870970e",
   "metadata": {},
   "outputs": [],
   "source": [
    "b=open('student.txt','r')\n",
    "print(b.read(10))\n",
    "\n",
    "b.read('name rollno physics chemistry math english nepali per grade\\n')\n",
    "b.read(st)\n",
    "b.close()"
   ]
  },
  {
   "cell_type": "code",
   "execution_count": null,
   "id": "a238d2f5",
   "metadata": {},
   "outputs": [],
   "source": [
    "b=open('student.txt','w')  #ms word ma khulxa\n",
    "b.write('name ,rollno, physics ,chemistry, math, english, nepali, per, grade\\n')\n",
    "b.write('st')\n",
    "b.close()"
   ]
  },
  {
   "cell_type": "code",
   "execution_count": 6,
   "id": "f42850ef",
   "metadata": {},
   "outputs": [
    {
     "name": "stdout",
     "output_type": "stream",
     "text": [
      "enter no of student = 5\n",
      "enter name= a\n",
      "enter roll no.= 1\n",
      "enter physics marks=89\n",
      "enter chemistry marks=88\n",
      "enter math marks=99\n",
      "enter english marks=78\n",
      "enter nepali marks=90\n",
      " A grade\n",
      "1 your grade is=   A\n",
      "a, 1, 89, 88, 99 ,78, 90, 88.8 ,A\n",
      "\n",
      "enter name= b\n",
      "enter roll no.= 2\n",
      "enter physics marks=45\n",
      "enter chemistry marks=66\n",
      "enter math marks=78\n",
      "enter english marks=89\n",
      "enter nepali marks=55\n",
      " B grade\n",
      "2 your grade is=   B\n",
      "a, 1, 89, 88, 99 ,78, 90, 88.8 ,A\n",
      "b, 2, 45, 66, 78 ,89, 55, 66.6 ,B\n",
      "\n",
      "enter name= c\n",
      "enter roll no.= 44\n",
      "enter physics marks=44\n",
      "enter chemistry marks=43\n",
      "enter math marks=34\n",
      "enter english marks=33\n",
      "enter nepali marks=35\n",
      "  fail\n",
      "3 your grade is=   fail\n",
      "a, 1, 89, 88, 99 ,78, 90, 88.8 ,A\n",
      "b, 2, 45, 66, 78 ,89, 55, 66.6 ,B\n",
      "c, 44, 44, 43, 34 ,33, 35, 37.8 ,fail\n",
      "\n",
      "enter name= d\n",
      "enter roll no.= 4\n",
      "enter physics marks=55\n",
      "enter chemistry marks=66\n",
      "enter math marks=77\n",
      "enter english marks=77\n",
      "enter nepali marks=77\n",
      " B grade\n",
      "4 your grade is=   B\n",
      "a, 1, 89, 88, 99 ,78, 90, 88.8 ,A\n",
      "b, 2, 45, 66, 78 ,89, 55, 66.6 ,B\n",
      "c, 44, 44, 43, 34 ,33, 35, 37.8 ,fail\n",
      "d, 4, 55, 66, 77 ,77, 77, 70.4 ,B\n",
      "\n",
      "enter name= e\n",
      "enter roll no.= 44\n",
      "enter physics marks=66\n",
      "enter chemistry marks=77\n",
      "enter math marks=1\n",
      "enter english marks=2\n",
      "enter nepali marks=56\n",
      " C grade\n",
      "5 your grade is=   C\n",
      "a, 1, 89, 88, 99 ,78, 90, 88.8 ,A\n",
      "b, 2, 45, 66, 78 ,89, 55, 66.6 ,B\n",
      "c, 44, 44, 43, 34 ,33, 35, 37.8 ,fail\n",
      "d, 4, 55, 66, 77 ,77, 77, 70.4 ,B\n",
      "e, 44, 66, 77, 1 ,2, 56, 40.4 ,C\n",
      "\n"
     ]
    }
   ],
   "source": [
    "i=0\n",
    "n=int(input(\"enter no of student = \"))\n",
    "st=\"\"\n",
    "for i in range(n):\n",
    "    name=input(\"enter name= \")\n",
    "    rollno=int(input(\"enter roll no.= \"))\n",
    "    physics=int(input(\"enter physics marks=\"))\n",
    "    chemistry=int(input(\"enter chemistry marks=\"))\n",
    "    math=int(input(\"enter math marks=\"))\n",
    "    english=int(input(\"enter english marks=\"))\n",
    "    nepali=int(input(\"enter nepali marks=\"))\n",
    "    total=physics+chemistry+math+english+nepali\n",
    "    per=total/5\n",
    "    grade=(\":A,B,C,fail\")\n",
    "\n",
    "    if per>=80:\n",
    "        grade=\"A\"\n",
    "        print(\" A grade\")\n",
    "    elif per>=60:\n",
    "        grade=\"B\"\n",
    "        print(\" B grade\")\n",
    "    elif per>=40:\n",
    "        grade=\"C\"\n",
    "        print(\" C grade\")\n",
    "    else:\n",
    "        grade=\"fail\"\n",
    "        print(\"  fail\")\n",
    "    i=i+1\n",
    "    print(i,\"your grade is=  \" ,grade)\n",
    "\n",
    "    total=f\"{name}, {rollno}, {physics}, {chemistry}, {math} ,{english}, {nepali}, {per} ,{grade}\\n\"\n",
    "    st=st+total\n",
    "    print(st)\n",
    "    \n",
    "    "
   ]
  },
  {
   "cell_type": "code",
   "execution_count": 7,
   "id": "daf70937",
   "metadata": {},
   "outputs": [
    {
     "name": "stdout",
     "output_type": "stream",
     "text": [
      "name, rollno, physics, chemistry ,math, english, nepali ,per, grade\n",
      "ram, 1, 66, 77, 88 ,99, 90, 84.0 ,A\n",
      "shyam, 2, 45, 67, 56 ,78, 89, 67.0 ,B\n",
      "hari, 34, 45, 56, 44 ,45, 43, 46.6 ,C\n",
      "gita, 4, 23, 22, 12 ,2, 22, 16.2 ,fail\n",
      "gopal, 5, 33, 66, 12 ,11, 1, 24.6 ,fail\n",
      "\n"
     ]
    }
   ],
   "source": [
    "b=open('student.csv','r')  \n",
    "print(b.read())\n",
    "b.close()"
   ]
  },
  {
   "cell_type": "code",
   "execution_count": 8,
   "id": "72cba638",
   "metadata": {},
   "outputs": [],
   "source": [
    "b=open('student.csv','w')  \n",
    "b.write(f'name, rollno, physics, chemistry ,math, english, nepali ,per, grade\\n')\n",
    "b.write(st)\n",
    "b.close()"
   ]
  },
  {
   "cell_type": "code",
   "execution_count": null,
   "id": "ab54b962",
   "metadata": {},
   "outputs": [],
   "source": []
  },
  {
   "cell_type": "code",
   "execution_count": 9,
   "id": "6180934d",
   "metadata": {},
   "outputs": [
    {
     "name": "stdout",
     "output_type": "stream",
     "text": [
      "name, rollno, physics, chemistry ,math, english, nepali ,per, grade\n",
      "a, 1, 89, 88, 99 ,78, 90, 88.8 ,A\n",
      "b, 2, 45, 66, 78 ,89, 55, 66.6 ,B\n",
      "c, 44, 44, 43, 34 ,33, 35, 37.8 ,fail\n",
      "d, 4, 55, 66, 77 ,77, 77, 70.4 ,B\n",
      "e, 44, 66, 77, 1 ,2, 56, 40.4 ,C\n",
      "\n"
     ]
    }
   ],
   "source": [
    "b=open('student.csv')\n",
    "print(b.read())\n",
    "b.close()"
   ]
  },
  {
   "cell_type": "code",
   "execution_count": 10,
   "id": "20463b67",
   "metadata": {},
   "outputs": [
    {
     "data": {
      "text/html": [
       "<div>\n",
       "<style scoped>\n",
       "    .dataframe tbody tr th:only-of-type {\n",
       "        vertical-align: middle;\n",
       "    }\n",
       "\n",
       "    .dataframe tbody tr th {\n",
       "        vertical-align: top;\n",
       "    }\n",
       "\n",
       "    .dataframe thead th {\n",
       "        text-align: right;\n",
       "    }\n",
       "</style>\n",
       "<table border=\"1\" class=\"dataframe\">\n",
       "  <thead>\n",
       "    <tr style=\"text-align: right;\">\n",
       "      <th></th>\n",
       "      <th>name</th>\n",
       "      <th>rollno</th>\n",
       "      <th>physics</th>\n",
       "      <th>chemistry</th>\n",
       "      <th>math</th>\n",
       "      <th>english</th>\n",
       "      <th>nepali</th>\n",
       "      <th>per</th>\n",
       "      <th>grade</th>\n",
       "    </tr>\n",
       "  </thead>\n",
       "  <tbody>\n",
       "    <tr>\n",
       "      <th>0</th>\n",
       "      <td>a</td>\n",
       "      <td>1</td>\n",
       "      <td>89</td>\n",
       "      <td>88</td>\n",
       "      <td>99</td>\n",
       "      <td>78</td>\n",
       "      <td>90</td>\n",
       "      <td>88.8</td>\n",
       "      <td>A</td>\n",
       "    </tr>\n",
       "    <tr>\n",
       "      <th>1</th>\n",
       "      <td>b</td>\n",
       "      <td>2</td>\n",
       "      <td>45</td>\n",
       "      <td>66</td>\n",
       "      <td>78</td>\n",
       "      <td>89</td>\n",
       "      <td>55</td>\n",
       "      <td>66.6</td>\n",
       "      <td>B</td>\n",
       "    </tr>\n",
       "    <tr>\n",
       "      <th>2</th>\n",
       "      <td>c</td>\n",
       "      <td>44</td>\n",
       "      <td>44</td>\n",
       "      <td>43</td>\n",
       "      <td>34</td>\n",
       "      <td>33</td>\n",
       "      <td>35</td>\n",
       "      <td>37.8</td>\n",
       "      <td>fail</td>\n",
       "    </tr>\n",
       "    <tr>\n",
       "      <th>3</th>\n",
       "      <td>d</td>\n",
       "      <td>4</td>\n",
       "      <td>55</td>\n",
       "      <td>66</td>\n",
       "      <td>77</td>\n",
       "      <td>77</td>\n",
       "      <td>77</td>\n",
       "      <td>70.4</td>\n",
       "      <td>B</td>\n",
       "    </tr>\n",
       "    <tr>\n",
       "      <th>4</th>\n",
       "      <td>e</td>\n",
       "      <td>44</td>\n",
       "      <td>66</td>\n",
       "      <td>77</td>\n",
       "      <td>1</td>\n",
       "      <td>2</td>\n",
       "      <td>56</td>\n",
       "      <td>40.4</td>\n",
       "      <td>C</td>\n",
       "    </tr>\n",
       "  </tbody>\n",
       "</table>\n",
       "</div>"
      ],
      "text/plain": [
       "  name   rollno   physics   chemistry   math   english   nepali    per  grade\n",
       "0    a        1        89           88    99        78        90  88.8      A\n",
       "1    b        2        45           66    78        89        55  66.6      B\n",
       "2    c       44        44           43    34        33        35  37.8   fail\n",
       "3    d        4        55           66    77        77        77  70.4      B\n",
       "4    e       44        66           77     1         2        56  40.4      C"
      ]
     },
     "execution_count": 10,
     "metadata": {},
     "output_type": "execute_result"
    }
   ],
   "source": [
    "import pandas as pd\n",
    "df=pd.read_csv('student.csv')\n",
    "df"
   ]
  },
  {
   "cell_type": "code",
   "execution_count": 14,
   "id": "4ca9208a",
   "metadata": {},
   "outputs": [],
   "source": []
  },
  {
   "cell_type": "code",
   "execution_count": null,
   "id": "e9d9eddd",
   "metadata": {},
   "outputs": [],
   "source": [
    "a=[2,3,4,5,56,6667,2,1]\n",
    "print(a.sort())\n",
    "print(a)"
   ]
  },
  {
   "cell_type": "code",
   "execution_count": 15,
   "id": "64883e9f",
   "metadata": {},
   "outputs": [
    {
     "ename": "AttributeError",
     "evalue": "'dict' object has no attribute 'sort'",
     "output_type": "error",
     "traceback": [
      "\u001b[1;31m---------------------------------------------------------------------------\u001b[0m",
      "\u001b[1;31mAttributeError\u001b[0m                            Traceback (most recent call last)",
      "\u001b[1;32m~\\AppData\\Local\\Temp/ipykernel_21500/3329927337.py\u001b[0m in \u001b[0;36m<module>\u001b[1;34m\u001b[0m\n\u001b[0;32m      1\u001b[0m \u001b[0md\u001b[0m\u001b[1;33m=\u001b[0m\u001b[1;33m{\u001b[0m\u001b[1;34m'ram'\u001b[0m\u001b[1;33m:\u001b[0m \u001b[1;33m[\u001b[0m\u001b[1;36m98087\u001b[0m\u001b[1;33m,\u001b[0m \u001b[1;36m9076566\u001b[0m\u001b[1;33m]\u001b[0m\u001b[1;33m,\u001b[0m \u001b[1;34m'shyam'\u001b[0m\u001b[1;33m:\u001b[0m \u001b[1;33m[\u001b[0m\u001b[1;36m986655\u001b[0m\u001b[1;33m,\u001b[0m \u001b[1;36m90344\u001b[0m\u001b[1;33m]\u001b[0m\u001b[1;33m}\u001b[0m\u001b[1;33m\u001b[0m\u001b[1;33m\u001b[0m\u001b[0m\n\u001b[1;32m----> 2\u001b[1;33m \u001b[0me\u001b[0m\u001b[1;33m=\u001b[0m\u001b[0md\u001b[0m\u001b[1;33m.\u001b[0m\u001b[0msort\u001b[0m\u001b[1;33m[\u001b[0m\u001b[1;36m0\u001b[0m\u001b[1;33m]\u001b[0m\u001b[1;33m[\u001b[0m\u001b[1;36m0\u001b[0m\u001b[1;33m]\u001b[0m\u001b[1;33m\u001b[0m\u001b[1;33m\u001b[0m\u001b[0m\n\u001b[0m",
      "\u001b[1;31mAttributeError\u001b[0m: 'dict' object has no attribute 'sort'"
     ]
    }
   ],
   "source": [
    "d={'ram': [98087, 9076566], 'shyam': [986655, 90344]}\n",
    "e=d.sort[0][0]\n"
   ]
  },
  {
   "cell_type": "code",
   "execution_count": 18,
   "id": "3765a0b5",
   "metadata": {},
   "outputs": [
    {
     "name": "stdout",
     "output_type": "stream",
     "text": [
      "[89, 86, 30]\n",
      "None\n",
      "[30, 86, 89]\n",
      "89\n",
      "30\n"
     ]
    }
   ],
   "source": [
    "\n",
    "a={'ram':89,'shyam':86,'hari':30}\n",
    "b=list(a.values())\n",
    "print(b)\n",
    "print(b.sort())\n",
    "print(b)\n",
    "print(max(b))\n",
    "print(min(b))\n",
    "# for i in a.values():\n",
    "#     print(i)\n",
    "\n",
    "# print(max(a[1]))\n",
    "# print(min(a[1]))\n",
    "# a.append\n"
   ]
  },
  {
   "cell_type": "code",
   "execution_count": 26,
   "id": "36d0226b",
   "metadata": {},
   "outputs": [
    {
     "name": "stdout",
     "output_type": "stream",
     "text": [
      "[[89, 45], [86, 90], [90, 200]]\n",
      "None\n",
      "[[86, 90], [89, 45], [90, 200]]\n",
      "90\n",
      "86\n",
      "89\n",
      "200\n",
      "45\n",
      "90\n"
     ]
    }
   ],
   "source": [
    "a={'ram':[89,45],'shyam':[86,90],'hari':[90,200]}\n",
    "b=list(a.values())\n",
    "print(b)\n",
    "print(b.sort())\n",
    "print(b)\n",
    "print(max(list(b[0])))\n",
    "print(min(list(b[0])))\n",
    "print(max(list(b[1])))\n",
    "print(max(list(b[2])))\n",
    "print(min(list(b[1])))\n",
    "print(min(list(b[2])))\n"
   ]
  },
  {
   "cell_type": "markdown",
   "id": "03426258",
   "metadata": {},
   "source": [
    "   physics=int(input(\"enter physics marks=\"))\n",
    "    chemistry=int(input(\"enter chemistry marks=\"))\n",
    "    math=int(input(\"enter math marks=\"))\n",
    "    english=int(input(\"enter english marks=\"))\n",
    "    nepali=int(input(\"enter nepali marks=\"))\n",
    "    total=physics+chemistry+math+english+nepali\n",
    "    per=total/5\n",
    "    i=i+1\n",
    "    a.append(total)\n",
    "    total=f\"{name} {rollno} {physics} {chemistry} {math} {english} {nepali} {per} \\n\"\n",
    "    st=st+total\n",
    "    print(st)\n",
    "    b= a.append(st)\n"
   ]
  },
  {
   "cell_type": "markdown",
   "id": "90e6014e",
   "metadata": {},
   "source": [
    " a=[]\n",
    "i=0\n",
    "n=int(input(\"enter no of student = \"))\n",
    "st=\"\"\n",
    "for i in range(n):\n",
    "    name=input(\"enter name= \")\n",
    "    rollno=int(input(\"enter roll no.= \"))\n",
    "    physics=int(input(\"enter physics marks=\"))\n",
    "    chemistry=int(input(\"enter chemistry marks=\"))\n",
    "    math=int(input(\"enter math marks=\"))\n",
    "    english=int(input(\"enter english marks=\"))\n",
    "    nepali=int(input(\"enter nepali marks=\"))\n",
    "    total=physics+chemistry+math+english+nepali\n",
    "    per=total/5\n",
    "    t=int(physics+chemistry+math+english+nepali)\n",
    "    print(t)\n",
    "    i=i+1\n",
    "    a.append(total)\n",
    "    total=f\" {physics} {chemistry} {math} {english} {nepali} {per} \\n\"\n",
    "    st=st+total\n",
    "    print(st)\n",
    "    b= a.append(st)\n",
    "\n",
    "    print(\"the frist rank is\", max(t))\n",
    "    print(\"the last rank is\" ,min(t))\n",
    "    \n",
    "    "
   ]
  },
  {
   "cell_type": "code",
   "execution_count": 34,
   "id": "bae470f3",
   "metadata": {},
   "outputs": [
    {
     "name": "stdout",
     "output_type": "stream",
     "text": [
      "enter no of student = 2\n",
      "enter physics marks=3\n",
      "enter chemistry marks=3\n",
      "enter math marks=4\n",
      "enter english marks=45\n",
      "enter nepali marks=5\n",
      "the total marks is 60\n",
      "enter physics marks=45\n",
      "enter chemistry marks=56\n",
      "enter math marks=66\n",
      "enter english marks=77\n",
      "enter nepali marks=66\n",
      "the total marks is 310\n",
      "None\n"
     ]
    }
   ],
   "source": [
    " a=[]\n",
    "\n",
    "n=int(input(\"enter no of student = \"))\n",
    "st=\"\"\n",
    "for i in range(n):\n",
    "#     name=input(\"enter name= \")\n",
    "#     rollno=int(input(\"enter roll no.= \"))\n",
    "    physics=int(input(\"enter physics marks=\"))\n",
    "    chemistry=int(input(\"enter chemistry marks=\"))\n",
    "    math=int(input(\"enter math marks=\"))\n",
    "    english=int(input(\"enter english marks=\"))\n",
    "    nepali=int(input(\"enter nepali marks=\"))\n",
    "    total=physics+chemistry+math+english+nepali\n",
    "    per=total/5\n",
    "    t=int(physics+chemistry+math+english+nepali)\n",
    "    print('the total marks is',t)\n",
    "    data=[physics,chemistry,math,english,nepali,total]\n",
    "    b = a.append(data)\n",
    "print(b)\n",
    "# print(b.sort())\n",
    "# print(b)\n",
    "# print(\"the frist rank is\",max(b[5]))\n",
    "# print(\"the last rank is\",min(b[5]))\n",
    "# print(a)\n",
    "#     i=i+1\n",
    "#     a.append(total)\n",
    "#     total=f\" {physics} {chemistry} {math} {english} {nepali} {per} \\n\"\n",
    "#     st=st+total\n",
    "#     print(st)\n",
    "#     b= a.append(st)\n",
    "    \n",
    "# w=t.sort()\n",
    "\n",
    "# print(\"the frist rank is\", max(w))\n",
    "# print(\"the last rank is\" ,min(w))\n",
    "    \n",
    "    "
   ]
  },
  {
   "cell_type": "code",
   "execution_count": 7,
   "id": "8291fda9",
   "metadata": {},
   "outputs": [
    {
     "name": "stdout",
     "output_type": "stream",
     "text": [
      "enter n= 2\n",
      "enter physics marks=33\n",
      "enter chemistry marks=33\n",
      "enter math marks=33\n",
      "enter english marks=33\n",
      "enter nepali marks=33\n",
      "the total marks is 165\n",
      "enter physics marks=333\n",
      "enter chemistry marks=444\n",
      "enter math marks=55\n",
      "enter english marks=55\n",
      "enter nepali marks=66\n",
      "the total marks is 953\n"
     ]
    },
    {
     "ename": "AttributeError",
     "evalue": "'int' object has no attribute 'append'",
     "output_type": "error",
     "traceback": [
      "\u001b[1;31m---------------------------------------------------------------------------\u001b[0m",
      "\u001b[1;31mAttributeError\u001b[0m                            Traceback (most recent call last)",
      "\u001b[1;32m~\\AppData\\Local\\Temp/ipykernel_10944/145572003.py\u001b[0m in \u001b[0;36m<module>\u001b[1;34m\u001b[0m\n\u001b[0;32m     18\u001b[0m \u001b[1;31m# print(max(a[0]))\u001b[0m\u001b[1;33m\u001b[0m\u001b[1;33m\u001b[0m\u001b[0m\n\u001b[0;32m     19\u001b[0m \u001b[1;31m# print(min(a[0]))\u001b[0m\u001b[1;33m\u001b[0m\u001b[1;33m\u001b[0m\u001b[0m\n\u001b[1;32m---> 20\u001b[1;33m \u001b[0mx\u001b[0m\u001b[1;33m=\u001b[0m\u001b[0mt\u001b[0m\u001b[1;33m.\u001b[0m\u001b[0mappend\u001b[0m\u001b[1;33m(\u001b[0m\u001b[0mtotal\u001b[0m\u001b[1;33m)\u001b[0m\u001b[1;33m\u001b[0m\u001b[1;33m\u001b[0m\u001b[0m\n\u001b[0m\u001b[0;32m     21\u001b[0m \u001b[0mt\u001b[0m\u001b[1;33m=\u001b[0m\u001b[0mt\u001b[0m\u001b[1;33m+\u001b[0m\u001b[0mtotal\u001b[0m\u001b[1;33m\u001b[0m\u001b[1;33m\u001b[0m\u001b[0m\n\u001b[0;32m     22\u001b[0m \u001b[0mprint\u001b[0m\u001b[1;33m(\u001b[0m\u001b[0mt\u001b[0m\u001b[1;33m)\u001b[0m\u001b[1;33m\u001b[0m\u001b[1;33m\u001b[0m\u001b[0m\n",
      "\u001b[1;31mAttributeError\u001b[0m: 'int' object has no attribute 'append'"
     ]
    }
   ],
   "source": [
    "t=0\n",
    "a=[]\n",
    "n=int(input(\"enter n= \"))\n",
    "for i in range(n):\n",
    "    physics=int(input(\"enter physics marks=\"))\n",
    "    chemistry=int(input(\"enter chemistry marks=\"))\n",
    "    math=int(input(\"enter math marks=\"))\n",
    "    english=int(input(\"enter english marks=\"))\n",
    "    nepali=int(input(\"enter nepali marks=\"))\n",
    "    total=physics+chemistry+math+english+nepali\n",
    "    per=total/5\n",
    "    print('the total marks is',total)\n",
    "    data=[physics,chemistry,math,english,nepali,total]\n",
    "    b = a.append(data)\n",
    "# print(a)\n",
    "# print(a.sort())\n",
    "# print(a)\n",
    "# print(max(a[0]))\n",
    "# print(min(a[0]))\n",
    "x=t.append(total)\n",
    "t=t+total\n",
    "print(t)\n",
    "\n",
    "\n",
    "print(total)\n",
    "\n"
   ]
  },
  {
   "cell_type": "code",
   "execution_count": null,
   "id": "b649705f",
   "metadata": {},
   "outputs": [],
   "source": []
  }
 ],
 "metadata": {
  "kernelspec": {
   "display_name": "Python 3 (ipykernel)",
   "language": "python",
   "name": "python3"
  },
  "language_info": {
   "codemirror_mode": {
    "name": "ipython",
    "version": 3
   },
   "file_extension": ".py",
   "mimetype": "text/x-python",
   "name": "python",
   "nbconvert_exporter": "python",
   "pygments_lexer": "ipython3",
   "version": "3.9.7"
  }
 },
 "nbformat": 4,
 "nbformat_minor": 5
}

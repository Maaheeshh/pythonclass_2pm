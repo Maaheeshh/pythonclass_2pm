{
 "cells": [
  {
   "cell_type": "code",
   "execution_count": 1,
   "id": "cdd8057c",
   "metadata": {},
   "outputs": [
    {
     "name": "stdout",
     "output_type": "stream",
     "text": [
      "12\n"
     ]
    }
   ],
   "source": [
    "a=10\n",
    "b=2\n",
    "c=a+b\n",
    "print(c)"
   ]
  },
  {
   "cell_type": "code",
   "execution_count": 3,
   "id": "c19db76d",
   "metadata": {},
   "outputs": [
    {
     "name": "stdout",
     "output_type": "stream",
     "text": [
      "10\n",
      "2.3\n",
      "hello world\n",
      "True\n",
      "10 2.3 hello world True\n",
      "<class 'int'>\n",
      "<class 'float'>\n",
      "<class 'str'>\n",
      "<class 'bool'>\n"
     ]
    }
   ],
   "source": [
    "a=10\n",
    "b=2.3\n",
    "c=\"hello world\"\n",
    "d=True\n",
    "print(a)\n",
    "print(b)\n",
    "print(c)\n",
    "print(d)\n",
    "print(a,b,c,d)\n",
    "print(type(a))\n",
    "print(type(b))\n",
    "print(type(c))\n",
    "print(type(d))"
   ]
  },
  {
   "cell_type": "code",
   "execution_count": 7,
   "id": "28ca71a1",
   "metadata": {},
   "outputs": [
    {
     "name": "stdout",
     "output_type": "stream",
     "text": [
      "the value of i= 12.879999999999997\n"
     ]
    }
   ],
   "source": [
    "#commenting    AND   ctrl/  multiline comment\n",
    "p=100\n",
    "t=2.3\n",
    "r=5.6\n",
    "i=p*t*r/100\n",
    "print(\"the value of i=\" ,i )\n"
   ]
  },
  {
   "cell_type": "code",
   "execution_count": null,
   "id": "aa85e467",
   "metadata": {},
   "outputs": [],
   "source": [
    "# *=multiply\n",
    "#**=power value\n",
    "# /= divide\n",
    "# //=whole number not fraction\n",
    "# % reminder value\n"
   ]
  },
  {
   "cell_type": "code",
   "execution_count": 10,
   "id": "484960c3",
   "metadata": {},
   "outputs": [
    {
     "name": "stdout",
     "output_type": "stream",
     "text": [
      "30\n",
      "1000\n",
      "3.3333333333333335\n",
      "3\n",
      "1\n"
     ]
    }
   ],
   "source": [
    "a=10\n",
    "b=3\n",
    "c=a*b\n",
    "d=a**b\n",
    "e=a/b\n",
    "f=a//b\n",
    "g=a%b\n",
    "print(c)\n",
    "print(d)\n",
    "print(e)\n",
    "print(f)\n",
    "print(g)\n"
   ]
  },
  {
   "cell_type": "code",
   "execution_count": 15,
   "id": "a7b195a6",
   "metadata": {},
   "outputs": [
    {
     "name": "stdout",
     "output_type": "stream",
     "text": [
      "enter your fname sirmp\n",
      "enter your lname sirmp\n",
      "mpmp\n"
     ]
    }
   ],
   "source": [
    "fname=input(\"enter your fname sir\")\n",
    "lname=input(\"enter your lname sir\")\n",
    "a=fname+lname\n",
    "print(a)"
   ]
  },
  {
   "cell_type": "code",
   "execution_count": 17,
   "id": "2142d806",
   "metadata": {},
   "outputs": [
    {
     "name": "stdout",
     "output_type": "stream",
     "text": [
      "102\n",
      "12\n"
     ]
    }
   ],
   "source": [
    "a=\"10\"\n",
    "b=\"2\"\n",
    "c=a+b\n",
    "print(c)  #it become string value\n",
    "a=10\n",
    "b=2\n",
    "c=a+b\n",
    "print(c) #it become integer value\n"
   ]
  },
  {
   "cell_type": "code",
   "execution_count": null,
   "id": "29f017d3",
   "metadata": {},
   "outputs": [],
   "source": []
  }
 ],
 "metadata": {
  "kernelspec": {
   "display_name": "Python 3 (ipykernel)",
   "language": "python",
   "name": "python3"
  },
  "language_info": {
   "codemirror_mode": {
    "name": "ipython",
    "version": 3
   },
   "file_extension": ".py",
   "mimetype": "text/x-python",
   "name": "python",
   "nbconvert_exporter": "python",
   "pygments_lexer": "ipython3",
   "version": "3.9.7"
  }
 },
 "nbformat": 4,
 "nbformat_minor": 5
}

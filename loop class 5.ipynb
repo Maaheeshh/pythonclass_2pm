{
 "cells": [
  {
   "cell_type": "code",
   "execution_count": 4,
   "id": "a2f78de6",
   "metadata": {},
   "outputs": [
    {
     "name": "stdout",
     "output_type": "stream",
     "text": [
      "1\n",
      "2\n",
      "3\n",
      "4\n"
     ]
    }
   ],
   "source": [
    "for i in range(1,5):\n",
    "    print(i)"
   ]
  },
  {
   "cell_type": "code",
   "execution_count": 5,
   "id": "6ed280e2",
   "metadata": {},
   "outputs": [
    {
     "name": "stdout",
     "output_type": "stream",
     "text": [
      "enter n= 4\n",
      "enter x= 5\n",
      "enter x= 5\n",
      "enter x= 6\n",
      "enter x= 6\n",
      "22\n"
     ]
    }
   ],
   "source": [
    "s=0\n",
    "n=int(input(\"enter n= \"))\n",
    "for i in range(n):\n",
    "    x=int(input(\"enter x= \"))\n",
    "    s=s+x\n",
    "print(s)"
   ]
  },
  {
   "cell_type": "markdown",
   "id": "965e511c",
   "metadata": {},
   "source": [
    "s=0\n",
    "n=int(input(\"enter n= \"))\n",
    "for i in range(n):\n",
    "    x=int(input(\"enter x= \"))\n",
    "    s=s+x\n",
    "    print(s)"
   ]
  },
  {
   "cell_type": "code",
   "execution_count": 7,
   "id": "af71e9d2",
   "metadata": {},
   "outputs": [
    {
     "name": "stdout",
     "output_type": "stream",
     "text": [
      "enter n= 3\n",
      "enter x= 5\n",
      "5\n",
      "enter x= 3\n",
      "8\n",
      "enter x= 4\n",
      "12\n"
     ]
    }
   ],
   "source": [
    "s=0    # or  s=int()\n",
    "n=int(input(\"enter n= \"))   # kati time user sanga input line\n",
    "for i in range(n):\n",
    "    x=int(input(\"enter x= \"))\n",
    "    s=s+x\n",
    "    print(s)"
   ]
  },
  {
   "cell_type": "code",
   "execution_count": null,
   "id": "73060582",
   "metadata": {},
   "outputs": [],
   "source": []
  },
  {
   "cell_type": "code",
   "execution_count": 10,
   "id": "d41bb2ed",
   "metadata": {},
   "outputs": [
    {
     "name": "stdout",
     "output_type": "stream",
     "text": [
      "5\n",
      "4\n",
      "3\n",
      "2\n",
      "1\n"
     ]
    }
   ],
   "source": [
    "for i in range (5,0,-1):\n",
    "    print(i)"
   ]
  },
  {
   "cell_type": "code",
   "execution_count": 21,
   "id": "7238610d",
   "metadata": {},
   "outputs": [
    {
     "name": "stdout",
     "output_type": "stream",
     "text": [
      "enter n=0\n",
      "1\n"
     ]
    }
   ],
   "source": [
    "#4!=1*2*3*4\n",
    "fac=1\n",
    "n= int(input(\"enter n=\"))\n",
    "if n>=0:\n",
    "    for i in range(1,n+1):\n",
    "        fac=fac*i\n",
    "else:\n",
    "    print(\"invalid input\")\n",
    "print(fac)"
   ]
  },
  {
   "cell_type": "code",
   "execution_count": 31,
   "id": "05c196db",
   "metadata": {},
   "outputs": [
    {
     "name": "stdout",
     "output_type": "stream",
     "text": [
      "p\n",
      "y\n",
      "t\n",
      "h\n",
      "o\n",
      "n\n"
     ]
    }
   ],
   "source": [
    "a=\"python\"\n",
    "for i in a:   #string seq of character\n",
    "    print(i)"
   ]
  },
  {
   "cell_type": "code",
   "execution_count": 32,
   "id": "bbe7ac3e",
   "metadata": {},
   "outputs": [
    {
     "name": "stdout",
     "output_type": "stream",
     "text": [
      "p hello world\n",
      "y hello world\n",
      "t hello world\n",
      "h hello world\n",
      "o hello world\n",
      "n hello world\n"
     ]
    }
   ],
   "source": [
    "a=\"python\"\n",
    "for i in a: \n",
    "    print(i,\"hello world\")"
   ]
  },
  {
   "cell_type": "code",
   "execution_count": 33,
   "id": "cad18900",
   "metadata": {},
   "outputs": [
    {
     "name": "stdout",
     "output_type": "stream",
     "text": [
      "hello world\n",
      "hello world\n",
      "hello world\n",
      "hello world\n",
      "hello world\n",
      "hello world\n"
     ]
    }
   ],
   "source": [
    "a=\"python\"\n",
    "for i in a: \n",
    "    print(\"hello world\")"
   ]
  },
  {
   "cell_type": "code",
   "execution_count": 35,
   "id": "28b7d320",
   "metadata": {},
   "outputs": [
    {
     "name": "stdout",
     "output_type": "stream",
     "text": [
      "hello world i am python"
     ]
    }
   ],
   "source": [
    "a=\"hello world i am python\"\n",
    "for i in a: \n",
    "    if i!=\"\":\n",
    "        print(i , end=\"\")"
   ]
  },
  {
   "cell_type": "code",
   "execution_count": 41,
   "id": "8adb72ec",
   "metadata": {},
   "outputs": [
    {
     "name": "stdout",
     "output_type": "stream",
     "text": [
      "h.e.o.w.o.r.d.i.a.m.p.y.t.h.o.n."
     ]
    }
   ],
   "source": [
    "\n",
    "for i in a: \n",
    "    if i!=\"l\" and i!=\" \":\n",
    "        print(i,end=\".\")"
   ]
  },
  {
   "cell_type": "code",
   "execution_count": 45,
   "id": "0207f114",
   "metadata": {},
   "outputs": [
    {
     "name": "stdout",
     "output_type": "stream",
     "text": [
      "helloworldiampython"
     ]
    }
   ],
   "source": [
    "a=\"hello world i am python\"\n",
    "l=len(a)\n",
    "for i in range(l):\n",
    "    if a[i] !=\" \":\n",
    "        print(a[i],end =\"\")"
   ]
  },
  {
   "cell_type": "code",
   "execution_count": 43,
   "id": "281bacc5",
   "metadata": {},
   "outputs": [
    {
     "data": {
      "text/plain": [
       "'n'"
      ]
     },
     "execution_count": 43,
     "metadata": {},
     "output_type": "execute_result"
    }
   ],
   "source": [
    "a=\"python\"\n",
    "a[-1]"
   ]
  },
  {
   "cell_type": "code",
   "execution_count": null,
   "id": "3427e697",
   "metadata": {},
   "outputs": [],
   "source": []
  }
 ],
 "metadata": {
  "kernelspec": {
   "display_name": "Python 3 (ipykernel)",
   "language": "python",
   "name": "python3"
  },
  "language_info": {
   "codemirror_mode": {
    "name": "ipython",
    "version": 3
   },
   "file_extension": ".py",
   "mimetype": "text/x-python",
   "name": "python",
   "nbconvert_exporter": "python",
   "pygments_lexer": "ipython3",
   "version": "3.9.7"
  }
 },
 "nbformat": 4,
 "nbformat_minor": 5
}

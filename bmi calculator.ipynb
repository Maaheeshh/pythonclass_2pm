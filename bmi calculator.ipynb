{
 "cells": [
  {
   "cell_type": "code",
   "execution_count": null,
   "id": "d4696c20",
   "metadata": {},
   "outputs": [],
   "source": [
    "weight=float(input(\"enter weight in kg= \"))\n",
    "height=float(input(\"enter height in foot \"))\\\n",
    "# 1 foot =30.48cm\n",
    "# 1cm=1/30.48foot\n",
    "bmi=(weight*0.3048/height)*100\n",
    "print(f\"your bmi is{bmi}\")\n",
    "if bmi <= 18.4:\n",
    "    print(\"You are underweight.\")\n",
    "elif bmi <= 24.9:\n",
    "    print(\"You are healthy.\")\n",
    "elif bmi <= 29.9:\n",
    "    print(\"You are over weight.\")\n",
    "elif bmi <= 34.9:\n",
    "    print(\"You are severely over weight.\")\n",
    "elif bmi <= 39.9:\n",
    "    print(\"You are obese.\")\n",
    "else:\n",
    "    print(\"You are severely obese.\")\n",
    "\n",
    "\n"
   ]
  },
  {
   "cell_type": "code",
   "execution_count": null,
   "id": "a83353b3",
   "metadata": {},
   "outputs": [],
   "source": [
    "x=[]\n",
    "while True:\n",
    "    if a == 'stop':\n",
    "    a = inp    \n",
    "    break\n",
    "    ut(\"Enter Text: \" )       \n",
    "y=x.append(a)\n",
    "print(x)\n",
    "   "
   ]
  },
  {
   "cell_type": "code",
   "execution_count": null,
   "id": "7462f7cc",
   "metadata": {},
   "outputs": [],
   "source": [
    "x=[]\n",
    "while True:\n",
    "    a = input(\"Enter symptoms: \")\n",
    "    if a == 'stop':\n",
    "        break\n",
    "    print(a)\n",
    "y=x.append(a)\n",
    "print(x)"
   ]
  },
  {
   "cell_type": "code",
   "execution_count": null,
   "id": "7144bd36",
   "metadata": {},
   "outputs": [],
   "source": [
    "a=\"\"\n",
    "n=int(input(\"enter n= \"))\n",
    "for i in range(n):\n",
    "    name=input(\"enter name= \")\n",
    "    headache=input(\" do you have headache yes/no: \")\n",
    "    fever=input(\"do you have fever yes/no: \")\n",
    "    shortnessofBreath=input('do you have shortness of breath yes or no')\n",
    "    cough=input(\"do you have cough yes/no: \")\n",
    "    chestpain=input(\"do you have chestpain yes/no: \")\n",
    "    weightloss=input(\"do you have weightloss yes no :\")\n",
    "    losstasteORsmell=input(\"does you loss taste and smell yes/no: \")\n",
    "    tiredness=input(\"do you feel tiredness yes/no:  \")\n",
    "    gisymptoms=input(\"do you have  nausea, vomiting,fatigue,loss of apetite yes/no:\")\n",
    "    bloodINspttm=input(\"do you have blood in  sputumyes/no:\")\n",
    "    nightsweat=input(\"do you have nightsweat yes/no: \")\n",
    "    data=f\"{headache},{fever},{shortnessofBreath},{cough},{chestpain},{weightloss},{losstasteORsmell},{tiredness},{gisymptoms},{bloodINspttm},{nightsweat}\\n\"\n",
    "    a=a+data\n",
    "\n",
    "    \n",
    "    print(a)\n",
    "\n",
    "\n",
    "    if fever=='yes'and shortnessofBreath=='yes'and cough=='yes'and headache=='yes' and tiredness=='yes'and losstasteORsmell=='yes':\n",
    "        print(\"diagnosis: you are infected by corona virus\")\n",
    "    elif fever=='yes'and chestpain =='yes' and headache=='yes'and bloodINspttm =='yes'and cough=='yes'and gisymptoms=='yes'and weightloss=='yes' and nightsweat=='yes' and tiredness=='yes':\n",
    "        print(\"diagnosis: you ehave infected by mycobacterium tuberculosis ;;disease tuberculosis\")\n",
    "    elif fever=='yes'and chestpain =='yes' and headache=='yes'and cough=='yes'and gisymptoms=='yes'and weightloss=='yes'  and tiredness=='yes':\n",
    "        print(\"diagnosis: you have infected by streptococcus pneumonia;;disease pneumonia\")\n",
    "    else:\n",
    "        print(\"you are healthy\")\n",
    "\n"
   ]
  },
  {
   "cell_type": "code",
   "execution_count": null,
   "id": "dae04b98",
   "metadata": {},
   "outputs": [],
   "source": [
    "a=open('sample.txt','x')  \n",
    "print(a.read())\n",
    "a.close()"
   ]
  },
  {
   "cell_type": "code",
   "execution_count": null,
   "id": "d3885a1c",
   "metadata": {},
   "outputs": [],
   "source": [
    "b=open('dz.txt','w')  #ms word ma khulxa\n",
    "b.write('name ,rollno, physics ,chemistry, math, english, nepali, per, grade\\n')\n",
    "b.write('a')\n",
    "b.close()"
   ]
  },
  {
   "cell_type": "code",
   "execution_count": null,
   "id": "223c13cf",
   "metadata": {},
   "outputs": [],
   "source": [
    "# Dictionary of string and int\n",
    "word_freq = {\n",
    "    \"Hello\": 56,\n",
    "    \"at\": 23,\n",
    "    \"test\": 43,\n",
    "    \"this\": 78}\n",
    "value=43\n",
    "if value in word_freq.values():\n",
    "    print(f\"Yes, Value: '{value}' exists in dictionary\")\n",
    "else:\n",
    "    print(f\"No, Value: '{value}' does not exists in dictionary\")"
   ]
  },
  {
   "cell_type": "code",
   "execution_count": null,
   "id": "c9aefa5b",
   "metadata": {},
   "outputs": [],
   "source": [
    "a=open('sample.txt','r')  \n",
    "print(a.read())\n",
    "a.close()"
   ]
  },
  {
   "cell_type": "code",
   "execution_count": null,
   "id": "8f275656",
   "metadata": {},
   "outputs": [],
   "source": [
    "import pandas as pd \n",
    "df=pd.read_csv('sample.txt')\n",
    "df"
   ]
  },
  {
   "cell_type": "code",
   "execution_count": null,
   "id": "1ae0e6ce",
   "metadata": {},
   "outputs": [],
   "source": [
    "try:\n",
    "    x=open('dz.csv','x')\n",
    "    b.close()\n",
    "except:\n",
    "    pass"
   ]
  },
  {
   "cell_type": "code",
   "execution_count": null,
   "id": "e01df60a",
   "metadata": {},
   "outputs": [],
   "source": [
    "import pandas as pd\n",
    "df=pd.read_csv('dz.csv')\n",
    "df"
   ]
  },
  {
   "cell_type": "code",
   "execution_count": null,
   "id": "1018c725",
   "metadata": {},
   "outputs": [],
   "source": [
    "import pandas as pd\n",
    "df=pd.read_csv('dz.csv')\n",
    "df.head(3)"
   ]
  },
  {
   "cell_type": "code",
   "execution_count": null,
   "id": "8b84697c",
   "metadata": {},
   "outputs": [],
   "source": [
    "import pandas as pd\n",
    "df=pd.read_csv('dz.csv',index_col='sn')\n",
    "df"
   ]
  },
  {
   "cell_type": "code",
   "execution_count": null,
   "id": "4f232120",
   "metadata": {},
   "outputs": [],
   "source": [
    "import pandas as pd\n",
    "df=pd.read_csv('dz.csv',index_col='sn',usecols=['sn','name'])\n",
    "df.tail(3)"
   ]
  },
  {
   "cell_type": "code",
   "execution_count": null,
   "id": "814ca905",
   "metadata": {},
   "outputs": [],
   "source": [
    "import pandas as pd\n",
    "df=pd.read_csv('dz.csv',index_col='sn')\n",
    "df.iloc[0:4]"
   ]
  },
  {
   "cell_type": "code",
   "execution_count": null,
   "id": "ba424232",
   "metadata": {},
   "outputs": [],
   "source": [
    "import pandas as pd\n",
    "df=pd.read_csv('dz.csv',index_col='sn')\n",
    "df.loc[2:4]"
   ]
  },
  {
   "cell_type": "code",
   "execution_count": null,
   "id": "f77aacff",
   "metadata": {},
   "outputs": [],
   "source": [
    "import pandas as pd\n",
    "df=pd.read_csv('dz.csv',index_col='sn')\n",
    "df[df['age']>50]"
   ]
  },
  {
   "cell_type": "code",
   "execution_count": null,
   "id": "da3151a9",
   "metadata": {},
   "outputs": [],
   "source": [
    "import pandas as pd\n",
    "df=pd.read_csv('dz.csv',index_col='sn')\n",
    "df[(df['name']=='hari')|(df['name']=='shyam')]"
   ]
  },
  {
   "cell_type": "code",
   "execution_count": null,
   "id": "7ed7dbfc",
   "metadata": {},
   "outputs": [],
   "source": [
    "import pandas as pd\n",
    "data=pd.read_csv('dz.csv',index_col='sn')\n",
    "data[(data['name']=='hari')|(data['name']=='shyam')]\n"
   ]
  },
  {
   "cell_type": "code",
   "execution_count": null,
   "id": "e76d5205",
   "metadata": {},
   "outputs": [],
   "source": [
    "import pandas as pd\n",
    "df=pd.read_csv('dz.csv',index_col='sn')\n",
    "df=df[df['age']>50]\n",
    "df.to_csv('new_data1.csv')"
   ]
  },
  {
   "cell_type": "code",
   "execution_count": null,
   "id": "57f64eb2",
   "metadata": {},
   "outputs": [],
   "source": [
    "if <condition>:\n",
    "    if <condition>\n",
    "    else<condition>"
   ]
  },
  {
   "cell_type": "code",
   "execution_count": null,
   "id": "839501a5",
   "metadata": {},
   "outputs": [],
   "source": [
    "n=int(input(\"enter n=\"))\n",
    "if n>=0:\n",
    "    if n%2==0:\n",
    "        print('the no is +ve and even')\n",
    "    else:\n",
    "        print(\"the no i s +ve and odd\")\n",
    "else:\n",
    "    print(\"the no is -ve\")"
   ]
  },
  {
   "cell_type": "code",
   "execution_count": null,
   "id": "1a93038b",
   "metadata": {},
   "outputs": [],
   "source": [
    "a=int(input(\"enter a= \"))\n",
    "b=int(input(\"enter b= \"))\n",
    "o=input(\"enter + - * / \")\n",
    "if o==\"+\":\n",
    "    print(a+b)\n",
    "elif o==\"-\":\n",
    "    print(a-b)\n",
    "elif o==\"*\":\n",
    "    print(a*b)\n",
    "elif o==\"/\":\n",
    "    if b!=0:\n",
    "        print(a/b) \n",
    "    elif b==0:\n",
    "        print(\"Value of b cannot be zero\")\n",
    "else:\n",
    "    print(\"invalid operator\")\n"
   ]
  },
  {
   "cell_type": "code",
   "execution_count": null,
   "id": "3c2e1562",
   "metadata": {},
   "outputs": [],
   "source": [
    "a=int(input(\"enter a= \"))\n",
    "b=int(input(\"enter b= \"))\n",
    "o=input(\"enter + - * / \")\n",
    "if o==\"+\":\n",
    "    print(a+b)\n",
    "elif o==\"-\":\n",
    "    print(a-b)\n",
    "elif o==\"*\":\n",
    "    print(a*b)\n",
    "elif o==\"/\":\n",
    "    if b!=0:\n",
    "        print(a/b)\n",
    "    else:\n",
    "        print(\"the value of b can not be zero\")\n",
    "else:\n",
    "      print(\"invalid operator\")"
   ]
  },
  {
   "cell_type": "code",
   "execution_count": null,
   "id": "6260f404",
   "metadata": {},
   "outputs": [],
   "source": [
    "physics=int(input(\"enter physics maarks\"))\n",
    "chemistry=int(input(\"enter physics maarks\"))\n",
    "math=int(input(\"enter physics maarks\"))\n",
    "english=int(input(\"enter physics maarks\"))\n",
    "nepali=int(input(\"enter nepali marks\"))\n",
    "total=physics+chemistry+math+english+nepali\n",
    "per=total/5\n",
    "if per>=80:\n",
    "    print(\"a grade\")\n",
    "elif per>=60:\n",
    "    print(\"b grade\")\n",
    "elif per>=40:\n",
    "    print(\"c grade\")\n",
    "else:\n",
    "    print(\"fail\")"
   ]
  },
  {
   "cell_type": "code",
   "execution_count": null,
   "id": "9d8e7b75",
   "metadata": {},
   "outputs": [],
   "source": [
    "for loop \n",
    "for (i=0 i<n i++){}"
   ]
  },
  {
   "cell_type": "code",
   "execution_count": null,
   "id": "8b1ee71d",
   "metadata": {},
   "outputs": [],
   "source": [
    "range(5) 0 1 2 3 4\n",
    "range(1,5) 1 2 3 4\n",
    "range(1,10,2) 1 3 5 7 9"
   ]
  },
  {
   "cell_type": "code",
   "execution_count": null,
   "id": "0ae41e15",
   "metadata": {},
   "outputs": [],
   "source": [
    "for i in range(5):\n",
    "    print(i)"
   ]
  },
  {
   "cell_type": "code",
   "execution_count": null,
   "id": "4735e959",
   "metadata": {},
   "outputs": [],
   "source": [
    "for i in range(1,5):\n",
    "    print(i)"
   ]
  },
  {
   "cell_type": "code",
   "execution_count": null,
   "id": "6f637dbc",
   "metadata": {},
   "outputs": [],
   "source": [
    "for i in range(1,5,2):   #float use garna mildaina\n",
    "    print(i)"
   ]
  },
  {
   "cell_type": "code",
   "execution_count": null,
   "id": "3bc4bd3d",
   "metadata": {},
   "outputs": [],
   "source": [
    "for i in range(0,11,2):\n",
    "    print(i)"
   ]
  },
  {
   "cell_type": "code",
   "execution_count": null,
   "id": "712bc09d",
   "metadata": {},
   "outputs": [],
   "source": [
    "for i in range(0,11,):\n",
    "    if i%2==0:\n",
    "        print(i)"
   ]
  },
  {
   "cell_type": "code",
   "execution_count": null,
   "id": "2df864a7",
   "metadata": {},
   "outputs": [],
   "source": [
    "n= int(input(\"enter n= \"))\n",
    "for i in range(1,11):\n",
    "    print(n,\"*\",i,\"=\", n*i)\n",
    "    "
   ]
  },
  {
   "cell_type": "code",
   "execution_count": null,
   "id": "ad4e9c63",
   "metadata": {},
   "outputs": [],
   "source": [
    "import pandas as pd \n",
    "data=pd.read_csv('data.csv',index_col='sn')\n",
    "data=data[data['age']>50]\n",
    "data.to_csv('new_data.csv')"
   ]
  },
  {
   "cell_type": "code",
   "execution_count": null,
   "id": "d4289fbd",
   "metadata": {},
   "outputs": [],
   "source": [
    "import pandas as pd\n",
    "data={'sn':[1,2,3],\n",
    "      'name':['ram','None','sita'],\n",
    "      'age':[23,45,34],\n",
    "     'address':['kathmandu','patan','bhaktapur']}\n",
    "df=pd.DataFrame(data)\n",
    "df"
   ]
  },
  {
   "cell_type": "code",
   "execution_count": null,
   "id": "ba9a658a",
   "metadata": {},
   "outputs": [],
   "source": [
    "df.to_csv('infos.csv')"
   ]
  },
  {
   "cell_type": "code",
   "execution_count": null,
   "id": "a75d9d06",
   "metadata": {},
   "outputs": [],
   "source": [
    "import csv\n",
    "fields=[['name','age','address'],\n",
    "        ['ram',34,'ktm'],\n",
    "        ['kamal',28,'baluwatar']]\n",
    "with open('books.csv','w') as f:\n",
    "    x=csv.writer(f)\n",
    "    for i in fields:\n",
    "        x.writerow(i)"
   ]
  },
  {
   "cell_type": "code",
   "execution_count": null,
   "id": "7401e75b",
   "metadata": {},
   "outputs": [],
   "source": [
    "import csv\n",
    "fields=['kamal','28','baluwatar']\n",
    "with open('book.csv','a') as f:\n",
    "    x=csv.writer(f)\n",
    "    x.writerow(fields)"
   ]
  },
  {
   "cell_type": "code",
   "execution_count": null,
   "id": "09962796",
   "metadata": {},
   "outputs": [],
   "source": [
    "import csv\n",
    "fields=[['name','age','address'],\n",
    "        ['ram',34,'ktm'],\n",
    "        ['kamal',28,'baluwatar']]\n",
    "with open('books.csv','a') as f:\n",
    "    x=csv.writer(f)\n",
    "    for i in fields:\n",
    "        x.writerow(i)"
   ]
  },
  {
   "cell_type": "code",
   "execution_count": null,
   "id": "53d686bd",
   "metadata": {},
   "outputs": [],
   "source": [
    "import csv\n",
    "with open('books.csv')as csvfile:\n",
    "    reader=csv.DictReader(csvfile)\n",
    "    for row in reader:\n",
    "        print(dict(row))"
   ]
  },
  {
   "cell_type": "code",
   "execution_count": null,
   "id": "3002cde9",
   "metadata": {},
   "outputs": [],
   "source": [
    "import csv\n",
    "all_data=[]\n",
    "with open('books.csv')as csvfile:\n",
    "    reader=csv.DictReader(csvfile)\n",
    "    for row in reader:\n",
    "        all_data.append(dict(row))\n",
    "all_data"
   ]
  },
  {
   "cell_type": "code",
   "execution_count": null,
   "id": "b88c8568",
   "metadata": {},
   "outputs": [],
   "source": [
    "import pandas as pd​\n",
    "\n",
    "df1 = pd.DataFrame({'Names': ['Andreas', 'George', 'Steve',​\n",
    "\n",
    "                           'Sarah', 'Joanna', 'Hanna'],​\n",
    "\n",
    "                   'Age':[21, 22, 20, 19, 18, 23]})​\n",
    "\n",
    "df2 = pd.DataFrame({'Names': ['Pete', 'Jordan', 'Gustaf',​\n",
    "\n",
    "                           'Sophie', 'Sally', 'Simone'],​\n",
    "\n",
    "                   'Age':[22, 21, 19, 19, 29, 21]})​\n",
    "\n",
    "df3 = pd.DataFrame({'Names': ['Ulrich', 'Donald', 'Jon',​\n",
    "\n",
    "                           'Jessica', 'Elisabeth', 'Diana'],​\n",
    "\n",
    "                   'Age':[21, 21, 20, 19, 19, 22]})​\n",
    "\n",
    " ​\n",
    "\n",
    " ​\n",
    "\n",
    "df = pd.concat([df1, df2, df3], keys =['Group1', 'Group2', 'Group3'], ​\n",
    "\n",
    "               names=['Group', 'Row Num']).reset_index()​\n",
    "\n",
    " ​\n",
    "\n",
    "df.to_csv('boooks.csv', index=False)​"
   ]
  },
  {
   "cell_type": "code",
   "execution_count": null,
   "id": "f8bf57aa",
   "metadata": {},
   "outputs": [],
   "source": [
    "import pandas as pd\n",
    "\n",
    "df1 = pd.DataFrame({'Names': ['Andreas', 'George', 'Steve',\n",
    "\n",
    "                           'Sarah', 'Joanna', 'Hanna'],\n",
    "\n",
    "                   'Age':[21, 22, 20, 19, 18, 23]})\n",
    "\n",
    "df2 = pd.DataFrame({'Names': ['Pete', 'Jordan', 'Gustaf',\n",
    "\n",
    "                           'Sophie', 'Sally', 'Simone'],\n",
    "\n",
    "                   'Age':[22, 21, 19, 19, 29, 21]})\n",
    "\n",
    "df3 = pd.DataFrame({'Names': ['Ulrich', 'Donald', 'Jon',\n",
    "\n",
    "                           'Jessica', 'Elisabeth', 'Diana'],\n",
    "\n",
    "                   'Age':[21, 21, 20, 19, 19, 22]})\n",
    "\n",
    " \n",
    "\n",
    " \n",
    "\n",
    "df = pd.concat([df1, df2, df3])\n",
    "#                names=['Group', 'Row Num']).reset_index()\n",
    "\n",
    " \n",
    "\n",
    "df.to_csv('boooks.csv')\n",
    "df"
   ]
  },
  {
   "cell_type": "code",
   "execution_count": null,
   "id": "713d2260",
   "metadata": {},
   "outputs": [],
   "source": [
    "inhertance encapsulation polymorphism    oop reusable"
   ]
  },
  {
   "cell_type": "code",
   "execution_count": null,
   "id": "ae4fec84",
   "metadata": {},
   "outputs": [],
   "source": [
    "class Hello:     #class  define\n",
    "    print(\"hello world\")\n",
    "obj=Hello()    #obj le #class lai initialoize garne"
   ]
  },
  {
   "cell_type": "code",
   "execution_count": null,
   "id": "6dafd93f",
   "metadata": {},
   "outputs": [],
   "source": [
    "class Hello:   #class\n",
    "    def hello(self):    #method\n",
    "        print(\"hello world\")\n",
    "    \n",
    "obj=Hello()             #object\n",
    "obj.hello()"
   ]
  },
  {
   "cell_type": "code",
   "execution_count": null,
   "id": "f2b23fe1",
   "metadata": {},
   "outputs": [],
   "source": [
    "class Hello:   #class\n",
    "    @staticmethod\n",
    "    def hello():    #method\n",
    "        print(\"hello world\")\n",
    "    \n",
    "obj=Hello()             #object\n",
    "obj.hello()"
   ]
  },
  {
   "cell_type": "code",
   "execution_count": null,
   "id": "4fcfd525",
   "metadata": {},
   "outputs": [],
   "source": [
    "class Cal:   #class\n",
    "    @staticmethod\n",
    "    def area():    #method\n",
    "        l=int(input(\"enter l=\"))\n",
    "        b=int(input(\"input b= \"))\n",
    "        a=l*b\n",
    "        print(a)\n",
    "    \n",
    "obj=Cal()             #object\n",
    "obj.area()"
   ]
  },
  {
   "cell_type": "code",
   "execution_count": null,
   "id": "3184f18a",
   "metadata": {},
   "outputs": [],
   "source": [
    "class Cal:   #class\n",
    "    def area(self,l,b):    #method      self alz frist parameter  \n",
    "        \n",
    "        a=l*b\n",
    "        print(a)\n",
    "    def volume(self,l,b,h):\n",
    "        v=l*b*h\n",
    "        print(v)\n",
    "l=int(input(\"enter l=\"))\n",
    "b=int(input(\"input b= \"))\n",
    "h=int(input(\"enter h= \"))\n",
    "    \n",
    "obj=Cal()             #object\n",
    "obj.area(l,b)\n",
    "obj.volume(l,b,h)"
   ]
  },
  {
   "cell_type": "code",
   "execution_count": null,
   "id": "a0212444",
   "metadata": {},
   "outputs": [],
   "source": [
    "class Cal:   #class\n",
    "    \n",
    "    def area(self,l,b):    #method      self alz frist parameter  \n",
    "        \n",
    "        a=l*b\n",
    "        print(a)\n",
    "    def volume(self,l,b,h):\n",
    "        v=l*b*h\n",
    "        print(v)\n",
    "l=int(input(\"enter l=\"))\n",
    "b=int(input(\"input b= \"))\n",
    "h=int(input(\"enter h= \"))\n",
    "    \n",
    "obj=Cal()             #object\n",
    "obj.area(l,b)\n",
    "obj.volume(l,b,h)"
   ]
  },
  {
   "cell_type": "code",
   "execution_count": null,
   "id": "b6e67926",
   "metadata": {},
   "outputs": [],
   "source": [
    "class Area:\n",
    "    def _init_(self):\n",
    "        pass\n",
    "    def area(self):\n",
    "        pass\n",
    "obj=Area()"
   ]
  },
  {
   "cell_type": "code",
   "execution_count": null,
   "id": "55ebf37c",
   "metadata": {},
   "outputs": [],
   "source": [
    "class Area:\n",
    "    def _init_(self):\n",
    "        l=int(input(\"enter l= \"))\n",
    "        b=int(input(\"enter b= \"))\n",
    "\n",
    "    def area(self):\n",
    "        a=l*b\n",
    "        print(a)\n",
    "obj=Area()\n",
    "obj.area()"
   ]
  },
  {
   "cell_type": "code",
   "execution_count": null,
   "id": "c362f1e8",
   "metadata": {},
   "outputs": [],
   "source": [
    "class Area:\n",
    "    def _init_(self):\n",
    "        self.l=int(input(\"enter l= \"))\n",
    "        self.b=int(input(\"enter b= \"))\n",
    "    def area(this):\n",
    "        a = this.l*this.b\n",
    "        print(a)\n",
    "obj = Area()\n",
    "obj.area()\n",
    "print(obj.a,obj.b)\n"
   ]
  },
  {
   "cell_type": "raw",
   "id": "59c68b9a",
   "metadata": {},
   "source": [
    "class Area:\n",
    "    def _init_(self):\n",
    "        self.l=int(input(\"enter l= \"))\n",
    "        self.b=int(input(\"enter b= \"))\n",
    "    def volume(this,h):\n",
    "        a = this.l*this.b*h\n",
    "        print(a)\n",
    "obj = Area()\n",
    "obj.volume(2)\n",
    "print(obj.l,obj.b)\n"
   ]
  },
  {
   "cell_type": "code",
   "execution_count": null,
   "id": "edb1fbb9",
   "metadata": {},
   "outputs": [],
   "source": [
    "class Area:\n",
    "    def _init_(self):\n",
    "        self.l=int(input(\"enter l=\"))\n",
    "        self.b=int(input(\"enter b= \"))\n",
    "    def volume(this,h):\n",
    "        v=this.l*this.b*h\n",
    "        print(v)\n",
    "obj = Area()\n",
    "obj.volume(2)\n",
    "print(obj.l,obj.b)"
   ]
  },
  {
   "cell_type": "raw",
   "id": "508f474f",
   "metadata": {},
   "source": []
  },
  {
   "cell_type": "code",
   "execution_count": null,
   "id": "b3e5b445",
   "metadata": {},
   "outputs": [],
   "source": [
    "a=12\n",
    "b=34\n",
    "print(\"the sum of a and b\",a+b)    #procedure audiated programing"
   ]
  },
  {
   "cell_type": "code",
   "execution_count": null,
   "id": "bb653ea9",
   "metadata": {},
   "outputs": [],
   "source": [
    "class Number:\n",
    "    def sum(self):\n",
    "        return self.a + self.b\n",
    "num=Number()\n",
    "num.a=12\n",
    "num.b=34\n",
    "s=num.sum()\n",
    "print(s)"
   ]
  },
  {
   "cell_type": "code",
   "execution_count": null,
   "id": "91d4bda1",
   "metadata": {},
   "outputs": [],
   "source": [
    "PascalCase\n",
    "employname  PasCalcase\n",
    "camalcase\n",
    "isNumeric isfloatOrInt  camalCase "
   ]
  },
  {
   "cell_type": "code",
   "execution_count": null,
   "id": "bb16999c",
   "metadata": {},
   "outputs": [],
   "source": [
    "class RailwayForm:\n",
    "    formType=\"RailwayForm\"\n",
    "    def printdata(self):\n",
    "        print(f\"name is {self.name}\")\n",
    "        print(f\"train is {self.train}\")\n",
    "harrysApplication=RailwayForm()\n",
    "harrysApplication.name=\"harry\"\n",
    "            \n",
    "harrysApplication.train=\"rajdhani express\"\n",
    "               \n",
    "harrysApplication.printdata()"
   ]
  },
  {
   "cell_type": "code",
   "execution_count": null,
   "id": "8879aae8",
   "metadata": {},
   "outputs": [],
   "source": [
    "import pandas as pd\n",
    "pd.DataFrame()"
   ]
  },
  {
   "cell_type": "code",
   "execution_count": null,
   "id": "84d71d5d",
   "metadata": {},
   "outputs": [],
   "source": [
    "class Remote():\n",
    "    pass\n",
    "class Player:\n",
    "    def moveRight(self):\n",
    "        pass\n",
    "    def moveLeft(self):\n",
    "        pass\n",
    "    def moveTop(self):\n",
    "        pass\n",
    "remote1=Remote()\n",
    "player1=Player()\n",
    "if(remote1.isLefPressed()):\n",
    "    player1.moveleft()"
   ]
  },
  {
   "cell_type": "code",
   "execution_count": null,
   "id": "6f2684e4",
   "metadata": {},
   "outputs": [],
   "source": [
    "class Employee:\n",
    "    company=\"google\"\n",
    "    salary=100\n",
    "harry=Employee()\n",
    "rajani=Employee()\n",
    "harry.salary=300\n",
    "rajani.salary=400\n",
    "print(harry.company)\n",
    "print(rajani.company)\n",
    "Employee.company=\"youtube\"\n",
    "\n",
    "print(harry.company)\n",
    "print(rajani.company)\n",
    "print(harry.salary)\n",
    "print(rajani.salary)"
   ]
  },
  {
   "cell_type": "code",
   "execution_count": null,
   "id": "52cb63b4",
   "metadata": {},
   "outputs": [],
   "source": [
    "instance class atrribute"
   ]
  },
  {
   "cell_type": "code",
   "execution_count": null,
   "id": "a2f3867b",
   "metadata": {},
   "outputs": [],
   "source": [
    "class Employee:\n",
    "    company=\"google\"\n",
    "    salary=100\n",
    "#creating instance attribute salary for both the object\n",
    "harry=Employee()\n",
    "rajani=Employee()\n",
    "harry.salary=300\n",
    "rajani.salary=400\n",
    "print(harry.company)\n",
    "print(rajani.company)\n",
    "Employee.company=\"youtube\"\n",
    "\n",
    "\n",
    "print(harry.company)\n",
    "print(rajani.company)\n",
    "harry.salary=45\n",
    "print(harry.salary)\n",
    "print(rajani.salary)\n",
    "print(rajani.address)   #throws an error as address is not present in class"
   ]
  },
  {
   "cell_type": "code",
   "execution_count": null,
   "id": "2e36b67e",
   "metadata": {},
   "outputs": [],
   "source": [
    "#self\n",
    "class Employee:\n",
    "    company=\"google\"\n",
    "    def getsalary(self):\n",
    "        print(f\"salary for this employee working in {self.company}  is {self.salary}\")\n",
    "harry=Employee()\n",
    "harry.salary=100000\n",
    "harry.getsalary()  # Employee.getsalary(harry)"
   ]
  },
  {
   "cell_type": "code",
   "execution_count": null,
   "id": "7da31f1e",
   "metadata": {},
   "outputs": [],
   "source": [
    "#static method\n",
    "#self\n",
    "class Employee:\n",
    "    company=\"google\"\n",
    "    def getsalary(self,signature):\n",
    "        print(f\"salary for this employee working in {self.company}  is {self.salary}\\n {signature}\")\n",
    "    @staticmethod  \n",
    "    def greet():\n",
    "        print(\"good morning sir\")\n",
    "    @staticmethod\n",
    "    def time():\n",
    "        print(\"the time is 9 am in mrng\")\n",
    "harry=Employee()\n",
    "harry.salary=100000\n",
    "harry.getsalary(\"thanks\")  # Employee.getsalary(harry)\n",
    "harry.greet()\n",
    "harry.time()\n",
    "\n"
   ]
  },
  {
   "cell_type": "code",
   "execution_count": null,
   "id": "2f719661",
   "metadata": {},
   "outputs": [],
   "source": [
    "constructor.py"
   ]
  },
  {
   "cell_type": "code",
   "execution_count": null,
   "id": "742da036",
   "metadata": {},
   "outputs": [],
   "source": [
    "class Employee:\n",
    "    company=\"google\"\n",
    "    \n",
    "    \n",
    "    def __init__(self,name,salary,subunit):\n",
    "        print(\"employee is created\")\n",
    "        self.name=name\n",
    "        self.salary=salary\n",
    "        self.subunit=subunit\n",
    "    def getDetails(self):\n",
    "        print(f\"the name of employee is {self.name}\")\n",
    "        print(f\"the name of employee is {self.salary}\")\n",
    "        print(f\"the name of employee is {self.subunit}\")\n",
    "#         print(\"employee is created\")\n",
    "    def getsalary(self,signature):\n",
    "        print(f\"salary for this employee working in {self.company}  is {self.salary}\\n\")\n",
    "    @staticmethod  \n",
    "    def greet():\n",
    "        print(\"good morning sir\")\n",
    "    @staticmethod\n",
    "    def time():\n",
    "        print(\"the time is 9 am in mrng\")\n",
    "harry=Employee(name,salary,subunit)\n",
    "harry.salary=100000\n",
    "harry.getsalary(\"thanks\")  # Employee.getsalary(harry)\n",
    "harry.greet()\n",
    "harry.time()\n",
    "harry=Employee(\"harry\",10000,\"printers\")\n",
    "\n"
   ]
  },
  {
   "cell_type": "code",
   "execution_count": null,
   "id": "c6c65461",
   "metadata": {},
   "outputs": [],
   "source": [
    "class Programmer:\n",
    "    company=\"microsoft\"\n",
    "    \n",
    "    def __init__(self,name,product):\n",
    "        self.name=name\n",
    "        self.product=product\n",
    "    def getInfo(self):\n",
    "        print(f\"the name of programmer is {self.name} and the product is {self.product}\")\n",
    "        \n",
    "        \n",
    "harry=Programmer(\"harry\",\"skype\")\n",
    "alka=Programmer(\"alka\",\"github\")\n",
    "harry.getInfo()"
   ]
  },
  {
   "cell_type": "code",
   "execution_count": null,
   "id": "a971e3e0",
   "metadata": {},
   "outputs": [],
   "source": [
    "class Animal:\n",
    "    def eat(self):\n",
    "        print(\"i can eat\")\n",
    "class Dog(Animal):\n",
    "    def bark(self):\n",
    "        print(\"i can bark\")\n",
    "class Cat(Dog):\n",
    "    def getgrumpy(self):\n",
    "        print(\"i can grumpy\")\n",
    "dog1=Dog()\n",
    "    \n",
    "dog1.bark()\n",
    "dog1.eat()\n",
    "cat1=Cat()\n",
    "cat1.eat()\n",
    "cat1.bark()\n"
   ]
  },
  {
   "cell_type": "code",
   "execution_count": null,
   "id": "ec070ead",
   "metadata": {},
   "outputs": [],
   "source": [
    "#multilevel \n",
    "class A:\n",
    "    pass \n",
    "class B(A):\n",
    "    pass\n",
    "class C(A):\n",
    "    pass\n",
    "obj=C()"
   ]
  },
  {
   "cell_type": "code",
   "execution_count": null,
   "id": "826e9de7",
   "metadata": {},
   "outputs": [],
   "source": [
    "#multiple inheritance\n",
    "class A:\n",
    "    pass \n",
    "class B:\n",
    "    pass\n",
    "class C(A,B):\n",
    "    pass\n",
    "obj=C()\n"
   ]
  },
  {
   "cell_type": "code",
   "execution_count": null,
   "id": "e117972c",
   "metadata": {},
   "outputs": [],
   "source": [
    "class A:\n",
    "    print(\"this is class A\") \n",
    "class B(A):\n",
    "    print(\"this is class B\")\n",
    "class C(B):\n",
    "    print(\"this is class C\")\n",
    "obj=C()"
   ]
  },
  {
   "cell_type": "code",
   "execution_count": null,
   "id": "f8ea510b",
   "metadata": {},
   "outputs": [],
   "source": [
    "class A:\n",
    "    print(\"this is class A\") \n",
    "class B:\n",
    "    print(\"this is class B\")\n",
    "class C(B,A):\n",
    "    print(\"this is class C\")\n",
    "obj=C()"
   ]
  },
  {
   "cell_type": "code",
   "execution_count": null,
   "id": "b497b0a8",
   "metadata": {},
   "outputs": [],
   "source": [
    "class A:\n",
    "    def __init__(self,add):\n",
    "        self.add=add\n",
    "    def my_add(self):\n",
    "        return self.add\n",
    "        \n",
    "class B(A):\n",
    "    def __init__(self,name,age,add):\n",
    "        self.name=name\n",
    "        self.age=age\n",
    "        A.__init__(self,add)\n",
    "    def hello(self):\n",
    "        print(f\"hello world i am{self.name} i am {self.age} years old i am from {self.add}\")\n",
    "name=input(\"enter name \") \n",
    "age=int(input(\"enter age=\"))\n",
    "add=input(\"enter add \")\n",
    "obj=B(name,age,add)\n",
    "obj.hello()\n",
    "address=obj.my_add()\n",
    "print(f\"my add is {address}\")\n",
    "        "
   ]
  },
  {
   "cell_type": "code",
   "execution_count": null,
   "id": "42cc01c0",
   "metadata": {},
   "outputs": [],
   "source": [
    "class A:\n",
    "    def __init__(self,add):\n",
    "        self.add=add\n",
    "    def my_add(self):\n",
    "        return self.add\n",
    "class B(A):\n",
    "    def __init__(self,age,add):\n",
    "        self.age=age\n",
    "        A.__init__(self,add)\n",
    "    def my_info(self):\n",
    "        print(f\"hello i am ram i am {self.age} i am from {self.add}\")\n",
    "class C(B):\n",
    "    def __init__(self,name,age,add):\n",
    "        self.name=name\n",
    "        B.__init__(self,age,add)\n",
    "    def hello(self):\n",
    "        print(f\"hello world i am {self.name} i am {self.age} i am from {self.add}\")\n",
    "name=input(\"enter name= \")\n",
    "age=int(input(\"enter age= \"))\n",
    "add=input(\"enter add= \")\n",
    "obj=C(name,age,add)\n",
    "obj.hello()\n",
    "obj.my_info()\n",
    "obj.my_add()\n",
    "    \n",
    "    "
   ]
  },
  {
   "cell_type": "code",
   "execution_count": null,
   "id": "4b8a508f",
   "metadata": {},
   "outputs": [],
   "source": [
    "class A:\n",
    "    def __init__(self,add):\n",
    "        self.add=add\n",
    "    def my_add(self):\n",
    "        return self.add\n",
    "class B:\n",
    "    def __init__(self,age):\n",
    "        self.age=age\n",
    "        \n",
    "    def my_info(self):\n",
    "        print(f\"hello i am ram i am {self.age} i am from {self.add}\")\n",
    "class C(B,A):\n",
    "    def __init__(self,name,age,add):\n",
    "        self.name=name\n",
    "        B.__init__(self,age)\n",
    "        A.__init__(self,add)\n",
    "    def hello(self):\n",
    "        print(f\"hello world i am {self.name} i am {self.age} i am from {self.add}\")\n",
    "name=input(\"enter name= \")\n",
    "age=int(input(\"enter age= \"))\n",
    "add=input(\"enter add= \")\n",
    "obj=C(name,age,add)\n",
    "obj.hello()\n",
    "obj.my_info()\n",
    "obj.my_add()\n",
    "    \n",
    "    "
   ]
  },
  {
   "cell_type": "code",
   "execution_count": null,
   "id": "2517aac2",
   "metadata": {},
   "outputs": [],
   "source": [
    "class Hello:        #class\n",
    "    print(\"hello world\")\n",
    "obj=Hello()           #object\n",
    "    "
   ]
  },
  {
   "cell_type": "code",
   "execution_count": null,
   "id": "20dda924",
   "metadata": {},
   "outputs": [],
   "source": [
    "import random\n",
    "randnumber=random.randint(1,100)\n",
    "# print(randnumber)\n",
    "userguess=None\n",
    "guesses=0\n",
    "while(userguess!=randnumber):\n",
    "    userguess=int(input(\"enter your guess  \"))\n",
    "    guesses+=1\n",
    "    if(userguess==randnumber):\n",
    "        print(\"you guessed it right\")\n",
    "    else:\n",
    "        if(userguess>randnumber):\n",
    "            print(\"you guessed wrong! enter a smaller number\")\n",
    "        else:\n",
    "            print(\"you guessed it wrong! enter a large number\")\n",
    "        \n",
    "print(f\"gou guessed the number in{guesses}  guesses\")\n"
   ]
  },
  {
   "cell_type": "code",
   "execution_count": null,
   "id": "910578fc",
   "metadata": {},
   "outputs": [],
   "source": [
    "with open(\"hiscore.txt\",'r') as f:\n",
    "    hiscore=int(f.read())\n",
    "# if (guesses<hiscore):\n",
    "#     print(\"you have just broken the high score\")\n",
    "#     with open(\"hiscore.txt\",'w') as f:\n",
    "#         f.write(guesses)"
   ]
  },
  {
   "cell_type": "code",
   "execution_count": null,
   "id": "66044221",
   "metadata": {},
   "outputs": [],
   "source": [
    "with open('hiscore.txt','x') as f:\n",
    "    \n",
    "    "
   ]
  },
  {
   "cell_type": "code",
   "execution_count": null,
   "id": "57eb7bf1",
   "metadata": {},
   "outputs": [],
   "source": [
    "if (guesses<hiscore):\n",
    "    print(\"you have just broken the high score\")\n",
    "    with open(\"hiscore.txt\",'w') as f:\n",
    "        f.write(guesses)"
   ]
  },
  {
   "cell_type": "code",
   "execution_count": null,
   "id": "3d72310d",
   "metadata": {},
   "outputs": [],
   "source": [
    "b=open('hiscore1.txt','x')\n",
    "b.close()"
   ]
  },
  {
   "cell_type": "code",
   "execution_count": null,
   "id": "c89effa3",
   "metadata": {},
   "outputs": [],
   "source": [
    "b=open('hiscore1.txt','w')\n",
    "b.write(str(guesses))\n",
    "\n",
    "b.close()"
   ]
  },
  {
   "cell_type": "code",
   "execution_count": null,
   "id": "66dab357",
   "metadata": {},
   "outputs": [],
   "source": [
    "\n",
    "bank module\n",
    "accounts\n",
    "checkbalance\n",
    "withdraw\n",
    "deposit"
   ]
  },
  {
   "cell_type": "code",
   "execution_count": null,
   "id": "9fee274a",
   "metadata": {},
   "outputs": [],
   "source": [
    "#banking application\n",
    "accountno=0\n",
    "customername=\" \"\n",
    "branchcode=\" \"\n",
    "mobileno=0\n",
    "balance=0\n",
    "\n",
    "def createaccounts():\n",
    "    global balance\n",
    "    \n",
    "    accountno=int(input(\"enter account number \"))\n",
    "    customername=input(\"enter name= \")\n",
    "    branchcode=int(input(\"enter branch code\"))\n",
    "    mobileno=int(input(\"enter mobile number \"))\n",
    "   \n",
    "    balance=int(input(\"enter current balance\"))\n",
    "def showaccountdetail():\n",
    "    print(\"accountno: \",accountno)\n",
    "    print(\"customer name \",customername)\n",
    "    print(\"branch code\",branchcode)\n",
    "    print(\"mobile\",mobile)\n",
    "def deposit(amount):\n",
    "    balance=balance+amount\n",
    "    checkbalance()\n",
    "def withdraw(amount):\n",
    "    balance=balance-amount\n",
    "    checkbalance()\n",
    "def checkbalance(balance):\n",
    "#     bal=balance\n",
    "#     balance=balance+amount\n",
    "    print(\"current balance\",balance)\n",
    "ch1='y'\n",
    "while (ch1=='y'):\n",
    "    #main menu\n",
    "    print(\"1 create account\\n 2.withdraw \\n 3.deposit \\n 4.checkbalance\\n\")\n",
    "    choice=int(input(\"select any option\"))\n",
    "    if (choice==1):\n",
    "        createaccounts()\n",
    "    elif(choice==2):\n",
    "        amount=int(input(\"enter amount to withdraw\"))\n",
    "        withdraw(amount)\n",
    "    elif (choice==3):\n",
    "        amount=int(input(\"enter amount to deposit\"))\n",
    "        deposit(amount)\n",
    "    elif (choice==4):\n",
    "        checkbalance(balance)\n",
    "    else:\n",
    "        print(\"please select any 4 option available above\")\n",
    "    print(\"do you want to continue.....    press y\")\n",
    "    ch1=input()\n",
    "\n",
    "\n",
    "\n"
   ]
  },
  {
   "cell_type": "code",
   "execution_count": 5,
   "id": "e7a2074e",
   "metadata": {},
   "outputs": [
    {
     "name": "stdout",
     "output_type": "stream",
     "text": [
      "enter patient name=m\n",
      "enter patient id=7\n",
      "enter age =8\n",
      "enter age= 9\n",
      "enter doctor nameu\n",
      "enter phone number9\n",
      "enter operation date9\n",
      "enter departmento\n"
     ]
    }
   ],
   "source": [
    "class A:\n",
    "    def __init__(self,patient_name,patient_id,age,gender,assigned_doctor,phone_number,operation_date,department):\n",
    "        self.add=add\n",
    "    def my_add(self):\n",
    "        return self.add\n",
    "class B(A):\n",
    "    def __init__(self,age,add):\n",
    "        self.age=age\n",
    "        A.__init__(self,add)\n",
    "    def my_info(self):\n",
    "        print(f\"hello i am ram i am {self.age} i am from {self.add}\")\n",
    "class C(B):\n",
    "    def __init__(self,name,age,add):\n",
    "        self.name=name\n",
    "        B.__init__(self,age,add)\n",
    "    def hello(self):\n",
    "        print(f\"hello world i am {self.name} i am {self.age} i am from {self.add}\")\n",
    "\n",
    "obj=C(name,age,add)\n",
    "obj.hello()\n",
    "obj.my_info()\n",
    "obj.my_add()\n",
    "    \n",
    "    \n",
    "\n",
    "\n",
    "\n",
    "\n",
    "patient_name=input(\"enter patient name=\")\n",
    "patient_id=int(input(\"enter patient id=\"))\n",
    "age=int(input(\"enter age =\"))\n",
    "gender=int(input(\"enter age= \"))\n",
    "assigned_doctor=input(\"enter doctor name\")\n",
    "phone_number=int(input(\"enter phone number\"))\n",
    "operation_date=int(input(\"enter operation date\"))\n",
    "department=input(\"enter department\")\n",
    "print()\n",
    "\n",
    "\n",
    "\n",
    "\n",
    "\n",
    "\n",
    "\n"
   ]
  },
  {
   "cell_type": "code",
   "execution_count": null,
   "id": "bf07f89f",
   "metadata": {},
   "outputs": [],
   "source": [
    "print(\"*************************\\n WELCOME OUR BANK\\n*************************\")\n",
    "print(\"1.CREATE ACCOUNT\\n 2.WITHDRAW\\n 3.DEPOSIT\\n 4.CHECK BALANCE\\n\")\n",
    "a=int(input(\"enter any number sir \"))\n",
    "if (a==1):\n",
    "    print(\"create account\")\n",
    "elif (a==2):\n",
    "    print(\"withdraw\")\n",
    "elif (a==3):\n",
    "    print(\"deposit\")\n",
    "elif (a==4):\n",
    "    print(\"check balance\")\n",
    "else:\n",
    "    print(\"enter any above number\")\n",
    "\n",
    "    "
   ]
  },
  {
   "cell_type": "code",
   "execution_count": null,
   "id": "1af18cdc",
   "metadata": {},
   "outputs": [],
   "source": []
  },
  {
   "cell_type": "code",
   "execution_count": null,
   "id": "0d8038a2",
   "metadata": {},
   "outputs": [],
   "source": []
  },
  {
   "cell_type": "code",
   "execution_count": null,
   "id": "575cd7e8",
   "metadata": {},
   "outputs": [],
   "source": []
  },
  {
   "cell_type": "code",
   "execution_count": null,
   "id": "fab78a34",
   "metadata": {},
   "outputs": [],
   "source": []
  },
  {
   "cell_type": "code",
   "execution_count": null,
   "id": "82c49c92",
   "metadata": {},
   "outputs": [],
   "source": []
  },
  {
   "cell_type": "code",
   "execution_count": null,
   "id": "c21c3468",
   "metadata": {},
   "outputs": [],
   "source": []
  },
  {
   "cell_type": "code",
   "execution_count": null,
   "id": "4a9fc088",
   "metadata": {},
   "outputs": [],
   "source": []
  },
  {
   "cell_type": "code",
   "execution_count": null,
   "id": "16156300",
   "metadata": {},
   "outputs": [],
   "source": []
  }
 ],
 "metadata": {
  "kernelspec": {
   "display_name": "Python 3 (ipykernel)",
   "language": "python",
   "name": "python3"
  },
  "language_info": {
   "codemirror_mode": {
    "name": "ipython",
    "version": 3
   },
   "file_extension": ".py",
   "mimetype": "text/x-python",
   "name": "python",
   "nbconvert_exporter": "python",
   "pygments_lexer": "ipython3",
   "version": "3.9.7"
  }
 },
 "nbformat": 4,
 "nbformat_minor": 5
}

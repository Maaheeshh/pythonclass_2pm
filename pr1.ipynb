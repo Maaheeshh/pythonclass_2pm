{
 "cells": [
  {
   "cell_type": "code",
   "execution_count": null,
   "id": "eea4ad9c",
   "metadata": {},
   "outputs": [],
   "source": [
    "b=open('<file name>','module')\n",
    "b.close()"
   ]
  },
  {
   "cell_type": "code",
   "execution_count": null,
   "id": "2be0d36e",
   "metadata": {},
   "outputs": [],
   "source": [
    "syntax\n",
    "with open('<file name'.'module') as f:\n",
    "    <operation>"
   ]
  },
  {
   "cell_type": "code",
   "execution_count": null,
   "id": "305bf836",
   "metadata": {},
   "outputs": [],
   "source": [
    "r=read file\n",
    "a=append\n",
    "w=write\n",
    "x=create\n",
    "\n"
   ]
  },
  {
   "cell_type": "code",
   "execution_count": 2,
   "id": "b8adb946",
   "metadata": {},
   "outputs": [
    {
     "ename": "FileExistsError",
     "evalue": "[Errno 17] File exists: 'data1.txt'",
     "output_type": "error",
     "traceback": [
      "\u001b[1;31m---------------------------------------------------------------------------\u001b[0m",
      "\u001b[1;31mFileExistsError\u001b[0m                           Traceback (most recent call last)",
      "\u001b[1;32m~\\AppData\\Local\\Temp/ipykernel_21880/2403834504.py\u001b[0m in \u001b[0;36m<module>\u001b[1;34m\u001b[0m\n\u001b[1;32m----> 1\u001b[1;33m \u001b[0mb\u001b[0m\u001b[1;33m=\u001b[0m\u001b[0mopen\u001b[0m\u001b[1;33m(\u001b[0m\u001b[1;34m'data1.txt'\u001b[0m\u001b[1;33m,\u001b[0m\u001b[1;34m'x'\u001b[0m\u001b[1;33m)\u001b[0m\u001b[1;33m\u001b[0m\u001b[1;33m\u001b[0m\u001b[0m\n\u001b[0m\u001b[0;32m      2\u001b[0m \u001b[0mb\u001b[0m\u001b[1;33m.\u001b[0m\u001b[0mclose\u001b[0m\u001b[1;33m(\u001b[0m\u001b[1;33m)\u001b[0m\u001b[1;33m\u001b[0m\u001b[1;33m\u001b[0m\u001b[0m\n",
      "\u001b[1;31mFileExistsError\u001b[0m: [Errno 17] File exists: 'data1.txt'"
     ]
    }
   ],
   "source": [
    "b=open('data1.txt','x')\n",
    "b.close()"
   ]
  },
  {
   "cell_type": "code",
   "execution_count": 3,
   "id": "965a43f0",
   "metadata": {},
   "outputs": [
    {
     "name": "stdout",
     "output_type": "stream",
     "text": [
      "errror occured\n"
     ]
    }
   ],
   "source": [
    "try:\n",
    "    b=open('data1.txt','x')\n",
    "    b.close()\n",
    "except:\n",
    "    print(\"errror occured\")"
   ]
  },
  {
   "cell_type": "code",
   "execution_count": 17,
   "id": "12a8bd20",
   "metadata": {},
   "outputs": [
    {
     "name": "stdout",
     "output_type": "stream",
     "text": [
      "hello world\n",
      "hello world\n",
      "hello world\n",
      "hello world\n",
      "hello world\n",
      "<class 'str'>\n"
     ]
    }
   ],
   "source": [
    "try:\n",
    "    b=open('data1.txt','r')\n",
    "    data=(b.read())\n",
    "    print(data)\n",
    "    print(type(data))\n",
    "    b.close()\n",
    "except:\n",
    "    print(\"error occured\")"
   ]
  },
  {
   "cell_type": "code",
   "execution_count": 18,
   "id": "ca759b06",
   "metadata": {},
   "outputs": [
    {
     "name": "stdout",
     "output_type": "stream",
     "text": [
      "enter x= sdded\n",
      "enter only int data\n"
     ]
    }
   ],
   "source": [
    "try:\n",
    "    x=int(input(\"enter x= \"))\n",
    "except:\n",
    "    print(\"enter only int data\")"
   ]
  },
  {
   "cell_type": "code",
   "execution_count": 19,
   "id": "79f5f313",
   "metadata": {},
   "outputs": [
    {
     "name": "stdout",
     "output_type": "stream",
     "text": [
      "enter x= 2\n",
      "4.0\n"
     ]
    }
   ],
   "source": [
    "import math as m\n",
    "try:\n",
    "    x=int(input(\"enter x= \"))\n",
    "    print(m.pow(x,2))\n",
    "except:\n",
    "    print(\"enter only int data\")"
   ]
  },
  {
   "cell_type": "code",
   "execution_count": 24,
   "id": "c4cf614b",
   "metadata": {},
   "outputs": [],
   "source": [
    "b=open('datas1.txt','w')\n",
    "b.write(\"hello world i am python\")\n",
    "b.close()"
   ]
  },
  {
   "cell_type": "code",
   "execution_count": 25,
   "id": "075406d0",
   "metadata": {},
   "outputs": [
    {
     "name": "stdout",
     "output_type": "stream",
     "text": [
      "enter n= 2\n",
      "enter name= momo\n",
      "enter price= 33\n",
      "enter quantity= 4\n",
      "enter name= chw\n",
      "enter price= 33\n",
      "enter quantity= 1\n",
      "momo 33 4 132\n",
      "chw 33 1 33\n",
      "\n"
     ]
    }
   ],
   "source": [
    "\n",
    "n=int(input(\"enter n= \"))\n",
    "bill= \"\"\n",
    "for i in range(n):\n",
    "      name=input(\"enter name= \")\n",
    "      price=int(input(\"enter price= \"))\n",
    "      quantity=int(input(\"enter quantity= \"))\n",
    "      total=price*quantity\n",
    "      data=f\"{name} {price} {quantity} {total}\\n\"\n",
    "      bill=bill+data\n",
    "print(bill)\n",
    "      "
   ]
  },
  {
   "cell_type": "code",
   "execution_count": 28,
   "id": "8e768f9d",
   "metadata": {},
   "outputs": [],
   "source": [
    "b=open('datas1.txt','w')\n",
    "b.write('product price quantity total\\n')\n",
    "b.write(bill)\n",
    "b.close()"
   ]
  },
  {
   "cell_type": "code",
   "execution_count": 29,
   "id": "9d271ee6",
   "metadata": {},
   "outputs": [
    {
     "name": "stdout",
     "output_type": "stream",
     "text": [
      "enter n= 2\n",
      "enter name= m0m\n",
      "enter price= 33\n",
      "enter quantity= 43\n",
      "enter name= ff\n",
      "enter price= 44\n",
      "enter quantity= 4\n",
      "m0m ,33, 43, 1419\n",
      "ff ,44, 4, 176\n",
      "\n"
     ]
    }
   ],
   "source": [
    "n=int(input(\"enter n= \"))\n",
    "bill= \"\"\n",
    "for i in range(n):\n",
    "      name=input(\"enter name= \")\n",
    "      price=int(input(\"enter price= \"))\n",
    "      quantity=int(input(\"enter quantity= \"))\n",
    "      total=price*quantity\n",
    "      data=f\"{name} ,{price}, {quantity}, {total}\\n\"\n",
    "      bill=bill+data\n",
    "print(bill)\n",
    "      "
   ]
  },
  {
   "cell_type": "code",
   "execution_count": 33,
   "id": "1f2ae901",
   "metadata": {},
   "outputs": [],
   "source": [
    "b=open('datas1.csv','w')  #comma separated value\n",
    "b.write('product price quantity total\\n')\n",
    "b.write(bill)\n",
    "b.close()"
   ]
  },
  {
   "cell_type": "code",
   "execution_count": 34,
   "id": "d9048ec8",
   "metadata": {},
   "outputs": [
    {
     "name": "stdout",
     "output_type": "stream",
     "text": [
      "product price quantity total\n",
      "m0m ,33, 43, 1419\n",
      "ff ,44, 4, 176\n",
      "\n"
     ]
    },
    {
     "data": {
      "text/plain": [
       "<function TextIOWrapper.close()>"
      ]
     },
     "execution_count": 34,
     "metadata": {},
     "output_type": "execute_result"
    }
   ],
   "source": [
    "file=open('datas1.csv')\n",
    "print(file.read())\n",
    "file.close\n"
   ]
  },
  {
   "cell_type": "code",
   "execution_count": 35,
   "id": "ca7b62a3",
   "metadata": {},
   "outputs": [
    {
     "name": "stdout",
     "output_type": "stream",
     "text": [
      "product price quantity total\n",
      "m0m ,33, 43, 1419\n",
      "ff ,44, 4, 176\n",
      "\n"
     ]
    },
    {
     "data": {
      "text/plain": [
       "<function TextIOWrapper.close()>"
      ]
     },
     "execution_count": 35,
     "metadata": {},
     "output_type": "execute_result"
    }
   ],
   "source": [
    "file=open('datas1.csv')\n",
    "x=(file.read())\n",
    "print(x)\n",
    "file.close()\n"
   ]
  },
  {
   "cell_type": "code",
   "execution_count": 37,
   "id": "56cd50fa",
   "metadata": {},
   "outputs": [
    {
     "name": "stdout",
     "output_type": "stream",
     "text": [
      "product price quantity total\n",
      "m0m ,33, 43, 1419\n",
      "ff ,44, 4, 176\n",
      "\n"
     ]
    }
   ],
   "source": [
    "print(x)"
   ]
  },
  {
   "cell_type": "code",
   "execution_count": 38,
   "id": "6b7436d9",
   "metadata": {},
   "outputs": [
    {
     "data": {
      "text/plain": [
       "'product price quantity total\\nm0m ,33, 43, 1419\\nff ,44, 4, 176\\n'"
      ]
     },
     "execution_count": 38,
     "metadata": {},
     "output_type": "execute_result"
    }
   ],
   "source": [
    "x"
   ]
  },
  {
   "cell_type": "code",
   "execution_count": null,
   "id": "16ed3095",
   "metadata": {},
   "outputs": [],
   "source": []
  },
  {
   "cell_type": "code",
   "execution_count": 39,
   "id": "4a78b3b2",
   "metadata": {},
   "outputs": [
    {
     "data": {
      "text/plain": [
       "['product price quantity total', 'm0m ,33, 43, 1419', 'ff ,44, 4, 176', '']"
      ]
     },
     "execution_count": 39,
     "metadata": {},
     "output_type": "execute_result"
    }
   ],
   "source": [
    "x.split('\\n')"
   ]
  },
  {
   "cell_type": "code",
   "execution_count": 41,
   "id": "31355727",
   "metadata": {},
   "outputs": [
    {
     "data": {
      "text/plain": [
       "['product price quantity total', 'm0m ,33, 43, 1419', 'ff ,44, 4, 176']"
      ]
     },
     "execution_count": 41,
     "metadata": {},
     "output_type": "execute_result"
    }
   ],
   "source": [
    "data=x.split('\\n')[0:-1]\n",
    "data"
   ]
  },
  {
   "cell_type": "code",
   "execution_count": 45,
   "id": "19229a81",
   "metadata": {},
   "outputs": [
    {
     "data": {
      "text/plain": [
       "[['product price quantity total'],\n",
       " ['m0m ', '33', ' 43', ' 1419'],\n",
       " ['ff ', '44', ' 4', ' 176']]"
      ]
     },
     "execution_count": 45,
     "metadata": {},
     "output_type": "execute_result"
    }
   ],
   "source": [
    "final_data=[]\n",
    "for i in data:\n",
    "    y=(i.split(','))\n",
    "    final_data.append(y)\n",
    "final_data"
   ]
  },
  {
   "cell_type": "code",
   "execution_count": 46,
   "id": "0eb6f2d9",
   "metadata": {},
   "outputs": [
    {
     "data": {
      "text/plain": [
       "['m0m ', '33', ' 43', ' 1419']"
      ]
     },
     "execution_count": 46,
     "metadata": {},
     "output_type": "execute_result"
    }
   ],
   "source": [
    "final_data[1]"
   ]
  },
  {
   "cell_type": "code",
   "execution_count": 57,
   "id": "bea8954b",
   "metadata": {},
   "outputs": [],
   "source": [
    "for i in final_data:\n",
    "    if \"coke\" in i:\n",
    "        print(i)"
   ]
  },
  {
   "cell_type": "code",
   "execution_count": 60,
   "id": "7525a384",
   "metadata": {},
   "outputs": [
    {
     "name": "stdout",
     "output_type": "stream",
     "text": [
      "enter product name= ff\n",
      "['ff ', '44', ' 4', ' 176']\n"
     ]
    }
   ],
   "source": [
    "product_name=input(\"enter product name= \").lower()\n",
    "for i in final_data:\n",
    "    if product_name in i[0].lower():\n",
    "        print(i)"
   ]
  },
  {
   "cell_type": "code",
   "execution_count": 62,
   "id": "55b9b2a4",
   "metadata": {},
   "outputs": [
    {
     "name": "stdout",
     "output_type": "stream",
     "text": [
      "product price quantity total\n",
      "m0m ,33, 43, 1419\n",
      "ff ,44, 4, 176\n",
      "m0m ,33, 43, 1419\n",
      "ff ,44, 4, 176\n",
      "m0m ,33, 43, 1419\n",
      "ff ,44, 4, 176\n",
      "m0m ,33, 43, 1419\n",
      "ff ,44, 4, 176\n",
      "m0m ,33, 43, 1419\n",
      "ff ,44, 4, 176\n",
      "m0m ,33, 43, 1419\n",
      "ff ,44, 4, 176\n",
      "m0m ,33, 43, 1419\n",
      "ff ,44, 4, 176\n",
      "m0m ,33, 43, 1419\n",
      "ff ,44, 4, 176\n",
      "m0m ,33, 43, 1419\n",
      "ff ,44, 4, 176\n",
      "m0m ,33, 43, 1419\n",
      "ff ,44, 4, 176\n",
      "\n",
      "\n"
     ]
    }
   ],
   "source": [
    "b=open('datas1.csv')\n",
    "print(b.read())\n",
    "b.close()"
   ]
  },
  {
   "cell_type": "code",
   "execution_count": 67,
   "id": "b80f5c8e",
   "metadata": {},
   "outputs": [
    {
     "data": {
      "text/html": [
       "<div>\n",
       "<style scoped>\n",
       "    .dataframe tbody tr th:only-of-type {\n",
       "        vertical-align: middle;\n",
       "    }\n",
       "\n",
       "    .dataframe tbody tr th {\n",
       "        vertical-align: top;\n",
       "    }\n",
       "\n",
       "    .dataframe thead th {\n",
       "        text-align: right;\n",
       "    }\n",
       "</style>\n",
       "<table border=\"1\" class=\"dataframe\">\n",
       "  <thead>\n",
       "    <tr style=\"text-align: right;\">\n",
       "      <th></th>\n",
       "      <th>product</th>\n",
       "      <th>price</th>\n",
       "      <th>quantity</th>\n",
       "      <th>total</th>\n",
       "    </tr>\n",
       "  </thead>\n",
       "  <tbody>\n",
       "    <tr>\n",
       "      <th>0</th>\n",
       "      <td>m0m</td>\n",
       "      <td>33</td>\n",
       "      <td>43</td>\n",
       "      <td>1419</td>\n",
       "    </tr>\n",
       "    <tr>\n",
       "      <th>1</th>\n",
       "      <td>ff</td>\n",
       "      <td>44</td>\n",
       "      <td>4</td>\n",
       "      <td>176</td>\n",
       "    </tr>\n",
       "  </tbody>\n",
       "</table>\n",
       "</div>"
      ],
      "text/plain": [
       "  product   price   quantity   total\n",
       "0    m0m       33         43    1419\n",
       "1     ff       44          4     176"
      ]
     },
     "execution_count": 67,
     "metadata": {},
     "output_type": "execute_result"
    }
   ],
   "source": [
    "import pandas as pd\n",
    "df=pd.read_csv('datas1.csv')\n",
    "df"
   ]
  },
  {
   "cell_type": "code",
   "execution_count": null,
   "id": "28f4b71c",
   "metadata": {},
   "outputs": [],
   "source": []
  }
 ],
 "metadata": {
  "kernelspec": {
   "display_name": "Python 3 (ipykernel)",
   "language": "python",
   "name": "python3"
  },
  "language_info": {
   "codemirror_mode": {
    "name": "ipython",
    "version": 3
   },
   "file_extension": ".py",
   "mimetype": "text/x-python",
   "name": "python",
   "nbconvert_exporter": "python",
   "pygments_lexer": "ipython3",
   "version": "3.9.7"
  }
 },
 "nbformat": 4,
 "nbformat_minor": 5
}

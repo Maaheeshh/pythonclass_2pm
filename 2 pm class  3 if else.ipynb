{
 "cells": [
  {
   "cell_type": "code",
   "execution_count": 1,
   "id": "bad83a6a",
   "metadata": {},
   "outputs": [],
   "source": [
    "# if <condition>:\n",
    "#     <operation>\n",
    "# elif <condition>:\n",
    "#     <operation>\n",
    "# else:\n",
    "#     <operation>\n"
   ]
  },
  {
   "cell_type": "code",
   "execution_count": 2,
   "id": "24587726",
   "metadata": {},
   "outputs": [
    {
     "name": "stdout",
     "output_type": "stream",
     "text": [
      "False\n"
     ]
    }
   ],
   "source": [
    "print(10>20)"
   ]
  },
  {
   "cell_type": "code",
   "execution_count": 3,
   "id": "f2a300d6",
   "metadata": {},
   "outputs": [
    {
     "name": "stdout",
     "output_type": "stream",
     "text": [
      "True\n"
     ]
    }
   ],
   "source": [
    "print(10<20)"
   ]
  },
  {
   "cell_type": "code",
   "execution_count": 4,
   "id": "03847abd",
   "metadata": {},
   "outputs": [
    {
     "data": {
      "text/plain": [
       "True"
      ]
     },
     "execution_count": 4,
     "metadata": {},
     "output_type": "execute_result"
    }
   ],
   "source": [
    "a=10\n",
    "a%2==0"
   ]
  },
  {
   "cell_type": "code",
   "execution_count": 5,
   "id": "7a907a88",
   "metadata": {},
   "outputs": [
    {
     "name": "stdout",
     "output_type": "stream",
     "text": [
      "a is even\n"
     ]
    }
   ],
   "source": [
    "a=10\n",
    "if(a%2==0):\n",
    "    print(\"a is even\")"
   ]
  },
  {
   "cell_type": "markdown",
   "id": "bc4612b3",
   "metadata": {},
   "source": [
    "#a=int(input(\"enter a= \"))\n",
    "if a%2==0:\n",
    "    print(a,\"is even\")\n",
    "else:\n",
    "    print(a,\"is odd\")"
   ]
  },
  {
   "cell_type": "code",
   "execution_count": 6,
   "id": "630e2859",
   "metadata": {},
   "outputs": [
    {
     "name": "stdout",
     "output_type": "stream",
     "text": [
      "enter a= 2\n",
      "a is even\n"
     ]
    }
   ],
   "source": [
    "a=int(input(\"enter a= \"))\n",
    "if a%2==0:\n",
    "    print(\"a is even\")\n",
    "else:\n",
    "    print(\"a is odd\")"
   ]
  },
  {
   "cell_type": "code",
   "execution_count": 8,
   "id": "8edbfa6d",
   "metadata": {},
   "outputs": [
    {
     "name": "stdout",
     "output_type": "stream",
     "text": [
      "enter a= 2\n",
      "enter b= 34\n",
      "34 b is greater\n"
     ]
    }
   ],
   "source": [
    "a=int(input(\"enter a= \"))\n",
    "b=int(input(\"enter b= \"))\n",
    "if a>b:\n",
    "    print(a,\"is greater\")\n",
    "elif b>a:\n",
    "    print(b,\"b is greater\")\n",
    "else:\n",
    "    print(\"both are equal\")"
   ]
  },
  {
   "cell_type": "code",
   "execution_count": 8,
   "id": "1f622169",
   "metadata": {},
   "outputs": [
    {
     "name": "stdout",
     "output_type": "stream",
     "text": [
      "enter a= 1\n",
      "enter b= 2\n",
      "enter + - * / +\n",
      "3\n"
     ]
    }
   ],
   "source": [
    "a=int(input(\"enter a= \"))\n",
    "b=int(input(\"enter b= \"))\n",
    "o=input(\"enter + - * / \")\n",
    "if o==\"+\":\n",
    "    print(a+b)\n",
    "elif o==\"-\":\n",
    "    print(a-b)\n",
    "elif o==\"*\":\n",
    "    print(a*b)\n",
    "elif o==\"/\" and b !=0:\n",
    "    print(a/b) \n",
    "elif o==\"/\" and b!=0:\n",
    "    print(\"value of b can not be zero\")\n",
    "else:\n",
    "    print(\"invalid operator\")\n"
   ]
  },
  {
   "cell_type": "code",
   "execution_count": null,
   "id": "142ed00b",
   "metadata": {},
   "outputs": [],
   "source": []
  },
  {
   "cell_type": "code",
   "execution_count": 9,
   "id": "2b297557",
   "metadata": {},
   "outputs": [
    {
     "name": "stdout",
     "output_type": "stream",
     "text": [
      "1\n",
      "0\n"
     ]
    }
   ],
   "source": [
    "a=True\n",
    "b=False\n",
    "print(a+b)\n",
    "print(a*b)"
   ]
  },
  {
   "cell_type": "code",
   "execution_count": 10,
   "id": "44991906",
   "metadata": {},
   "outputs": [
    {
     "name": "stdout",
     "output_type": "stream",
     "text": [
      "2\n"
     ]
    }
   ],
   "source": [
    "a=True\n",
    "b=True\n",
    "print(a+b)"
   ]
  },
  {
   "cell_type": "code",
   "execution_count": 11,
   "id": "39e83b86",
   "metadata": {},
   "outputs": [],
   "source": [
    "#> < >= <= !="
   ]
  },
  {
   "cell_type": "code",
   "execution_count": 12,
   "id": "69412786",
   "metadata": {},
   "outputs": [],
   "source": [
    "#and& logical operator\n",
    "#or |\n"
   ]
  },
  {
   "cell_type": "code",
   "execution_count": 13,
   "id": "475cda6e",
   "metadata": {},
   "outputs": [
    {
     "data": {
      "text/plain": [
       "False"
      ]
     },
     "execution_count": 13,
     "metadata": {},
     "output_type": "execute_result"
    }
   ],
   "source": [
    "True and False"
   ]
  },
  {
   "cell_type": "code",
   "execution_count": 14,
   "id": "0ae5a244",
   "metadata": {},
   "outputs": [
    {
     "data": {
      "text/plain": [
       "True"
      ]
     },
     "execution_count": 14,
     "metadata": {},
     "output_type": "execute_result"
    }
   ],
   "source": [
    "False or True"
   ]
  },
  {
   "cell_type": "code",
   "execution_count": 15,
   "id": "50921341",
   "metadata": {},
   "outputs": [
    {
     "data": {
      "text/plain": [
       "True"
      ]
     },
     "execution_count": 15,
     "metadata": {},
     "output_type": "execute_result"
    }
   ],
   "source": [
    "(False and False) or True"
   ]
  },
  {
   "cell_type": "code",
   "execution_count": 16,
   "id": "c18da8ad",
   "metadata": {},
   "outputs": [
    {
     "ename": "ValueError",
     "evalue": "invalid literal for int() with base 10: '+'",
     "output_type": "error",
     "traceback": [
      "\u001b[1;31m---------------------------------------------------------------------------\u001b[0m",
      "\u001b[1;31mValueError\u001b[0m                                Traceback (most recent call last)",
      "\u001b[1;32m~\\AppData\\Local\\Temp/ipykernel_5468/1425807657.py\u001b[0m in \u001b[0;36m<module>\u001b[1;34m\u001b[0m\n\u001b[1;32m----> 1\u001b[1;33m \u001b[0mint\u001b[0m\u001b[1;33m(\u001b[0m\u001b[1;34m\"+\"\u001b[0m\u001b[1;33m)\u001b[0m\u001b[1;33m\u001b[0m\u001b[1;33m\u001b[0m\u001b[0m\n\u001b[0m",
      "\u001b[1;31mValueError\u001b[0m: invalid literal for int() with base 10: '+'"
     ]
    }
   ],
   "source": [
    "int(\"+\")"
   ]
  },
  {
   "cell_type": "code",
   "execution_count": null,
   "id": "87486708",
   "metadata": {},
   "outputs": [],
   "source": [
    "#a,b,c \n",
    "a=int(input(\"enter a= \"))\n",
    "b=int(input(\"enter b=\"))\n",
    "c=int(input(\"enter c=\"))\n",
    "if a>b:\n",
    "    print( a is greater)\n",
    "elif a>c:\n",
    "    print(a is greater)\n",
    "elif b>c:\n",
    "    print(b is greater)\n",
    "\n",
    "\n",
    "    \n"
   ]
  },
  {
   "cell_type": "code",
   "execution_count": null,
   "id": "5fb1fe5b",
   "metadata": {},
   "outputs": [],
   "source": [
    "wap to find greatest no between three given number"
   ]
  },
  {
   "cell_type": "code",
   "execution_count": null,
   "id": "6a06fbce",
   "metadata": {},
   "outputs": [],
   "source": [
    "a=float(input(\"enter a= \"))\n",
    "b=float(input(\"enter b= \"))\n",
    "c=float(input(\"enter c= \"))\n",
    "if a>b and a>c:\n",
    "    print( a ,\"is greater\")\n",
    "elif b>c and b>a:\n",
    "    print(b ,\"is greater\")\n",
    "elif c>a and c>b:\n",
    "    print(c, \"is greater\")\n",
    "\n"
   ]
  },
  {
   "cell_type": "markdown",
   "id": "8ebe9238",
   "metadata": {},
   "source": [
    "a=float(input(\"enter a= \"))\n",
    "b=float(input(\"enter b= \"))\n",
    "c=float(input(\"enter c= \"))\n",
    "if a>b and a>c:\n",
    "    greatest=a\n",
    "elif b>c and b>a:\n",
    "    greatest=b\n",
    "elif c>a and c>b:\n",
    "    greatest=c\n",
    "elif a==b and a>c:\n",
    "    greatest=a and b\n",
    "elif a==c and a>b:\n",
    "    greatest=a and c\n",
    "else:\n",
    "        print(\"all are equal\")\n",
    "    \n",
    "print(\"the greatest number is\" ,greatest)\n",
    "\n",
    "\n",
    "\n"
   ]
  },
  {
   "cell_type": "markdown",
   "id": "045b43ff",
   "metadata": {},
   "source": [
    "a=float(input(\"enter a= \"))\n",
    "b=float(input(\"enter b= \"))\n",
    "c=float(input(\"enter c= \"))\n",
    "if a>b and a>c:\n",
    "    greatest=a\n",
    "elif b>c and b>a:\n",
    "    greatest=b\n",
    "elif c>a and c>b:\n",
    "    greatest=c\n",
    "elif a==b and a>c:\n",
    "    greatest=a and b\n",
    "elif a==c and a>b:\n",
    "    greatest=a and c\n",
    "    \n",
    "    \n",
    "else:\n",
    "     equal=a==b==c\n",
    "    \n",
    "print(\"the greatest number is\" ,greatest)\n",
    "(\"all are equal\" , equal)\n",
    "    \n",
    "\n",
    "\n",
    "\n"
   ]
  },
  {
   "cell_type": "markdown",
   "id": "0e2b0320",
   "metadata": {},
   "source": [
    "a=float(input(\"enter a= \"))\n",
    "b=float(input(\"enter b= \"))\n",
    "c=float(input(\"enter c= \"))\n",
    "if a>b and a>c:\n",
    "    greatest=a\n",
    "elif (b>c) & b>a:\n",
    "    greatest=b\n",
    "elif c>a & c>b:\n",
    "    greatest=c\n",
    "elif a==b & a>c:\n",
    "    greatest=a&b\n",
    "elif a==c & a>b:\n",
    "    greatest=a&c\n",
    "    \n",
    "    \n",
    "else:\n",
    "     equal==a==b==c\n",
    "    \n",
    "print(\"the greatest number is\" ,greatest,\"all are equal\" , equal)\n",
    "    \n",
    "\n"
   ]
  },
  {
   "cell_type": "code",
   "execution_count": 19,
   "id": "dc611717",
   "metadata": {},
   "outputs": [
    {
     "name": "stdout",
     "output_type": "stream",
     "text": [
      "enter a= 3\n",
      "enter b= 3\n",
      "enter c= 3\n",
      "the greatest number is 3.0\n"
     ]
    },
    {
     "data": {
      "text/plain": [
       "('all are equal', True)"
      ]
     },
     "execution_count": 19,
     "metadata": {},
     "output_type": "execute_result"
    }
   ],
   "source": [
    "a=float(input(\"enter a= \"))\n",
    "b=float(input(\"enter b= \"))\n",
    "c=float(input(\"enter c= \"))\n",
    "if a>b and a>c:\n",
    "    greatest=a\n",
    "elif b>c and b>a:\n",
    "    greatest=b\n",
    "elif c>a and c>b:\n",
    "    greatest=c\n",
    "elif a==b and a>c:\n",
    "    greatest=a and b\n",
    "elif a==c and a>b:\n",
    "    greatest=a and c\n",
    "    \n",
    "    \n",
    "else:\n",
    "     equal=a==b==c\n",
    "    \n",
    "print(\"the greatest number is\" ,greatest)\n",
    "(\"all are equal\" , equal)\n",
    "    \n"
   ]
  },
  {
   "cell_type": "code",
   "execution_count": 10,
   "id": "164104c5",
   "metadata": {},
   "outputs": [
    {
     "name": "stdout",
     "output_type": "stream",
     "text": [
      "enter a= 45\n",
      "enter b= 45\n",
      "enter c= 45\n",
      "Enter three different numbers\n"
     ]
    }
   ],
   "source": [
    "a=int(input(\"enter a= \"))\n",
    "b=int(input(\"enter b= \"))\n",
    "c=int(input(\"enter c= \"))\n",
    "if(a==b)|(b==c)|(a==c):\n",
    "    print(\"Enter three different numbers\")\n",
    "elif a>b and a>c:\n",
    "    greatest=a\n",
    "    print(greatest)\n",
    "elif b>c & b>a:\n",
    "    greatest=b\n",
    "    print(greatest)\n",
    "elif c>a & c>b:\n",
    "    greatest=c\n",
    "    print(greatest)\n",
    "\n",
    "    "
   ]
  },
  {
   "cell_type": "code",
   "execution_count": null,
   "id": "645264cc",
   "metadata": {},
   "outputs": [],
   "source": []
  },
  {
   "cell_type": "code",
   "execution_count": null,
   "id": "38d7ec13",
   "metadata": {},
   "outputs": [],
   "source": []
  },
  {
   "cell_type": "code",
   "execution_count": null,
   "id": "c040c2d6",
   "metadata": {},
   "outputs": [],
   "source": [
    "if<condition>:\n",
    "    if<condition>\n",
    "    <operation>\n",
    "    else: <condition>\n",
    "        "
   ]
  },
  {
   "cell_type": "code",
   "execution_count": 5,
   "id": "86e4aa53",
   "metadata": {},
   "outputs": [
    {
     "name": "stdout",
     "output_type": "stream",
     "text": [
      "enter n=33\n",
      "the no is +ve and odd\n"
     ]
    }
   ],
   "source": [
    "n=int(input(\"enter n=\"))\n",
    "if n>=0:\n",
    "    if n%2==0:\n",
    "        print(\"the no is +ve and even\")\n",
    "    else:\n",
    "        print(\"the no is +ve and odd\")\n",
    "else:\n",
    "    print(\"the no is -ve\")"
   ]
  },
  {
   "cell_type": "code",
   "execution_count": null,
   "id": "30e3c95c",
   "metadata": {},
   "outputs": [],
   "source": []
  },
  {
   "cell_type": "code",
   "execution_count": 6,
   "id": "4d5f6fa3",
   "metadata": {},
   "outputs": [
    {
     "name": "stdout",
     "output_type": "stream",
     "text": [
      "enter a= 33\n",
      "enter b= 3\n",
      "enter + - * / /\n",
      "11.0\n"
     ]
    }
   ],
   "source": [
    "a=int(input(\"enter a= \"))\n",
    "b=int(input(\"enter b= \"))\n",
    "o=input(\"enter + - * / \")\n",
    "if o==\"+\":\n",
    "    print(a+b)\n",
    "elif o==\"-\":\n",
    "    print(a-b)\n",
    "elif o==\"*\":\n",
    "    print(a*b)\n",
    "elif o==\"/\":\n",
    "    if b!=o:\n",
    "        print(a/b) \n",
    "    else:\n",
    "        print(\"Value of b cannot be negative\")\n",
    "else:\n",
    "    print(\"invalid operator\")\n"
   ]
  },
  {
   "cell_type": "code",
   "execution_count": 12,
   "id": "4282aed6",
   "metadata": {},
   "outputs": [
    {
     "name": "stdout",
     "output_type": "stream",
     "text": [
      "enter physics marks=89\n",
      "enter chemistry marks=78\n",
      "enter math marks=89\n",
      "enter english marks=67\n",
      "enter nepali marks=78\n",
      "A grade\n"
     ]
    }
   ],
   "source": [
    "physics=int(input(\"enter physics marks=\"))\n",
    "chemistry=int(input(\"enter chemistry marks=\"))\n",
    "math=int(input(\"enter math marks=\"))\n",
    "english=int(input(\"enter english marks=\"))\n",
    "nepali=int(input(\"enter nepali marks=\"))\n",
    "total=physics+chemistry+math+english+nepali\n",
    "per=total/5\n",
    "\n",
    "if per>=80:\n",
    "    print(\"A grade\")\n",
    "elif per>=60:\n",
    "    print(\"B grade\")\n",
    "elif per>=40:\n",
    "    print(\"C grade\")\n",
    "else:\n",
    "    print(\"fail\")"
   ]
  },
  {
   "cell_type": "code",
   "execution_count": null,
   "id": "3e427f79",
   "metadata": {},
   "outputs": [],
   "source": []
  },
  {
   "cell_type": "code",
   "execution_count": null,
   "id": "1b822124",
   "metadata": {},
   "outputs": [],
   "source": []
  }
 ],
 "metadata": {
  "kernelspec": {
   "display_name": "Python 3 (ipykernel)",
   "language": "python",
   "name": "python3"
  },
  "language_info": {
   "codemirror_mode": {
    "name": "ipython",
    "version": 3
   },
   "file_extension": ".py",
   "mimetype": "text/x-python",
   "name": "python",
   "nbconvert_exporter": "python",
   "pygments_lexer": "ipython3",
   "version": "3.9.7"
  }
 },
 "nbformat": 4,
 "nbformat_minor": 5
}

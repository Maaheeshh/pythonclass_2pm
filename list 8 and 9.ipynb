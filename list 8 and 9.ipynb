{
 "cells": [
  {
   "cell_type": "code",
   "execution_count": null,
   "id": "9322767d",
   "metadata": {},
   "outputs": [],
   "source": [
    "#list \n",
    "# indexing\n",
    "# ordered\n",
    "# multiple and duplicate\n",
    "# mutable"
   ]
  },
  {
   "cell_type": "code",
   "execution_count": null,
   "id": "6c0790aa",
   "metadata": {},
   "outputs": [],
   "source": [
    "l=[1,2,3,4]\n",
    "print(type(l))\n",
    "print(l)"
   ]
  },
  {
   "cell_type": "code",
   "execution_count": null,
   "id": "fca799de",
   "metadata": {},
   "outputs": [],
   "source": [
    "a=[\"apple\",\"ball\",\"cat\",\"dog\"]\n",
    "print(a[0])"
   ]
  },
  {
   "cell_type": "code",
   "execution_count": null,
   "id": "0dbb091c",
   "metadata": {},
   "outputs": [],
   "source": [
    "a=[\"apple\",\"ball\",\"cat\",\"dog\"]\n",
    "print(a[3])"
   ]
  },
  {
   "cell_type": "code",
   "execution_count": null,
   "id": "25e810e0",
   "metadata": {},
   "outputs": [],
   "source": [
    "a=[\"apple\",\"ball\",\"cat\",\"dog\"]\n",
    "print(a[0:3])"
   ]
  },
  {
   "cell_type": "code",
   "execution_count": null,
   "id": "0ff769a4",
   "metadata": {},
   "outputs": [],
   "source": [
    "a=[\"apple\",\"ball\",\"cat\",\"dog\"]\n",
    "print(a[0:3:2])"
   ]
  },
  {
   "cell_type": "code",
   "execution_count": null,
   "id": "e6334b31",
   "metadata": {},
   "outputs": [],
   "source": [
    "a=[\"apple\",\"ball\",\"cat\",\"dog\",\"apple\"]\n",
    "print(a)"
   ]
  },
  {
   "cell_type": "code",
   "execution_count": null,
   "id": "7c035f4a",
   "metadata": {},
   "outputs": [],
   "source": [
    "a=[\"apple\",\"ball\",\"cat\",\"dog\",\"apple\",1,2]\n",
    "print(a)"
   ]
  },
  {
   "cell_type": "code",
   "execution_count": null,
   "id": "948934c2",
   "metadata": {},
   "outputs": [],
   "source": []
  },
  {
   "cell_type": "code",
   "execution_count": null,
   "id": "5a9c1329",
   "metadata": {},
   "outputs": [],
   "source": []
  },
  {
   "cell_type": "code",
   "execution_count": null,
   "id": "49519e68",
   "metadata": {},
   "outputs": [],
   "source": []
  },
  {
   "cell_type": "code",
   "execution_count": null,
   "id": "7310cc85",
   "metadata": {},
   "outputs": [],
   "source": [
    "a=[\"apple\",\"ball\"]\n",
    "b=[\"cat\",\"dog\"]\n",
    "c=a+b\n",
    "print(c)"
   ]
  },
  {
   "cell_type": "code",
   "execution_count": null,
   "id": "a451a017",
   "metadata": {},
   "outputs": [],
   "source": [
    "a=[\"apple\",\"ball\"]\n",
    "b=[\"cat\",\"dog\"]\n",
    "c=b+a\n",
    "print(c)"
   ]
  },
  {
   "cell_type": "code",
   "execution_count": null,
   "id": "2452f6cd",
   "metadata": {},
   "outputs": [],
   "source": [
    "a=[\"apple\",\"ball\",\"cat\",\"dog\",\"apple\"]\n",
    "a[0]=\"ant\"\n",
    "print(a)"
   ]
  },
  {
   "cell_type": "code",
   "execution_count": null,
   "id": "8d0acbea",
   "metadata": {},
   "outputs": [],
   "source": [
    "# append() insert() extend()"
   ]
  },
  {
   "cell_type": "code",
   "execution_count": null,
   "id": "ef6b9301",
   "metadata": {},
   "outputs": [],
   "source": [
    "a=list()  # or a=[]\n",
    "a.append(\"apple\")\n",
    "a.append(\"ball\")\n",
    "a.append(\"cat\")\n",
    "print(a)"
   ]
  },
  {
   "cell_type": "code",
   "execution_count": null,
   "id": "2a09aed7",
   "metadata": {},
   "outputs": [],
   "source": [
    "a=['apple', 'ball', 'cat']\n",
    "a.insert(1,\"ant\")# afule chayeko thau ma value rakhana insert use not append\n",
    "print(a)"
   ]
  },
  {
   "cell_type": "code",
   "execution_count": null,
   "id": "d1878e31",
   "metadata": {},
   "outputs": [],
   "source": [
    "a=['apple', 'ball', 'cat']\n",
    "a.append(\"dog\")\n",
    "print(a)"
   ]
  },
  {
   "cell_type": "code",
   "execution_count": null,
   "id": "a456be70",
   "metadata": {},
   "outputs": [],
   "source": [
    "a=['apple', 'ball', 'cat']\n",
    "b=[\"dog\",\"cat\",\"fish\"]\n",
    "a.extend(b)\n",
    "b.extend(a)\n",
    "print(a)\n",
    "print(b)\n"
   ]
  },
  {
   "cell_type": "markdown",
   "id": "f0ba77bd",
   "metadata": {},
   "source": [
    " a=[]\n",
    "n=int(input(\"enter n= \"))\n",
    "for i in  range(n):\n",
    "    x=input(\"enter x= \")\n",
    "    a.append(x)\n",
    "print(a)"
   ]
  },
  {
   "cell_type": "code",
   "execution_count": 1,
   "id": "93d6de5c",
   "metadata": {},
   "outputs": [
    {
     "name": "stdout",
     "output_type": "stream",
     "text": [
      "enter n= 5\n",
      "enter x= 1\n",
      "enter x= 2\n",
      "enter x= 3\n",
      "enter x= 4\n",
      "enter x= 5\n",
      "[1, 2, 3, 4, 5]\n"
     ]
    }
   ],
   "source": [
    "a=[]\n",
    "n=int(input(\"enter n= \"))\n",
    "for i in  range(n):\n",
    "    x= int(input(\"enter x= \"))\n",
    "    a.append(x)\n",
    "print(a)"
   ]
  },
  {
   "cell_type": "code",
   "execution_count": null,
   "id": "d7163941",
   "metadata": {},
   "outputs": [],
   "source": [
    "print(\"the max value=  \",max(a))\n",
    "print(\"the min value=  \",min(a))\n",
    "print(\"the sum of nos= \",sum(a))\n",
    "a.sort()# order ma rakhne\n",
    "print(a)\n",
    "a.reverse()\n",
    "print(a)"
   ]
  },
  {
   "cell_type": "code",
   "execution_count": null,
   "id": "cdbd29a2",
   "metadata": {},
   "outputs": [],
   "source": [
    "print(\"min= \",a[0])\n",
    "print(\"max \",a[-1])"
   ]
  },
  {
   "cell_type": "code",
   "execution_count": null,
   "id": "8204b395",
   "metadata": {},
   "outputs": [],
   "source": [
    " a=[]\n",
    "n=int(input(\"enter n= \"))\n",
    "for i in  range(n):\n",
    "    x=input(\"enter x= \")\n",
    "    a.append(x)\n",
    "print(a)"
   ]
  },
  {
   "cell_type": "code",
   "execution_count": null,
   "id": "448a5d7a",
   "metadata": {},
   "outputs": [],
   "source": [
    "a.sort()\n",
    "print(a)\n",
    "a.reverse()\n",
    "print(a)\n"
   ]
  },
  {
   "cell_type": "code",
   "execution_count": null,
   "id": "42dce6e9",
   "metadata": {},
   "outputs": [],
   "source": [
    "#update\n",
    "a=['apple ', 'ball', 'cat', 'dog', 'elephant']\n",
    "a[0]='ant'\n",
    "print(a)\n"
   ]
  },
  {
   "cell_type": "code",
   "execution_count": null,
   "id": "9f82d3a3",
   "metadata": {},
   "outputs": [],
   "source": [
    "#del remove() pop()\n",
    "a=['ant', 'ball', 'cat', 'dog', 'elephant']\n",
    "#del remove() pop()\n",
    "del a[0:3]\n",
    "print(a)"
   ]
  },
  {
   "cell_type": "code",
   "execution_count": null,
   "id": "d856165b",
   "metadata": {},
   "outputs": [],
   "source": [
    "a=['ant', 'ball', 'cat', 'dog', 'elephant']\n",
    "del a[4]\n",
    "print(a)"
   ]
  },
  {
   "cell_type": "code",
   "execution_count": null,
   "id": "93226da6",
   "metadata": {},
   "outputs": [],
   "source": [
    "a=['ant', 'ball', 'cat', 'dog', 'elephant']\n",
    "a.remove(\"ant\")\n",
    "print(a)"
   ]
  },
  {
   "cell_type": "code",
   "execution_count": null,
   "id": "f600d712",
   "metadata": {},
   "outputs": [],
   "source": [
    "a=['ant', 'ball', 'cat', 'dog','ant', 'elephant']\n",
    "a.remove(\"ant\")\n",
    "print(a)"
   ]
  },
  {
   "cell_type": "code",
   "execution_count": null,
   "id": "e6ea876e",
   "metadata": {},
   "outputs": [],
   "source": [
    "a=['ant', 'ball', 'cat', 'dog','ant', 'elephant']\n",
    "del a[0]\n",
    "print(a)"
   ]
  },
  {
   "cell_type": "code",
   "execution_count": null,
   "id": "793e157e",
   "metadata": {},
   "outputs": [],
   "source": [
    "b=[]\n",
    "a=['ant', 'ball', 'cat', 'dog','ant', 'elephant']\n",
    "for i in a:\n",
    "    if i!=\"ant\":\n",
    "        b.append(i)\n",
    "print(b)\n",
    "    "
   ]
  },
  {
   "cell_type": "code",
   "execution_count": null,
   "id": "57f4061f",
   "metadata": {},
   "outputs": [],
   "source": [
    "a='ant', 'elepha=['ant', 'ball', 'cat', 'dog',ant']\n",
    "for i in range(len(a)):\n",
    "    if a[i]==\"ant\":\n",
    "        print(i)"
   ]
  },
  {
   "cell_type": "code",
   "execution_count": null,
   "id": "62bbe125",
   "metadata": {},
   "outputs": [],
   "source": [
    "a.count(\"ant\"),a.count(\"bal\")"
   ]
  },
  {
   "cell_type": "code",
   "execution_count": null,
   "id": "0a37b04e",
   "metadata": {},
   "outputs": [],
   "source": [
    "a=['ant', 'elephant','ant', 'ball', 'cat', 'dog']\n",
    "a.pop()\n",
    "print(a)\n",
    "b=a.pop(1)\n",
    "print(b)\n"
   ]
  },
  {
   "cell_type": "code",
   "execution_count": 2,
   "id": "cdde3af7",
   "metadata": {},
   "outputs": [
    {
     "name": "stdout",
     "output_type": "stream",
     "text": [
      "[[1, 2, 3], [4, 5, 6], [7, 8, 9]]\n",
      "<class 'list'>\n",
      "3\n"
     ]
    }
   ],
   "source": [
    "#list inside list\n",
    "a=[[1,2,3]\n",
    "  ,[4,5,6],\n",
    " [7,8,9]]\n",
    "print(a)\n",
    "print(type(a))\n",
    "print(len(a))"
   ]
  },
  {
   "cell_type": "code",
   "execution_count": 3,
   "id": "285d4e47",
   "metadata": {},
   "outputs": [
    {
     "name": "stdout",
     "output_type": "stream",
     "text": [
      "[1, 2, 3]\n",
      "[4, 5, 6]\n",
      "[7, 8, 9]\n"
     ]
    }
   ],
   "source": [
    "print(a[0])\n",
    "print(a[1])\n",
    "print(a[2])\n"
   ]
  },
  {
   "cell_type": "code",
   "execution_count": 4,
   "id": "109ccb1d",
   "metadata": {},
   "outputs": [
    {
     "name": "stdout",
     "output_type": "stream",
     "text": [
      "3\n"
     ]
    }
   ],
   "source": [
    "a=[[1,2,3,4,5]\n",
    "  ,[4,5,6],\n",
    " [7,8,9]]\n",
    "print(len(a))"
   ]
  },
  {
   "cell_type": "code",
   "execution_count": null,
   "id": "39ac3ca4",
   "metadata": {},
   "outputs": [],
   "source": [
    "a=[[1,2,3,4,5]\n",
    "  ,[4,5,6],\n",
    " [7,8,9]]\n",
    "b=[1,1,1]\n",
    "c=a+b\n",
    "print(c)"
   ]
  },
  {
   "cell_type": "code",
   "execution_count": null,
   "id": "4c8f36c5",
   "metadata": {},
   "outputs": [],
   "source": [
    "a=[[1,2,3,4,5]\n",
    "  ,[4,5,6],\n",
    " [7,8,9]]\n",
    "b=[[1,1,1]]\n",
    "c=a+b\n",
    "print(c)"
   ]
  },
  {
   "cell_type": "code",
   "execution_count": 5,
   "id": "f55b40a7",
   "metadata": {},
   "outputs": [
    {
     "name": "stdout",
     "output_type": "stream",
     "text": [
      "[['ram', 23, 'kathmandu'], ['shyam', 34, 'pokhara'], ['nabin', 24, 'bhaktapur']]\n"
     ]
    }
   ],
   "source": [
    "a=[[\"ram\",23,\"kathmandu\"],\n",
    "[\"shyam\", 34, \"pokhara\"],\n",
    "[\"nabin\",24,\"bhaktapur\"]]\n",
    "print(a)"
   ]
  },
  {
   "cell_type": "code",
   "execution_count": 6,
   "id": "f9d22ccf",
   "metadata": {},
   "outputs": [
    {
     "name": "stdout",
     "output_type": "stream",
     "text": [
      "['nabin', 24, 'bhaktapur']\n",
      "4\n"
     ]
    }
   ],
   "source": [
    "print(a[2])\n",
    "print(i)"
   ]
  },
  {
   "cell_type": "code",
   "execution_count": 7,
   "id": "e44ea7b9",
   "metadata": {},
   "outputs": [
    {
     "name": "stdout",
     "output_type": "stream",
     "text": [
      "['ram', 23, 'kathmandu']\n",
      "['ram', 23, 'kathmandu']\n",
      "['ram', 23, 'kathmandu']\n"
     ]
    }
   ],
   "source": [
    "for i in a:\n",
    "    print(a[0])"
   ]
  },
  {
   "cell_type": "code",
   "execution_count": 8,
   "id": "4940b906",
   "metadata": {},
   "outputs": [
    {
     "name": "stdout",
     "output_type": "stream",
     "text": [
      "apple\n",
      "ball\n",
      "cat\n"
     ]
    }
   ],
   "source": [
    "a=[\"apple\",'ball','cat']\n",
    "for i in a:\n",
    "    print(i)\n"
   ]
  },
  {
   "cell_type": "code",
   "execution_count": null,
   "id": "e6d7f424",
   "metadata": {},
   "outputs": [],
   "source": []
  },
  {
   "cell_type": "code",
   "execution_count": 9,
   "id": "47aa5de6",
   "metadata": {},
   "outputs": [
    {
     "name": "stdout",
     "output_type": "stream",
     "text": [
      "enter name= mp\n"
     ]
    }
   ],
   "source": [
    "name=input(\"enter name= \")\n",
    "for i in a:\n",
    "    if name in i:\n",
    "        print(i)"
   ]
  },
  {
   "cell_type": "code",
   "execution_count": 10,
   "id": "710415a2",
   "metadata": {},
   "outputs": [
    {
     "name": "stdout",
     "output_type": "stream",
     "text": [
      "ram\n"
     ]
    }
   ],
   "source": [
    "a=[[\"ram\",23,\"kathmandu\"],\n",
    "[\"shyam\", 34, \"pokhara\"],\n",
    "[\"nabin\",24,\"bhaktapur\"]]\n",
    "print(a[0][0])"
   ]
  },
  {
   "cell_type": "code",
   "execution_count": null,
   "id": "fe5a7f1f",
   "metadata": {},
   "outputs": [],
   "source": []
  },
  {
   "cell_type": "code",
   "execution_count": 11,
   "id": "d940a3e8",
   "metadata": {},
   "outputs": [
    {
     "name": "stdout",
     "output_type": "stream",
     "text": [
      "enter name= mp\n",
      "error\n",
      "error\n",
      "error\n"
     ]
    }
   ],
   "source": [
    "name=input(\"enter name= \").lower()\n",
    "for i in a:\n",
    "    if name in i[0].lower():\n",
    "        print(i)\n",
    "        break\n",
    "    else:\n",
    "        print(\"error\")"
   ]
  },
  {
   "cell_type": "markdown",
   "id": "6dd389f7",
   "metadata": {},
   "source": [
    "a=[]\n",
    "n=int(input(\"enter n= \"))\n",
    "for i in range(n):\n",
    "    name=input(\"enter name= \")\n",
    "    age=int(input(\"enter age= \"))\n",
    "    add=input(\"enter add= \")\n",
    "    data=[name,age,add]\n",
    "    a.append(data)\n",
    "print(a)\n",
    "\n"
   ]
  },
  {
   "cell_type": "code",
   "execution_count": 2,
   "id": "1715016b",
   "metadata": {},
   "outputs": [
    {
     "name": "stdout",
     "output_type": "stream",
     "text": [
      "enter n= 2\n",
      "enter name= e\n",
      "enter age= 3\n",
      "enter add= r\n",
      "enter name= t\n",
      "enter age= 4\n",
      "enter add= y\n",
      "[['e', 3, 'r'], ['t', 4, 'y']]\n"
     ]
    }
   ],
   "source": [
    "a=[]\n",
    "n=int(input(\"enter n= \"))\n",
    "for i in range(n):\n",
    "    name=input(\"enter name= \")\n",
    "    age=int(input(\"enter age= \"))\n",
    "    add=input(\"enter add= \")\n",
    "    data=[name,age,add]\n",
    "    a.append(data)\n",
    "print(a)"
   ]
  },
  {
   "cell_type": "code",
   "execution_count": null,
   "id": "8b98639d",
   "metadata": {},
   "outputs": [],
   "source": [
    "#update\n",
    "a=[['ram', 34, 'ktm'], ['hari', 45, 'bhk']]\n",
    "a[0]=['rama',33,'lalitpur']\n",
    "print(a)\n"
   ]
  },
  {
   "cell_type": "code",
   "execution_count": null,
   "id": "f8632a66",
   "metadata": {},
   "outputs": [],
   "source": [
    "a=[['ram', 34, 'ktm'], ['hari', 45, 'bhk']]\n",
    "a[0][0]='rama'\n",
    "print(a)"
   ]
  },
  {
   "cell_type": "code",
   "execution_count": null,
   "id": "e89484f8",
   "metadata": {},
   "outputs": [],
   "source": [
    "a=[['ram', 34, 'ktm'], ['hari', 45, 'bhk']]\n",
    "del a\n",
    "print(a)"
   ]
  },
  {
   "cell_type": "code",
   "execution_count": null,
   "id": "76eba8d5",
   "metadata": {},
   "outputs": [],
   "source": [
    "a=[['ram', 34, 'ktm'], ['hari', 45, 'bhk']]\n",
    "a.clear()#mutable function lai print garna mildaina\n",
    "print(a)"
   ]
  },
  {
   "cell_type": "code",
   "execution_count": 1,
   "id": "9e76015a",
   "metadata": {},
   "outputs": [
    {
     "name": "stdout",
     "output_type": "stream",
     "text": [
      "[[34, 'ktm'], ['hari', 45, 'bhk']]\n"
     ]
    }
   ],
   "source": [
    "a=[['ram', 34, 'ktm'], ['hari', 45, 'bhk']]\n",
    "del a[0][0]\n",
    "print(a)"
   ]
  },
  {
   "cell_type": "code",
   "execution_count": null,
   "id": "b40db2a3",
   "metadata": {},
   "outputs": [],
   "source": [
    "a=[[[1,2],[3,4]]]\n",
    "print(a)"
   ]
  },
  {
   "cell_type": "code",
   "execution_count": 1,
   "id": "1b709197",
   "metadata": {},
   "outputs": [
    {
     "name": "stdout",
     "output_type": "stream",
     "text": [
      "enter n= 2\n",
      "enter name= momo\n",
      "enter price= 3\n",
      "enter quantity4\n",
      "enter name= chw\n",
      "enter price= 33\n",
      "enter quantity4\n",
      "[['name', 'price', 'quantity', 'total'], ['momo', 3, 4, 12], ['chw', 33, 4, 132]]\n"
     ]
    }
   ],
   "source": [
    "bill=[['name','price','quantity','total']]\n",
    "n=int(input(\"enter n= \"))\n",
    "for i in range(n):\n",
    "    product=input(\"enter name= \")\n",
    "    price=int(input(\"enter price= \"))\n",
    "    quantity=int(input(\"enter quantity\"))\n",
    "    total=price*quantity\n",
    "    data=[product,price,quantity,total]\n",
    "    bill.append(data)\n",
    "print(bill)"
   ]
  },
  {
   "cell_type": "code",
   "execution_count": null,
   "id": "f7d8eba8",
   "metadata": {},
   "outputs": [],
   "source": [
    "#a=['coke',100,2,200],[momo,150,2,300],['pizza',300,2,600]\n",
    "# wap to create a matrix\n",
    "# row=?\n",
    "# col=?"
   ]
  },
  {
   "cell_type": "code",
   "execution_count": null,
   "id": "52457aa6",
   "metadata": {},
   "outputs": [],
   "source": [
    "bill=[['name','price','quantity','total']]\n",
    "n=int(input(\"enter n= \"))\n",
    "for i in range(n):\n",
    "    product=input(\"enter name= \")\n",
    "    price=int(input(\"enter price= \"))\n",
    "    quantity=int(input(\"enter quantity\"))\n",
    "    total=price*quantity\n",
    "    data=[product,price,quantity,total]\n",
    "    bill.append(data)\n",
    "print(bill)"
   ]
  },
  {
   "cell_type": "markdown",
   "id": "d1bd16f8",
   "metadata": {},
   "source": [
    "r=int(input(\"enter row= \"))\n",
    "c=int(input(\"enter column= \"))\n",
    "a=[]\n",
    "\n",
    "\n",
    "for i in range(r):\n",
    "    b=[]\n",
    "for j in range(c):\n",
    "    c=int(input())\n",
    "    c.append(b)\n",
    "    a.append(b)\n",
    "for i in range(r):\n",
    "    for j in range(c):\n",
    "        print(a[i][j],end=' ')\n",
    "    print()\n",
    "    \n",
    "        "
   ]
  },
  {
   "cell_type": "markdown",
   "id": "f738ca4a",
   "metadata": {},
   "source": [
    "\n",
    "    \n"
   ]
  },
  {
   "cell_type": "code",
   "execution_count": null,
   "id": "f35d5f78",
   "metadata": {},
   "outputs": [],
   "source": []
  },
  {
   "cell_type": "markdown",
   "id": "da08c26e",
   "metadata": {},
   "source": [
    "r=int(input(\"enter no of rows\"))\n",
    "c=int(input(\"enter no of column\"))\n",
    "m=[]\n",
    "print(\"enter the number in row\")\n",
    "for i in range(r):\n",
    "    a=[]\n",
    "    for j in range(c):\n",
    "        a.append(int(input()))\n",
    "    matrix.append(a)\n",
    "for i in range(r):\n",
    "    for j in range(c):\n",
    "        print(matrix[i][j],end=\" \")\n",
    "    print()\n",
    "    \n",
    "    \n",
    "\n"
   ]
  },
  {
   "cell_type": "markdown",
   "id": "d41eb873",
   "metadata": {},
   "source": [
    " r=int(input(\"enter no of rows\"))\n",
    "c=int(input(\"enter no of column\"))\n",
    "m=[]\n",
    "print(\"enter the number in row\")\n",
    "for i in range(r):\n",
    "    a=[]\n",
    "    for j in range(c):\n",
    "        a.append(int(input()))\n",
    "    matrix.append(a)\n",
    "for i in range(r):\n",
    "    for j in range(c):\n",
    "        print(matrix[i][j],end=\" \")\n",
    "    print()\n",
    "    \n",
    "    "
   ]
  },
  {
   "cell_type": "markdown",
   "id": "7df5a648",
   "metadata": {},
   "source": []
  },
  {
   "cell_type": "code",
   "execution_count": null,
   "id": "818caa16",
   "metadata": {},
   "outputs": [],
   "source": [
    "mat=[[int(input()) for x in range(c)] for y in range (r),end=]\n",
    "print(mat)"
   ]
  },
  {
   "cell_type": "code",
   "execution_count": null,
   "id": "de3ad614",
   "metadata": {},
   "outputs": [],
   "source": [
    "r=int(input(\"enter no of rows\"))\n",
    "c=int(input(\"enter no of column\"))\n",
    "m=[]\n",
    "print(\"enter the number in row\")\n",
    "for i in range(r):\n",
    "    a=[]\n",
    "    for j in range(c):\n",
    "        a.append(int(input()))\n",
    "    matrix.append(a)\n",
    "for i in range(r):\n",
    "    for j in range(c):\n",
    "        print(matrix[i][j],end=\" \")\n",
    "    print()\n",
    "    \n",
    "    "
   ]
  },
  {
   "cell_type": "code",
   "execution_count": null,
   "id": "0de394e3",
   "metadata": {},
   "outputs": [],
   "source": [
    "r=int(input(\"enter no of rows\"))\n",
    "c=int(input(\"enter no of column\"))\n",
    "for i in "
   ]
  },
  {
   "cell_type": "code",
   "execution_count": null,
   "id": "8f882a7d",
   "metadata": {},
   "outputs": [],
   "source": [
    "a=[]\n",
    "bill=[['name','price','quantity','total']]\n",
    "\n",
    "n=int(input(\"enter n= \"))\n",
    "for i in  range(n):\n",
    "    product=input(\"enter name= \")\n",
    "    price=int(input(\"enter price= \"))\n",
    "    quantity=int(input(\"enter quantity= \"))\n",
    "    total=price*quantity\n",
    "    data=[product,price,quantity,total]\n",
    "    a.append(data)\n",
    "    a.sort(price)\n",
    "    a.sort(quantity)\n",
    "    a.sort(total)\n",
    "print(a)\n",
    "print(bill)\n",
    "print(\"the maximum value\",max(a))\n",
    "print(\"the minimum value\",min(a))"
   ]
  },
  {
   "cell_type": "code",
   "execution_count": null,
   "id": "4f690061",
   "metadata": {},
   "outputs": [],
   "source": [
    "a=[]\n",
    "i=0\n",
    "n=int(input(\"enter no of student = \"))\n",
    "st=\"\"\n",
    "for i in range(n):\n",
    "    name=input(\"enter name= \")\n",
    "    rollno=int(input(\"enter roll no.= \"))\n",
    "    physics=int(input(\"enter physics marks=\"))\n",
    "    chemistry=int(input(\"enter chemistry marks=\"))\n",
    "    math=int(input(\"enter math marks=\"))\n",
    "    english=int(input(\"enter english marks=\"))\n",
    "    nepali=int(input(\"enter nepali marks=\"))\n",
    "    total=physics+chemistry+math+english+nepali\n",
    "    per=total/5\n",
    "    i=i+1\n",
    "    a.append(total)\n",
    "    total=f\"{name} {rollno} {physics} {chemistry} {math} {english} {nepali} {per} \\n\"\n",
    "    st=st+total\n",
    "    print(st)\n",
    "    b= a.append(st)\n",
    "\n",
    "    print(\"the frist rank is\", max(st))\n",
    "    print(\"the last rank is\" ,min(st))\n",
    "    \n",
    "    "
   ]
  },
  {
   "cell_type": "code",
   "execution_count": null,
   "id": "0125d812",
   "metadata": {},
   "outputs": [],
   "source": [
    "r=int(input(\"enter no of rows\"))\n",
    "c=int(input(\"enter no of column\"))\n",
    "m=[]\n",
    "print(\"enter the number\")\n",
    "for i in range(r):\n",
    "    a=[]\n",
    "    for j in range(c):\n",
    "        a.append(int(input()))\n",
    "    m.append(a)\n",
    "for i in range(r):\n",
    "    for j in range(c):\n",
    "        print(m[i][j],end=\" \")\n",
    "    print()\n",
    "    \n",
    "    "
   ]
  },
  {
   "cell_type": "code",
   "execution_count": null,
   "id": "b4ec80e4",
   "metadata": {},
   "outputs": [],
   "source": [
    "a=[]\n",
    "n=int(input(\"enter n= \"))\n",
    "for i in range(n):\n",
    "    b=int(input(\"enter b= \"))\n",
    "a.append(b)\n",
    "print(a)\n",
    "b=a.sort()\n",
    "print(\"the maximum\", max(b))\n",
    "    \n"
   ]
  },
  {
   "cell_type": "code",
   "execution_count": 12,
   "id": "5022be95",
   "metadata": {},
   "outputs": [
    {
     "name": "stdout",
     "output_type": "stream",
     "text": [
      "enter row= 2\n",
      "enter column= 2\n",
      "[2, 2]\n",
      "[2, 2]\n"
     ]
    },
    {
     "data": {
      "text/plain": [
       "(None, None)"
      ]
     },
     "execution_count": 12,
     "metadata": {},
     "output_type": "execute_result"
    }
   ],
   "source": [
    "a=[]\n",
    "b=[]\n",
    "r=int(input(\"enter row= \"))\n",
    "c=int(input(\"enter column= \"))\n",
    "\n",
    "for i in range(r):\n",
    "    a.append(r)\n",
    "for j in range(c):\n",
    "    b.append(c)\n",
    "\n",
    "print(a),print(b)\n",
    "\n",
    "    \n",
    "    \n",
    "        "
   ]
  },
  {
   "cell_type": "markdown",
   "id": "5f1440da",
   "metadata": {},
   "source": [
    "5\n",
    "r=int(input(\"enter no of rows\"))\n",
    "c=int(input(\"enter no of column\"))\n",
    "m=[]\n",
    "print(\"enter the number in row\")\n",
    "for i in range(r):\n",
    "    a=[]\n",
    "    for j in range(c):\n",
    "        a.append(int(input()))\n",
    "    m.append(a)\n",
    "for i in range(r):\n",
    "    for j in range(c):\n",
    "        print(m[i][j],end=\" \")\n",
    "    print()\n",
    "    \n",
    "    "
   ]
  },
  {
   "cell_type": "markdown",
   "id": "08dddaa7",
   "metadata": {},
   "source": [
    "r=int(input(\"enter no of rows\"))\n",
    "c=int(input(\"enter no of column\"))\n",
    "m=[]\n",
    "print(\"enter the number \")\n",
    "for i in range(r):\n",
    "    a=[]\n",
    "    b=[]\n",
    "    for j in range(c):\n",
    "        m.append(a)\n",
    "        m.append(b)\n",
    "        print(m,end=' ')\n",
    "    \n",
    "    \n",
    "    "
   ]
  },
  {
   "cell_type": "code",
   "execution_count": 14,
   "id": "950fc3c9",
   "metadata": {},
   "outputs": [
    {
     "ename": "IndentationError",
     "evalue": "expected an indented block (Temp/ipykernel_3972/1668303058.py, line 6)",
     "output_type": "error",
     "traceback": [
      "\u001b[1;36m  File \u001b[1;32m\"C:\\Users\\HP\\AppData\\Local\\Temp/ipykernel_3972/1668303058.py\"\u001b[1;36m, line \u001b[1;32m6\u001b[0m\n\u001b[1;33m    for j in range(c):\u001b[0m\n\u001b[1;37m    ^\u001b[0m\n\u001b[1;31mIndentationError\u001b[0m\u001b[1;31m:\u001b[0m expected an indented block\n"
     ]
    }
   ],
   "source": [
    "r=int(input(\"enter no of rows\"))\n",
    "c=int(input(\"enter no of column\"))\n",
    "m=[]\n",
    "print(\"enter the number \")\n",
    "for i in range(r):  \n",
    "for j in range(c):\n",
    "    m.append(c)\n",
    "        \n",
    "    \n",
    "    "
   ]
  },
  {
   "cell_type": "code",
   "execution_count": null,
   "id": "ef573773",
   "metadata": {},
   "outputs": [],
   "source": [
    "n= int(input(\"enter n = \"))\n",
    "for i in range(n):\n",
    "    print(n)\n",
    "    i=i+1\n",
    "    \n",
    "for j in range(n):\n",
    "    print(n,end=' ')\n",
    "    j=j+1"
   ]
  },
  {
   "cell_type": "markdown",
   "id": "b6d3a700",
   "metadata": {},
   "source": [
    "\n",
    "    "
   ]
  },
  {
   "cell_type": "code",
   "execution_count": 15,
   "id": "aba6c3dd",
   "metadata": {},
   "outputs": [
    {
     "name": "stdout",
     "output_type": "stream",
     "text": [
      "enter n= 2\n",
      "enter frist num1\n",
      "enter second num2\n",
      "enter third number3\n",
      " 1  2 3 \n",
      "\n",
      "enter frist num1\n",
      "enter second num2\n",
      "enter third number3\n",
      " 1  2 3 \n",
      " 1  2 3 \n",
      "\n"
     ]
    }
   ],
   "source": [
    "\n",
    "n=int(input(\"enter n= \"))\n",
    "z=\"\"\n",
    "for i in range(n):\n",
    "    a=int(input(\"enter frist num\"))\n",
    "    b=int(input(\"enter second num\"))\n",
    "    c=int(input(\"enter third number\"))\n",
    "    \n",
    "    d=f\" {a}  {b} {c} \\n\"\n",
    "    z=z+d\n",
    "    print(z)\n",
    "    "
   ]
  },
  {
   "cell_type": "code",
   "execution_count": null,
   "id": "b857cdc7",
   "metadata": {},
   "outputs": [],
   "source": [
    "grandtotal=0\n",
    "n=int(input(\"enter n= \"))\n",
    "bill=\"\"\n",
    "for i in range(n):\n",
    "    price=int(input(\"enter frist num\"))\n",
    "    quantity=int(input(\"enter second num\"))\n",
    "    total=price*quantity\n",
    "    grandtotal=grandtotal+total\n",
    "    data=f\" {price}  {quantity} {total}\\n\"\n",
    "    bill=bill+data\n",
    "    print(bill)\n",
    "    "
   ]
  },
  {
   "cell_type": "code",
   "execution_count": null,
   "id": "99dc096d",
   "metadata": {},
   "outputs": [],
   "source": [
    "r=int(input(\"enter no of rows\"))\n",
    "c=int(input(\"enter no of column\"))\n",
    "m=[]\n",
    "print(\"enter the number in row\")\n",
    "for i in range(r):\n",
    "    a=[]\n",
    "    for j in range(c):\n",
    "        a.append(int(input()))\n",
    "    m.append(a)\n",
    "for i in range(r):\n",
    "    for j in range(c):\n",
    "        print(m[i][j],end=\" \")\n",
    "    print()\n",
    "    \n",
    "    "
   ]
  },
  {
   "cell_type": "code",
   "execution_count": 16,
   "id": "2b67fad7",
   "metadata": {},
   "outputs": [
    {
     "name": "stdout",
     "output_type": "stream",
     "text": [
      "None\n",
      "[1]\n",
      "None\n",
      "[1, 2]\n",
      "None\n",
      "[1, 2, 3]\n",
      "None\n",
      "[1, 2, 3, 3]\n",
      "None\n",
      "[1, 2, 3, 3, 5]\n",
      "None\n",
      "[1, 2, 3, 3, 5, 6]\n"
     ]
    }
   ],
   "source": [
    "scores=[67,89,87,87,34,90]\n",
    "ranks=[]\n",
    "for score in scores:\n",
    "    print(ranks.append(scores.index(score)+1))\n",
    "    print(ranks)\n",
    "    \n"
   ]
  },
  {
   "cell_type": "code",
   "execution_count": null,
   "id": "0d67175a",
   "metadata": {},
   "outputs": [],
   "source": [
    "m=[1,2,3]\n",
    "n=[]\n",
    "\n",
    "a=[[1,2,3],[4,5,6]]\n"
   ]
  },
  {
   "cell_type": "code",
   "execution_count": null,
   "id": "497f84f4",
   "metadata": {},
   "outputs": [],
   "source": []
  },
  {
   "cell_type": "code",
   "execution_count": 3,
   "id": "5147ad60",
   "metadata": {},
   "outputs": [
    {
     "name": "stdout",
     "output_type": "stream",
     "text": [
      "enter r= 3\n",
      "enter c= 3\n",
      "enter x= 1\n",
      "enter x= 2\n",
      "enter x= 3\n",
      "enter x= 4\n",
      "enter x= 5\n",
      "enter x= 6\n",
      "enter x= 7\n",
      "enter x= 89\n",
      "enter x= 9\n",
      "[[1, 2, 3], [4, 5, 6], [7, 89, 9]]\n"
     ]
    }
   ],
   "source": [
    "m=[]\n",
    "r=int(input(\"enter r= \"))\n",
    "c=int(input(\"enter c= \"))\n",
    "for i in range(r):\n",
    "    n=[]\n",
    "    for j in range(c):\n",
    "        x=int(input(\"enter x= \"))\n",
    "        n.append(x)\n",
    "    m.append(n)6\n",
    "print(m)\n",
    "        \n",
    "        \n",
    "        "
   ]
  },
  {
   "cell_type": "code",
   "execution_count": 18,
   "id": "52ef3519",
   "metadata": {},
   "outputs": [
    {
     "name": "stdout",
     "output_type": "stream",
     "text": [
      "enter n= 2\n",
      "enter name= e\n",
      "enter age= 3\n",
      "enter add= 4\n",
      "enter name= f\n",
      "enter age= 3\n",
      "enter add= e\n",
      "(('e', 3, '4'), ('f', 3, 'e'))\n"
     ]
    }
   ],
   "source": [
    "a=()\n",
    "n=int(input(\"enter n= \"))\n",
    "for i in range(n):\n",
    "    name=input(\"enter name= \")\n",
    "    age=int(input(\"enter age= \"))\n",
    "    add=input(\"enter add= \")\n",
    "    data=(name,age,add)\n",
    "    a=a+(data,)\n",
    "print(a)\n",
    "\n",
    "\n"
   ]
  },
  {
   "cell_type": "code",
   "execution_count": null,
   "id": "df538299",
   "metadata": {},
   "outputs": [],
   "source": []
  }
 ],
 "metadata": {
  "kernelspec": {
   "display_name": "Python 3 (ipykernel)",
   "language": "python",
   "name": "python3"
  },
  "language_info": {
   "codemirror_mode": {
    "name": "ipython",
    "version": 3
   },
   "file_extension": ".py",
   "mimetype": "text/x-python",
   "name": "python",
   "nbconvert_exporter": "python",
   "pygments_lexer": "ipython3",
   "version": "3.9.7"
  }
 },
 "nbformat": 4,
 "nbformat_minor": 5
}

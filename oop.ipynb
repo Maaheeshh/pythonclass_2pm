{
 "cells": [
  {
   "cell_type": "code",
   "execution_count": null,
   "id": "a02ade92",
   "metadata": {},
   "outputs": [],
   "source": [
    "class Hello:    #class  define \n",
    "    print(\"hello world\")\n",
    "obj=Hello()   #object   le class lai initaialize garxa"
   ]
  },
  {
   "cell_type": "code",
   "execution_count": null,
   "id": "14742508",
   "metadata": {},
   "outputs": [],
   "source": []
  },
  {
   "cell_type": "code",
   "execution_count": null,
   "id": "c8e7b537",
   "metadata": {},
   "outputs": [],
   "source": []
  },
  {
   "cell_type": "code",
   "execution_count": null,
   "id": "fe20fa38",
   "metadata": {},
   "outputs": [],
   "source": [
    "class Hello:       #class\n",
    "    def hello(self):             #method\n",
    "        print(\"hello world\")\n",
    "obj=Hello()       #object\n",
    "obj.hello()\n"
   ]
  },
  {
   "cell_type": "code",
   "execution_count": null,
   "id": "ac2ec69d",
   "metadata": {},
   "outputs": [],
   "source": [
    "class Hello:             #class\n",
    "    @staticmethod\n",
    "    def hello():             #method\n",
    "        print(\"hello world\")\n",
    "obj=Hello()                 #object\n",
    "obj.hello()\n"
   ]
  },
  {
   "cell_type": "markdown",
   "id": "bd674082",
   "metadata": {},
   "source": [
    " "
   ]
  },
  {
   "cell_type": "code",
   "execution_count": null,
   "id": "b7e87e5e",
   "metadata": {},
   "outputs": [],
   "source": [
    " class Cal:             #class\n",
    "    @staticmethod\n",
    "    def area(): \n",
    "        #method\n",
    "        l=int(input(\"enter l= \"))\n",
    "        b=int(input(\"enter b= \"))\n",
    "        a=l*b\n",
    "        print(a)\n",
    "obj=Cal()                 #object\n",
    "obj.area()\n"
   ]
  },
  {
   "cell_type": "code",
   "execution_count": null,
   "id": "a57b3471",
   "metadata": {},
   "outputs": [],
   "source": [
    "class Cal:             #class\n",
    "    def area(self,l,b):           # self is alz frist parameter    #method\n",
    "        a=l*b\n",
    "        print(a)\n",
    "        \n",
    "    def volume(self,l,b,h):\n",
    "        \n",
    "        v=l*b*h\n",
    "        print(v)\n",
    "# l=int(input(\"enter l= \"))\n",
    "# b=int(input(\"enter b= \"))\n",
    "# h=int(input(\"enter h= \"))\n",
    "\n",
    "obj=Cal()                 #object\n",
    "obj.area(3,4)\n",
    "obj.volume(5,6,9)\n"
   ]
  },
  {
   "cell_type": "code",
   "execution_count": null,
   "id": "8edc4f6f",
   "metadata": {},
   "outputs": [],
   "source": [
    "class Cal:             #class\n",
    "    def area(self,l,b):           # self is alz frist parameter    #method\n",
    "        a=l*b\n",
    "        print(a)\n",
    "        \n",
    "    def volume(self,l,b,h):\n",
    "        v=l*b*h\n",
    "        print(v)\n",
    "l=int(input(\"enter l= \"))\n",
    "b=int(input(\"enter b= \"))\n",
    "h=int(input(\"enter h= \"))\n",
    "\n",
    "obj=Cal()                 #object\n",
    "obj.area(l,b)\n",
    "obj.volume(l,b,h)\n"
   ]
  },
  {
   "cell_type": "code",
   "execution_count": null,
   "id": "09b93992",
   "metadata": {},
   "outputs": [],
   "source": [
    "class Area:\n",
    "    def __init__(self):\n",
    "        self.l=int(input(\"enter l= \"))\n",
    "        self.b=int(input(\"enter b= \"))\n",
    "        \n",
    "    def area(self):\n",
    "        a=self.l*self.b\n",
    "        print(a)\n",
    "obj= Area()\n",
    "obj.area()\n"
   ]
  },
  {
   "cell_type": "code",
   "execution_count": null,
   "id": "bdedc8e2",
   "metadata": {},
   "outputs": [],
   "source": [
    "class Area:\n",
    "    def __init__(self):\n",
    "        self.l = int(input(\"enter l= \"))\n",
    "        self.b = int(input(\"enter b= \"))\n",
    "        \n",
    "    def area(this):\n",
    "        a=this.l*this.b\n",
    "        print(a)\n",
    "obj=Area()\n",
    "obj.area()\n",
    "print(obj.l,obj.b)\n"
   ]
  },
  {
   "cell_type": "code",
   "execution_count": null,
   "id": "0a03f2d3",
   "metadata": {},
   "outputs": [],
   "source": [
    "\n",
    "    class Area:\n",
    "        def __init__(self):\n",
    "            self.l=int(input(\"enter l= \"))\n",
    "            self.b=int(input(\"enter b= \"))\n",
    "        def volume(this,h):\n",
    "            v = this.l*this.b*h\n",
    "            print(v)\n",
    "    obj=Area()\n",
    "    obj.volume(2)\n",
    "    print(obj.l,obj.b)\n"
   ]
  },
  {
   "cell_type": "code",
   "execution_count": null,
   "id": "c8100e21",
   "metadata": {},
   "outputs": [],
   "source": [
    " class Volume:\n",
    "    def __init__(self,l,b,h):\n",
    "        self.l=l \n",
    "        self.b=b \n",
    "        self.h=h \n",
    "    def volume(this):\n",
    "        v=this.l*this.b*this.h \n",
    "        print(v)\n",
    "    def area(this):\n",
    "        a=this.l*this.b\n",
    "        print(a)\n",
    "l=int(input(\"enter l= \"))\n",
    "b=int(input(\"enter b= \"))\n",
    "h=int(input(\"enter h= \"))\n",
    "obj=Volume(l,b,h)\n",
    "\n",
    "obj.volume()\n",
    "obj.area()\n",
    "print(obj.volume,obj.area)"
   ]
  },
  {
   "cell_type": "markdown",
   "id": "675cb856",
   "metadata": {},
   "source": []
  },
  {
   "cell_type": "code",
   "execution_count": null,
   "id": "5898969a",
   "metadata": {},
   "outputs": [],
   "source": [
    "INHERITANCE"
   ]
  },
  {
   "cell_type": "code",
   "execution_count": null,
   "id": "b03bc615",
   "metadata": {},
   "outputs": [],
   "source": [
    "class A:       #parent class\n",
    "    pass\n",
    "class B(A):     #  child class  b le a lai inherite garyo     \n",
    "    pass\n",
    "obj=B()\n"
   ]
  },
  {
   "cell_type": "code",
   "execution_count": null,
   "id": "140af402",
   "metadata": {},
   "outputs": [],
   "source": [
    "class A:\n",
    "    def __init__(self):\n",
    "        self.name=input(\"enter name= \")\n",
    "        self.age=int(input(\"enter age=\"))\n",
    "class B(A):\n",
    "    def hello(self):\n",
    "        print(f\"hello world i am {self.name}.i am {self.age} years old .\")\n",
    "obj=B()\n",
    "obj.hello()\n",
    "    "
   ]
  },
  {
   "cell_type": "code",
   "execution_count": null,
   "id": "825c8012",
   "metadata": {},
   "outputs": [],
   "source": [
    "#multilevel\n",
    "class A:\n",
    "    print(\"this is class A\")\n",
    "class B(A):\n",
    "    print(\"this is class B\")\n",
    "class C(B):\n",
    "    print(\"this is class C\")\n",
    "obj=C()"
   ]
  },
  {
   "cell_type": "code",
   "execution_count": null,
   "id": "7f35783b",
   "metadata": {},
   "outputs": [],
   "source": [
    "#multiple\n",
    "class A:\n",
    "    print(\"this is class A\")\n",
    "class B(A):\n",
    "    print(\"this is class B\")\n",
    "class C(B,A):\n",
    "    print(\"this is class C\")\n",
    "obj=C()"
   ]
  },
  {
   "cell_type": "code",
   "execution_count": null,
   "id": "fef9e97a",
   "metadata": {},
   "outputs": [],
   "source": [
    "class A:\n",
    "    def __init__(self,add):\n",
    "        self.add=add\n",
    "    def my_add(self):\n",
    "        return self.add\n",
    "        \n",
    "class B(A):\n",
    "    def __init__(self,name,age,add):\n",
    "        self.name=name\n",
    "        self.age=age\n",
    "        A.__init__(self,add)\n",
    "    def hello(self):\n",
    "        print(f\"hello world i am {self.name}.i am {self.age} years old . i am from {self.add}\")\n",
    "name=input(\"enter name= \")\n",
    "age=int(input(\"enter age=\"))\n",
    "add=input(\"ente add=\")\n",
    "\n",
    "obj=B(name,age,add)\n",
    "obj.hello()\n",
    "address=obj.my_add()\n",
    "print(f\"my add is {address}\")\n",
    "    "
   ]
  },
  {
   "cell_type": "code",
   "execution_count": null,
   "id": "4343a2cd",
   "metadata": {},
   "outputs": [],
   "source": [
    "wap to create a data entry application using inheritance"
   ]
  },
  {
   "cell_type": "code",
   "execution_count": null,
   "id": "47a09423",
   "metadata": {},
   "outputs": [],
   "source": [
    "class A:\n",
    "    def __init__(self,name,age):\n",
    "        \n",
    "    \n",
    "        self.name=name\n",
    "        self.age=age\n",
    "    \n",
    "    def hello(self):\n",
    "        print(self.name,self.age)\n",
    "        \n",
    "        \n",
    "        \n",
    "\n",
    "    \n",
    "class C(A):\n",
    "    def __init__(self,name,age):\n",
    "        A.__init__(self,name,age)\n",
    "    def hello(self):\n",
    "        print(f\"course name\",{self.name},\"first came\",{self.age},\"years ago\", \"has done  one month python course\")\n",
    "obj=C(\"python\",28)\n",
    "obj.hello()"
   ]
  },
  {
   "cell_type": "code",
   "execution_count": null,
   "id": "01bc3e5f",
   "metadata": {},
   "outputs": [],
   "source": [
    "class A:\n",
    "    def __init__(self, name,age,address):\n",
    "        self.name=name\n",
    "        self.age=age\n",
    "        self.address=address\n",
    "    def hello(self):\n",
    "        print(self.name,self.age,self.address)\n",
    "        \n",
    "class B(A):\n",
    "    \n",
    "    def __init__(self,name,age,address):\n",
    "         A.__init__(self,name,age,address)\n",
    "    def hello(self):\n",
    "        print(f\"student name is {self.name},he is {self.age}years old ,he is from  {self.address} and he has done one month python course successfully\")\n",
    "        \n",
    "        \n",
    "        \n",
    "        \n",
    "        \n",
    "        \n",
    "name=input(\"enter name= \")\n",
    "age=int(input(\"enter age= \"))\n",
    "address=input('enter address= ')    \n",
    "obj=B(name,age,address)\n",
    "obj.hello()\n",
    "    \n",
    "    \n",
    "    "
   ]
  },
  {
   "cell_type": "markdown",
   "id": "4dcb57ab",
   "metadata": {},
   "source": []
  },
  {
   "cell_type": "markdown",
   "id": "6496d320",
   "metadata": {},
   "source": []
  },
  {
   "cell_type": "code",
   "execution_count": null,
   "id": "2ddf45bc",
   "metadata": {},
   "outputs": [],
   "source": []
  },
  {
   "cell_type": "code",
   "execution_count": null,
   "id": "293e5e76",
   "metadata": {},
   "outputs": [],
   "source": []
  },
  {
   "cell_type": "code",
   "execution_count": null,
   "id": "b58e8cd6",
   "metadata": {},
   "outputs": [],
   "source": []
  },
  {
   "cell_type": "code",
   "execution_count": 1,
   "id": "5c464e74",
   "metadata": {},
   "outputs": [
    {
     "name": "stdout",
     "output_type": "stream",
     "text": [
      "enter no of student = 1\n",
      "enter name= e\n",
      "enter roll no.= 3\n",
      "enter physics marks=33\n",
      "enter chemistry marks=33\n",
      "enter math marks=33333\n",
      "enter english marks=33\n",
      "enter nepali marks=33\n",
      " A grade\n",
      "1 your grade is=   A\n",
      "e, 3, 33, 33, 33333 ,33, 33, 6693.0 ,A\n",
      "\n",
      "enter form number= 33\n",
      "enter name= e\n",
      "enter course name= rr\n",
      "enter semester= 3\n",
      "enter contact number=  33\n",
      "enter email ID=  r\n",
      "enter address= r\n",
      "  A 6693.0student form no is 33 student name is e ,he is enroll in rrcourse  ,he is in  3 semester, his contact number is  33, his email Id isr ,he is from r and he has done one month python course successfully\n"
     ]
    }
   ],
   "source": [
    "\n",
    "\n",
    "class A:\n",
    "    def __init__(self,formno,name,course,semester,contactnumber,emailid,address,grade,per):\n",
    "        self.formno=formno  \n",
    "        self.name=name\n",
    "        self.course=course\n",
    "        self.semester=semester\n",
    "        self.contactnumber=contactnumber\n",
    "        self.emailid=emailid\n",
    "        self.address=address\n",
    "        self.grade=grade\n",
    "        self.per=per\n",
    "        \n",
    "        self.address=address\n",
    "    def information(self):\n",
    "        print(self.formno,self.name,self.course,self.semester,self.contactnumber,self.emailid,self.address,self.per,self.grade)\n",
    "\n",
    "\n",
    "\n",
    "        \n",
    "class B(A):\n",
    "    def __init__(self,formno,name,course,semester,contactnumber,emailid,address,grade,per):\n",
    "        A.__init__(self,formno,name,course,semester,contactnumber,emailid,address,grade,per)\n",
    "    def information(self):\n",
    "        print(f\"  {self.grade} {self.per}student form no is {self.formno} student name is {self.name} ,he is enroll in {self.course}course  ,he is in  {self.semester} semester, his contact number is  {self.contactnumber}, his email Id is{self.emailid} ,he is from {self.address} and he has done one month python course successfully\")\n",
    "        \n",
    "i=0\n",
    "n=int(input(\"enter no of student = \"))\n",
    "st=\"\"\n",
    "for i in range(n):\n",
    "    name=input(\"enter name= \")\n",
    "    rollno=int(input(\"enter roll no.= \"))\n",
    "    physics=int(input(\"enter physics marks=\"))\n",
    "    chemistry=int(input(\"enter chemistry marks=\"))\n",
    "    math=int(input(\"enter math marks=\"))\n",
    "    english=int(input(\"enter english marks=\"))\n",
    "    nepali=int(input(\"enter nepali marks=\"))\n",
    "    total=physics+chemistry+math+english+nepali\n",
    "    per=total/5\n",
    "    grade=(\"A,B,C,fail\")\n",
    "\n",
    "    if per>=80:\n",
    "        grade=\"A\"\n",
    "        print(\" A grade\")\n",
    "    elif per>=60:\n",
    "        grade=\"B\"\n",
    "        print(\" B grade\")\n",
    "    elif per>=40:\n",
    "        grade=\"C\"\n",
    "        print(\" C grade\")\n",
    "    else:\n",
    "        grade=\"fail\"\n",
    "        print(\"  fail\")\n",
    "    i=i+1\n",
    "    print(i,\"your grade is=  \" ,grade)\n",
    "\n",
    "    total=f\"{name}, {rollno}, {physics}, {chemistry}, {math} ,{english}, {nepali}, {per} ,{grade}\\n\"\n",
    "    st=st+total\n",
    "    print(st)\n",
    "    \n",
    "                                                                                                                                                                                                                    \n",
    "formno=int(input(\"enter form number= \"))\n",
    "name=input(\"enter name= \")\n",
    "course=input(\"enter course name= \")\n",
    "semester=int(input(\"enter semester= \"))\n",
    "contactnumber=int(input(\"enter contact number=  \"))\n",
    "emailid=input(\"enter email ID=  \")\n",
    "address=input(\"enter address= \")\n",
    "\n",
    "obj=B(formno,name,course,semester,contactnumber,emailid,address,grade,per)\n",
    "\n",
    "obj.information()"
   ]
  },
  {
   "cell_type": "code",
   "execution_count": null,
   "id": "613ac6e5",
   "metadata": {},
   "outputs": [],
   "source": [
    "#multilevel inheritance\n"
   ]
  },
  {
   "cell_type": "code",
   "execution_count": null,
   "id": "6d27245f",
   "metadata": {},
   "outputs": [],
   "source": [
    "class A:\n",
    "    def __init__(self,add):\n",
    "        self.add=add\n",
    "    def my_add(self):\n",
    "        return self.add\n",
    "class B(A):\n",
    "    def __init__(self,age,add):\n",
    "        self.age=age\n",
    "        A.__init__(self,add)\n",
    "    def my_info(self):\n",
    "        print(f\"hello world i am python i am {self.age} i am from {self.add}\")\n",
    "        \n",
    "class C(B):\n",
    "    def __init__(self,name,age,add):\n",
    "        self.name=name\n",
    "        B.__init__(self,age,add)\n",
    "    def hello(self):\n",
    "        print(f\"hello world i am {self.name}.i am {self.age} years old . i am from {self.add}\")\n",
    "name=input(\"enter name= \")\n",
    "age=int(input(\"enter age=\"))\n",
    "add=input(\"ente add= \")\n",
    "\n",
    "obj=C(name,age,add)\n",
    "obj.hello()\n",
    "obj.my_info()\n"
   ]
  },
  {
   "cell_type": "code",
   "execution_count": null,
   "id": "b815a918",
   "metadata": {},
   "outputs": [],
   "source": [
    "#multiple"
   ]
  },
  {
   "cell_type": "code",
   "execution_count": null,
   "id": "511a5c81",
   "metadata": {},
   "outputs": [],
   "source": []
  },
  {
   "cell_type": "code",
   "execution_count": null,
   "id": "0e13bfc1",
   "metadata": {},
   "outputs": [],
   "source": [
    "class A:\n",
    "    def __init__(self,add):\n",
    "        self.add=add\n",
    "    def my_add(self):\n",
    "        return self.add\n",
    "class B:\n",
    "    def __init__(self,age,add):\n",
    "        self.age=age\n",
    "        A.__init__(self,add)\n",
    "    def my_info(self):\n",
    "        print(f\"hello world i am python i am {self.age} i am from {self.add}\")\n",
    "        \n",
    "class C(A,B):\n",
    "    def __init__(self,name,age,add):\n",
    "        self.name=name\n",
    "        B.__init__(self,add,age)\n",
    "        A.__init__(self,add)\n",
    "    def hello(self):\n",
    "        print(f\"hello world i am {self.name}.i am {self.age} years old . i am from {self.add}\")\n",
    "name=input(\"enter name= \")\n",
    "age=int(input(\"enter age=\"))\n",
    "add=input(\"ente add= \")\n",
    "\n",
    "obj=C(name,age,add)\n",
    "obj.hello()\n",
    "obj.my_info()\n"
   ]
  },
  {
   "cell_type": "code",
   "execution_count": null,
   "id": "c727c6d1",
   "metadata": {},
   "outputs": [],
   "source": [
    "i=0\n",
    "n=int(input(\"enter n= \"))\n",
    "dz=\"\"\n",
    "for i in range(n):\n",
    "    name=input(\"enter name =\")\n",
    "    x=float(input(\"enter x= \"))\n",
    "    d=float(input(\"enter near \"))\n",
    "    D=x-d/x*d\n",
    "    \n",
    "    if p=-(1/x):\n",
    "        print(\" can not see infinityyou are infectecd by myopia elongation of eye ballconave\")\n",
    "    elif p=x-d/x*d:\n",
    "        print(\" can not see 25you are infected by hypermetropia\" conttraction of eye ball convex )\n",
    "    else:\n",
    "        print(\"you are infected by other eye problem\")\n",
    "    i=i+1\n",
    "    total=(f\"{name} {D}\"\n",
    "    dz=dz+total\n",
    "    print(dz)\n",
    "           presbyopia loss of power of accomodation\n",
    "           reduction in elasticity of lens bifocal lens\n",
    "           \n",
    "        astigmatism unequal curvature of cornea cylindrical lens\n",
    "           \n",
    "      \n",
    "      \n",
    "    \n",
    "    "
   ]
  },
  {
   "cell_type": "code",
   "execution_count": null,
   "id": "1f54b7ca",
   "metadata": {},
   "outputs": [],
   "source": [
    "import pandas as pd\n",
    "df=pd.write_csv('disease.csv ,'w')\n",
    "df"
   ]
  },
  {
   "cell_type": "code",
   "execution_count": null,
   "id": "7e54cb1f",
   "metadata": {},
   "outputs": [],
   "source": [
    "try:\n",
    "    b=open(\"disease.csv\",'x')\n",
    "    b.close\n",
    "except:\n",
    "    pass"
   ]
  },
  {
   "cell_type": "code",
   "execution_count": null,
   "id": "481a4072",
   "metadata": {},
   "outputs": [],
   "source": [
    "import pandas as pd\n",
    "df=pd.read_csv('disease.csv')\n",
    "df"
   ]
  },
  {
   "cell_type": "code",
   "execution_count": null,
   "id": "df98e3e6",
   "metadata": {},
   "outputs": [],
   "source": [
    "b=open(\"dsz.csv\",'x')import pandas as pd  #pandas dataframe\n",
    "df=pd.read_csv('data.csv')\n",
    "df\n",
    "import pandas as pd  #pandas dataframe\n",
    "df=pd.read_csv('data.csv')\n",
    "df"
   ]
  },
  {
   "cell_type": "code",
   "execution_count": null,
   "id": "af34467f",
   "metadata": {},
   "outputs": [],
   "source": [
    "import pandas as pd\n",
    "df=pd.read_csv('dsz.csv',index_col='sn')"
   ]
  },
  {
   "cell_type": "code",
   "execution_count": null,
   "id": "2d27550f",
   "metadata": {},
   "outputs": [],
   "source": [
    "s=[]\n",
    "n=int(input(\"enter n= \"))\n",
    "for i in range(n):\n",
    "    x=(input(\"enter x= \"))\n",
    "    s=s+x\n",
    "print(s)"
   ]
  },
  {
   "cell_type": "code",
   "execution_count": null,
   "id": "2a8f26dd",
   "metadata": {},
   "outputs": [],
   "source": [
    "a=[]\n",
    "n=int(input(\"enter n= \"))\n",
    "for i in  range(n):\n",
    "    x= int(input(\"enter x= \"))\n",
    "    a.append(x)\n",
    "print(a)"
   ]
  },
  {
   "cell_type": "code",
   "execution_count": null,
   "id": "b4c1327d",
   "metadata": {},
   "outputs": [],
   "source": [
    "a=[]\n",
    "n=int(input(\"enter n= \"))\n",
    "for i in range(n):\n",
    "    name=input(\"enter name= \")\n",
    "    age=int(input(\"enter age= \"))\n",
    "    add=input(\"enter add= \")\n",
    "    data=[name,age,add]\n",
    "    a.append(data)\n",
    "print(a)"
   ]
  },
  {
   "cell_type": "code",
   "execution_count": null,
   "id": "e361a525",
   "metadata": {},
   "outputs": [],
   "source": [
    "a=\"ram shyam hari gita nita shyam\" .lower()\n",
    "search=input(\"enter search = \").lower()\n",
    "if search in a:\n",
    "    print(\"yes\",a.count(search))\n",
    "    \n"
   ]
  },
  {
   "cell_type": "code",
   "execution_count": null,
   "id": "1e12b03c",
   "metadata": {},
   "outputs": [],
   "source": [
    "def cal(p,t,r):\n",
    "    i=p*t*r/100\n",
    "    return i\n",
    "p=float(input(\"enter p= \"))\n",
    "t=float(input(\"enter t= \"))\n",
    "r=float(input(\"enter r= \"))\n",
    "\n",
    "x=(cal(p,t,r))\n",
    "print(\"the value of i= \",x)\n",
    "\n",
    "\n",
    "    "
   ]
  },
  {
   "cell_type": "code",
   "execution_count": null,
   "id": "714a62aa",
   "metadata": {},
   "outputs": [],
   "source": [
    "d={}\n",
    "n=int(input(\"enter n= \"))\n",
    "for i in range(n):\n",
    "    name=input(\"enter name= \")\n",
    "    ntc=int(input(\"enter ntc= \"))\n",
    "    ncell=int(input(\"enter ncell= \"))\n",
    "    value=[ntc,ncell]\n",
    "    key=name\n",
    "    d[key]=value\n",
    "print(d)"
   ]
  },
  {
   "cell_type": "code",
   "execution_count": null,
   "id": "4ff34e85",
   "metadata": {},
   "outputs": [],
   "source": [
    "d={}\n",
    "n=int(input(\"enter n= \"))\n",
    "for i in range(n):\n",
    "    name=input(\"enter name\")\n",
    "    "
   ]
  },
  {
   "cell_type": "code",
   "execution_count": null,
   "id": "061db63e",
   "metadata": {},
   "outputs": [],
   "source": [
    "dz={}\n",
    "n=int(input(\"how many disese do you want to search?? \"))\n",
    "for i in range(n):\n",
    "    name=input(\"gauss diseses name = \")\n",
    "    symptom1=input(\"enter symptom 1= \")\n",
    "    symptom2=input(\"enter symptom 2= \")\n",
    "    symptom3=input(\"enter symptom 3= \")\n",
    "    symptom4=input(\"enter symptom 4= \")\n",
    "    symptom5=input(\"enter symptom 5=\")\n",
    "    value=[symptom1,symptom2,symptom3,symptom4,symptom5]\n",
    "    key=name\n",
    "    dz[key]=value\n",
    "print(dz)\n",
    "print(dz.values())\n",
    "\n",
    "    \n",
    "d={\"TB\":['headache,fever,cough,chestpain,blood in sputum'],\n",
    "  \"ascariasis\":['vomiting,abdominal pain,loeffler pneumonia'],\n",
    "  \"giardiasis\":['abdominal pain,fatty stool,foul smell,diarrhoea']}\n",
    "# b=list(d.values())\n",
    "# print(b)\n",
    "print(\"suggestion for name of disese\",d.keys())\n",
    "a=input(\"enter the name of disease\\n\")\n",
    "# print(\"the symptoms of your disease is\",d[a])\n",
    "print(\"the symptom of your disease\",d.get(a))\n",
    "if d.keys()==TB:\n",
    "    print(\"you got disese\",d.keys)\n",
    "else:\n",
    "    print(\"you got other disese\")\n",
    "\n",
    "\n",
    "\n",
    "\n",
    "\n",
    "\n",
    "   \n",
    "\n"
   ]
  },
  {
   "cell_type": "code",
   "execution_count": null,
   "id": "21b58c78",
   "metadata": {},
   "outputs": [],
   "source": []
  },
  {
   "cell_type": "code",
   "execution_count": null,
   "id": "5b3ee011",
   "metadata": {},
   "outputs": [],
   "source": []
  },
  {
   "cell_type": "code",
   "execution_count": null,
   "id": "495d29f9",
   "metadata": {},
   "outputs": [],
   "source": []
  },
  {
   "cell_type": "markdown",
   "id": "4245fb72",
   "metadata": {},
   "source": [
    " class A:\n",
    "    def __init__(self,add):\n",
    "        self.add=add\n",
    "    def my_add(self):\n",
    "        return self.add\n",
    "class B:\n",
    "    def __init__(self,age,add):\n",
    "        self.age=age\n",
    "        A.__init__(self,add)\n",
    "    def my_info(self):\n",
    "        print(f\"hello world i am python i am {self.age} i am from {self.add}\")\n",
    "        \n",
    "class C(A,B):\n",
    "    def __init__(self,name,age,add):\n",
    "        self.name=name\n",
    "        B.__init__(self,add,age)\n",
    "        A.__init__(self,add)\n",
    "    def hello(self):\n",
    "        print(f\"hello world i am {self.name}.i am {self.age} years old . i am from {self.add}\")\n",
    "name=input(\"enter name= \")\n",
    "age=int(input(\"enter age=\"))\n",
    "add=input(\"ente add= \")\n",
    "\n",
    "obj=C(name,age,add)\n",
    "obj.hello()\n",
    "obj.my_info()\n"
   ]
  },
  {
   "cell_type": "code",
   "execution_count": null,
   "id": "170e8ae7",
   "metadata": {},
   "outputs": [],
   "source": [
    "class A:\n",
    "    def __init__(self,add):\n",
    "        self.add=add\n",
    "    def my_add(self):\n",
    "        return self.add\n",
    "class B:\n",
    "    def __init__(self,add):\n",
    "        self.age=age\n",
    "        A.__init__(self,add)\n",
    "    def my_info(self):\n",
    "        print(f\" i am {self.age} old i am from {self.add}\")\n",
    "              \n",
    "class C(A,B):\n",
    "    def __init__(self,name,age,add):\n",
    "        self.name=name\n",
    "        B.__init__(self,age)\n",
    "        A.__init__(self,add)\n",
    "    def hello(self):\n",
    "        print(f\"hello world i am {self.name} i am {self.age} years old. i am from {self.add}\")\n",
    "\n",
    "name=input(\"enter name\")\n",
    "age=int(input(\"enter age\"))\n",
    "add=input(\"enter add\")\n",
    "obj=C(name,age,add)\n",
    "obj.hello()\n",
    "obj.my_info()"
   ]
  },
  {
   "cell_type": "code",
   "execution_count": null,
   "id": "9e90e8f0",
   "metadata": {},
   "outputs": [],
   "source": [
    "class A:\n",
    "    def __init__(self,add):\n",
    "        self.add=add\n",
    "    def my_add(self):\n",
    "        return self.add\n",
    "class B(A):\n",
    "    def __init__(self,age,add):\n",
    "        self.age=age\n",
    "        A.__init__(self,add)\n",
    "    def my_info(self):\n",
    "        print(f\"hello world i am python i am {self.age} i am from {self.add}\")\n",
    "        \n",
    "class C(B):\n",
    "    def __init__(self,name,age,add):\n",
    "        self.name=name\n",
    "        B.__init__(self,age,add)\n",
    "    def hello(self):\n",
    "        print(f\"hello world i am {self.name}.i am {self.age} years old . i am from {self.add}\")\n",
    "name=input(\"enter name= \")\n",
    "age=int(input(\"enter age=\"))\n",
    "add=input(\"ente add= \")\n",
    "\n",
    "obj=C(name,age,add)\n",
    "obj.hello()\n",
    "obj.my_info()\n"
   ]
  },
  {
   "cell_type": "code",
   "execution_count": null,
   "id": "a14ac1dd",
   "metadata": {},
   "outputs": [],
   "source": [
    "class A:\n",
    "    def __init__(self,add):\n",
    "        self.add=add\n",
    "    def my_add(self):\n",
    "        return self.add\n",
    "class B(A):\n",
    "    def __init__(self,age,add):\n",
    "        self.age=age\n",
    "        A.__init__(self,add)\n",
    "    def my_info(self):\n",
    "        print(f\"hello world i am {self.age}  i am from {self.add}\")\n",
    "        \n",
    "class C(B):\n",
    "    def __init__(self,name,age,add):\n",
    "        self.name=name\n",
    "        B.__init__(self,age,add)\n",
    "    def hello(self):\n",
    "        print(f\"hello world i am python {self.name} i am from {self.add} i am {self.age}\")\n",
    "    \n",
    "name=input('enter name= ')\n",
    "age=int(input(\"enter age= \"))\n",
    "add=input(\"enter add= \")\n",
    "obj=C(name,age,add)\n",
    "obj.hello()\n",
    "obj.my_info()"
   ]
  },
  {
   "cell_type": "code",
   "execution_count": null,
   "id": "23c6a9c4",
   "metadata": {},
   "outputs": [],
   "source": [
    "class Area:\n",
    "    def __init__(self):\n",
    "        self.l = int(input(\"enter l= \"))\n",
    "        self.b = int(input(\"enter b= \"))\n",
    "        \n",
    "    def area(this):\n",
    "        a=this.l*this.b\n",
    "        print(a)\n",
    "obj=Area()\n",
    "obj.area()\n",
    "print(obj.l,obj.b)\n",
    "    "
   ]
  },
  {
   "cell_type": "code",
   "execution_count": null,
   "id": "037ab841",
   "metadata": {},
   "outputs": [],
   "source": [
    " class Area:\n",
    "        def __init__(self):\n",
    "            self.l=int(input(\"enter l= \"))\n",
    "            self.b=int(input(\"enter b=\"))\n",
    "        def area(this):\n",
    "            a=this.l*this.b\n",
    "            print(a)\n",
    "obj=Area()\n",
    "obj.area()"
   ]
  },
  {
   "cell_type": "code",
   "execution_count": null,
   "id": "84af3267",
   "metadata": {},
   "outputs": [],
   "source": [
    "class Cal:             #class\n",
    "    @staticmethod\n",
    "    def area(): \n",
    "        #method\n",
    "        l=int(input(\"enter l= \"))\n",
    "        b=int(input(\"enter b= \"))\n",
    "        a=l*b\n",
    "        print(a)\n",
    "obj=Cal()                 #object\n",
    "obj.area()\n"
   ]
  },
  {
   "cell_type": "code",
   "execution_count": null,
   "id": "36a0883e",
   "metadata": {},
   "outputs": [],
   "source": [
    "class Cal:\n",
    "    @staticmethod\n",
    "    def area():\n",
    "        l=int(input(\"enter l= \"))\n",
    "        b=int(input(\"enter b= \"))\n",
    "        a=l*b\n",
    "        print(a)\n",
    "obj=Cal()\n",
    "obj.area()"
   ]
  },
  {
   "cell_type": "code",
   "execution_count": null,
   "id": "09619407",
   "metadata": {},
   "outputs": [],
   "source": [
    "dz={}\n",
    "n=int(input(\"how many disese do you want to search?? \"))\n",
    "for i in range(n):\n",
    "    name=input(\"gauss diseses name = \")\n",
    "    symptom1=input(\"enter symptom 1= \")\n",
    "    symptom2=input(\"enter symptom 2= \")\n",
    "    symptom3=input(\"enter symptom 3= \")\n",
    "    symptom4=input(\"enter symptom 4= \")\n",
    "    symptom5=input(\"enter symptom 5=\")\n",
    "    value=[symptom1,symptom2,symptom3,symptom4,symptom5]\n",
    "    key=name\n",
    "    dz[key]=value\n",
    "print(dz)\n",
    "print(dz.values())\n",
    "\n",
    "    \n",
    "d={\"TB\":['headache,fever,cough,chestpain,blood in sputum'],\n",
    "  \"ascariasis\":['vomiting,abdominal pain,loeffler pneumonia'],\n",
    "  \"giardiasis\":['abdominal pain,fatty stool,foul smell,diarrhoea']}\n",
    "# b=list(d.values())\n",
    "# print(b)\n",
    "print(\"suggestion for name of disese\",d.keys())\n",
    "a=input(\"enter the name of disease\\n\")\n",
    "# print(\"the symptoms of your disease is\",d[a])\n",
    "print(\"the symptom of your disease\",d.get(a))\n",
    "if d.keys()==TB:\n",
    "    print(\"you got disese\",d.keys)\n",
    "else:\n",
    "    print(\"you got other disese\")\n",
    "\n",
    "\n",
    "\n",
    "\n"
   ]
  },
  {
   "cell_type": "code",
   "execution_count": null,
   "id": "57d3092f",
   "metadata": {},
   "outputs": [],
   "source": [
    "\n",
    "a=''\n",
    "def symptoms():\n",
    "    symptom=input(\"symptoms=  \")\n",
    "    x=input(\"enter y for more symptoms\")\n",
    "    if x=='y':\n",
    "        symptoms()\n",
    "symptoms()\n",
    "a=a+symptoms\n",
    "d={\"TB\":['headache,fever,cough,chestpain,blood in sputum'],\n",
    "  \"ascariasis\":['vomiting,abdominal pain,loeffler pneumonia'],\n",
    "  \"giardiasis\":['abdominal pain,fatty stool,foul smell,diarrhoea']}\n",
    "# b=list(d.values())\n",
    "# print(b)\n",
    "print(\"suggestion for name of disese\",d.keys())\n",
    "a=input(\"enter the name of disease\\n\")\n",
    "# print(\"the symptoms of your disease is\",d[a])\n",
    "print(\"the symptom of your disease\",d.get(a))\n",
    "if d.keys()==TB:\n",
    "    print(\"you got disese\",d.keys)\n",
    "else:\n",
    "    print(\"you got other disese\")\n",
    "\n"
   ]
  },
  {
   "cell_type": "code",
   "execution_count": null,
   "id": "d0bdcb7d",
   "metadata": {},
   "outputs": [],
   "source": [
    "class A:\n",
    "    def __init__(self):\n",
    "        self.name=input(\"enter name= \")\n",
    "        self.age=int(input(\"enter age=\"))\n",
    "class B(A):\n",
    "    def hello(self):\n",
    "        print(f\"hello world i am {self.name}.i am {self.age} years old .\")\n",
    "obj=B()\n",
    "obj.hello()\n",
    "    "
   ]
  },
  {
   "cell_type": "code",
   "execution_count": null,
   "id": "3994b09b",
   "metadata": {},
   "outputs": [],
   "source": [
    "class A:\n",
    "    def __init(self):\n",
    "        self.name=input(\"enter name \")\n",
    "        self.course=input(\"enter course\")\n",
    "    def hello(self):\n",
    "        pass\n",
    "class B(A):\n",
    "    def ram(self):\n",
    "        return(f\"hello f{self.name}you have enrolled into {self.course}\")\n",
    "    \n",
    "class C(B):\n",
    "    def ram(self):\n",
    "        print(\"here is the certificate of {self.course}\")\n",
    "obj=C()\n",
    "obj.ram()\n",
    "\n",
    "print(obj.ram)"
   ]
  },
  {
   "cell_type": "code",
   "execution_count": null,
   "id": "fff7a915",
   "metadata": {},
   "outputs": [],
   "source": [
    "#course vanni  function ra string ma same vayera\n",
    "#string lai call gare jasto vayeko ho\n",
    "class A:\n",
    "    def __init__(self):\n",
    "        self.name=input(\"enter name= \")\n",
    "        self.course=input(\"enter course= \")\n",
    "    def hello(self):\n",
    "        pass\n",
    "class B(A):\n",
    "     def ram(self):\n",
    "        return(f\"hello {self.name} you have enrolled into {self.course}\")\n",
    "class C(A):\n",
    "    def ram(self):\n",
    "        print(f\"here is the certificate of {self.course}\")\n",
    "obj=C()\n",
    "obj.ram()\n"
   ]
  },
  {
   "cell_type": "code",
   "execution_count": null,
   "id": "ba1e9652",
   "metadata": {},
   "outputs": [],
   "source": [
    "d={\"TB\":['headache,fever,cough,chestpain,blood in sputum'],\n",
    "  \"ascariasis\":['vomiting,abdominal pain,loeffler pneumonia'],\n",
    "  \"giardiasis\":['abdominal pain,fatty stool,foul smell,diarrhoea']}\n",
    "print(\"please sir enter diseses name\",d.keys())\n",
    "a=input(\"enter disease name\")\n",
    "print(\"the symptom of this disese is\",d[a])\n",
    "print(\"symptom of this disese is\",d.get(a))\n",
    "if d.keys=d[a]:\n",
    "    print(\"thanks\")\n"
   ]
  },
  {
   "cell_type": "code",
   "execution_count": 12,
   "id": "f49286b3",
   "metadata": {},
   "outputs": [
    {
     "name": "stdout",
     "output_type": "stream",
     "text": [
      "enter symptom1\n",
      "dd\n",
      "enter symptom2\n",
      "fv\n",
      "enter symptom3\n",
      "vv\n",
      "enter symptom4\n",
      "vv\n",
      "enter symptom5\n",
      "vv\n",
      "{'symptom1': 'dd', 'symptom2': 'fv', 'symptom3': 'vv', 'symptom4': 'vv'}\n",
      "please sir enter diseses name dict_keys(['TB', 'ascariasis', 'giardiasis'])\n",
      "enter disease nameTB\n",
      "the symptom of this disese is ['headache,fever,cough,chestpain,blood in sputum']\n",
      "symptom of this disese is ['headache,fever,cough,chestpain,blood in sputum']\n"
     ]
    }
   ],
   "source": [
    "symptom={}\n",
    "a=input(\"enter symptom1\\n\")\n",
    "b=input(\"enter symptom2\\n\")\n",
    "c=input(\"enter symptom3\\n\")\n",
    "d=input(\"enter symptom4\\n\")\n",
    "e=input(\"enter symptom5\\n\")\n",
    "symptom['symptom1']=a\n",
    "symptom['symptom2']=b\n",
    "symptom['symptom3']=c\n",
    "symptom['symptom4']=d\n",
    "print(symptom)\n",
    "# x=list(symptom.value())\n",
    "d={\"TB\":['headache,fever,cough,chestpain,blood in sputum'],\n",
    "  \"ascariasis\":['vomiting,abdominal pain,loeffler pneumonia'],\n",
    "  \"giardiasis\":['abdominal pain,fatty stool,foul smell,diarrhoea']}\n",
    "print(\"please sir enter diseses name\",d.keys())\n",
    "a=input(\"enter disease name\")\n",
    "print(\"the symptom of this disese is\",d[a])\n",
    "print(\"symptom of this disese is\",d.get(a))\n",
    "# d_keys_list = list(d.keys())\n",
    "# d_keys_list.sort()\n",
    "# compare_list.sort()\n",
    "# d_keys_list == compare_list # Gives you True\n",
    "if d.keys()=='TB':\n",
    "    print(yes)"
   ]
  },
  {
   "cell_type": "code",
   "execution_count": null,
   "id": "abc5c961",
   "metadata": {},
   "outputs": [],
   "source": [
    "x=''\n",
    "n=int(input( 'enter number of symptom do you have'))\n",
    "for i in range(n):\n",
    "    a=input(\"enter symptom\")\n",
    "    x=(x+a)\n",
    "    print(x)\n",
    "    "
   ]
  },
  {
   "cell_type": "code",
   "execution_count": null,
   "id": "72cfa2d9",
   "metadata": {},
   "outputs": [],
   "source": [
    "dictionary ma value same huna sakxa but key same hudaina"
   ]
  },
  {
   "cell_type": "code",
   "execution_count": 29,
   "id": "25ae53c3",
   "metadata": {},
   "outputs": [
    {
     "name": "stdout",
     "output_type": "stream",
     "text": [
      "enter n=1\n",
      "enter symptom1\n",
      "ss\n",
      "enter symptom2\n",
      "ss\n",
      "enter symptom3\n",
      "sss\n",
      "enter symptom4\n",
      "ss\n",
      "enter symptom5\n",
      "ss\n",
      "{'symptom1': 'ss', 'symptom2': 'ss', 'symptom3': 'sss', 'symptom4': 'ss'}\n",
      "please sir choose diseses name dict_keys(['TB', 'ascariasis', 'giardiasis'])\n",
      "enter disease nameTB\n",
      "symptom of this disese is ['headache,fever,cough,chestpain,blood in sputum']\n"
     ]
    },
    {
     "ename": "TypeError",
     "evalue": "'builtin_function_or_method' object is not iterable",
     "output_type": "error",
     "traceback": [
      "\u001b[1;31m---------------------------------------------------------------------------\u001b[0m",
      "\u001b[1;31mTypeError\u001b[0m                                 Traceback (most recent call last)",
      "\u001b[1;32m~\\AppData\\Local\\Temp/ipykernel_16968/2506800542.py\u001b[0m in \u001b[0;36m<module>\u001b[1;34m\u001b[0m\n\u001b[0;32m     24\u001b[0m \u001b[1;31m# compare_list.sort()\u001b[0m\u001b[1;33m\u001b[0m\u001b[1;33m\u001b[0m\u001b[0m\n\u001b[0;32m     25\u001b[0m \u001b[1;31m# d_keys_list == compare_list # Gives you True\u001b[0m\u001b[1;33m\u001b[0m\u001b[1;33m\u001b[0m\u001b[0m\n\u001b[1;32m---> 26\u001b[1;33m \u001b[0mx\u001b[0m\u001b[1;33m=\u001b[0m\u001b[0mlist\u001b[0m\u001b[1;33m(\u001b[0m\u001b[0md\u001b[0m\u001b[1;33m.\u001b[0m\u001b[0mkeys\u001b[0m\u001b[1;33m)\u001b[0m\u001b[1;33m\u001b[0m\u001b[1;33m\u001b[0m\u001b[0m\n\u001b[0m\u001b[0;32m     27\u001b[0m \u001b[1;32mif\u001b[0m \u001b[0md\u001b[0m\u001b[1;33m.\u001b[0m\u001b[0mkeys\u001b[0m\u001b[1;33m(\u001b[0m\u001b[1;33m)\u001b[0m\u001b[1;33m==\u001b[0m\u001b[0md\u001b[0m\u001b[1;33m[\u001b[0m\u001b[0ma\u001b[0m\u001b[1;33m]\u001b[0m\u001b[1;33m:\u001b[0m\u001b[1;33m\u001b[0m\u001b[1;33m\u001b[0m\u001b[0m\n\u001b[0;32m     28\u001b[0m     \u001b[0mprint\u001b[0m\u001b[1;33m(\u001b[0m\u001b[1;34m'thanks'\u001b[0m\u001b[1;33m)\u001b[0m\u001b[1;33m\u001b[0m\u001b[1;33m\u001b[0m\u001b[0m\n",
      "\u001b[1;31mTypeError\u001b[0m: 'builtin_function_or_method' object is not iterable"
     ]
    }
   ],
   "source": [
    "n=int(input(\"enter n=\"))\n",
    "for i in range(n):\n",
    "    symptom={}\n",
    "    a=input(\"enter symptom1\\n\")\n",
    "    b=input(\"enter symptom2\\n\")\n",
    "    c=input(\"enter symptom3\\n\")\n",
    "    d=input(\"enter symptom4\\n\")\n",
    "    e=input(\"enter symptom5\\n\")\n",
    "    symptom['symptom1']=a\n",
    "    symptom['symptom2']=b\n",
    "    symptom['symptom3']=c\n",
    "    symptom['symptom4']=d\n",
    "    print(symptom)\n",
    "# x=list(symptom.value())\n",
    "d={\"TB\":['headache,fever,cough,chestpain,blood in sputum'],\n",
    "  \"ascariasis\":['vomiting,abdominal pain,loeffler pneumonia'],\n",
    "  \"giardiasis\":['abdominal pain,fatty stool,foul smell,diarrhoea']}\n",
    "print(\"please sir choose diseses name\",d.keys())\n",
    "a=input(\"enter disease name\")\n",
    "# print(\"the symptom of this disese is\",d[a])\n",
    "print(\"symptom of this disese is\",d.get(a))\n",
    "# d_keys_list = list(d.keys())\n",
    "# d_keys_list.sort()\n",
    "# compare_list.sort()\n",
    "# d_keys_list == compare_list # Gives you True\n",
    "x=list(d.keys)\n",
    "if d.keys()==d[a]:\n",
    "    print('thanks')\n",
    "\n"
   ]
  },
  {
   "cell_type": "code",
   "execution_count": 1,
   "id": "867eabb8",
   "metadata": {},
   "outputs": [
    {
     "name": "stdout",
     "output_type": "stream",
     "text": [
      "ram\n",
      "23\n",
      "ktm\n"
     ]
    }
   ],
   "source": [
    "#public properties\n",
    "class Info:\n",
    "    def __init__(self,name,age,add):\n",
    "        self.name=name\n",
    "        self.age=age\n",
    "        self.add=add\n",
    "obj=Info(\"ram\",23,\"ktm\")\n",
    "print(obj.name)\n",
    "print(obj.age)\n",
    "print(obj.add)\n",
    "        "
   ]
  },
  {
   "cell_type": "code",
   "execution_count": 2,
   "id": "f0344f96",
   "metadata": {},
   "outputs": [
    {
     "name": "stdout",
     "output_type": "stream",
     "text": [
      "ram\n",
      "23\n",
      "ktm\n"
     ]
    }
   ],
   "source": [
    "#protected properties  _single underscore\n",
    "class Info:\n",
    "    def __init__(self,name,age,add):\n",
    "        self._name=name\n",
    "        self._age=age\n",
    "        self._add=add\n",
    "obj=Info(\"ram\",23,\"ktm\")\n",
    "print(obj._name)\n",
    "print(obj._age)\n",
    "print(obj._add)\n",
    "        "
   ]
  },
  {
   "cell_type": "code",
   "execution_count": 3,
   "id": "a0b0b5eb",
   "metadata": {},
   "outputs": [
    {
     "ename": "AttributeError",
     "evalue": "'Info' object has no attribute '__name'",
     "output_type": "error",
     "traceback": [
      "\u001b[1;31m---------------------------------------------------------------------------\u001b[0m",
      "\u001b[1;31mAttributeError\u001b[0m                            Traceback (most recent call last)",
      "\u001b[1;32m~\\AppData\\Local\\Temp/ipykernel_22708/2582737021.py\u001b[0m in \u001b[0;36m<module>\u001b[1;34m\u001b[0m\n\u001b[0;32m      6\u001b[0m         \u001b[0mself\u001b[0m\u001b[1;33m.\u001b[0m\u001b[0m__add\u001b[0m\u001b[1;33m=\u001b[0m\u001b[0madd\u001b[0m\u001b[1;33m\u001b[0m\u001b[1;33m\u001b[0m\u001b[0m\n\u001b[0;32m      7\u001b[0m \u001b[0mobj\u001b[0m\u001b[1;33m=\u001b[0m\u001b[0mInfo\u001b[0m\u001b[1;33m(\u001b[0m\u001b[1;34m\"ram\"\u001b[0m\u001b[1;33m,\u001b[0m\u001b[1;36m23\u001b[0m\u001b[1;33m,\u001b[0m\u001b[1;34m\"ktm\"\u001b[0m\u001b[1;33m)\u001b[0m\u001b[1;33m\u001b[0m\u001b[1;33m\u001b[0m\u001b[0m\n\u001b[1;32m----> 8\u001b[1;33m \u001b[0mprint\u001b[0m\u001b[1;33m(\u001b[0m\u001b[0mobj\u001b[0m\u001b[1;33m.\u001b[0m\u001b[0m__name\u001b[0m\u001b[1;33m)\u001b[0m\u001b[1;33m\u001b[0m\u001b[1;33m\u001b[0m\u001b[0m\n\u001b[0m\u001b[0;32m      9\u001b[0m \u001b[0mprint\u001b[0m\u001b[1;33m(\u001b[0m\u001b[0mobj\u001b[0m\u001b[1;33m.\u001b[0m\u001b[0m__age\u001b[0m\u001b[1;33m)\u001b[0m\u001b[1;33m\u001b[0m\u001b[1;33m\u001b[0m\u001b[0m\n\u001b[0;32m     10\u001b[0m \u001b[0mprint\u001b[0m\u001b[1;33m(\u001b[0m\u001b[0mobj\u001b[0m\u001b[1;33m.\u001b[0m\u001b[0m__add\u001b[0m\u001b[1;33m)\u001b[0m\u001b[1;33m\u001b[0m\u001b[1;33m\u001b[0m\u001b[0m\n",
      "\u001b[1;31mAttributeError\u001b[0m: 'Info' object has no attribute '__name'"
     ]
    }
   ],
   "source": [
    "#private properties\n",
    "class Info:\n",
    "    def __init__(self,name,age,add):\n",
    "        self.__name=name\n",
    "        self.__age=age\n",
    "        self.__add=add\n",
    "obj=Info(\"ram\",23,\"ktm\")\n",
    "print(obj.__name)\n",
    "print(obj.__age)\n",
    "print(obj.__add)\n",
    "        "
   ]
  },
  {
   "cell_type": "code",
   "execution_count": 4,
   "id": "2bd2a3fa",
   "metadata": {},
   "outputs": [
    {
     "name": "stdout",
     "output_type": "stream",
     "text": [
      "ram\n",
      "23\n",
      "ktm\n"
     ]
    }
   ],
   "source": [
    "#private properties   name nambleing\n",
    "class Info:\n",
    "    def __init__(self,name,age,add):\n",
    "        self.__name=name\n",
    "        self.__age=age\n",
    "        self.__add=add\n",
    "obj=Info(\"ram\",23,\"ktm\")\n",
    "print(obj._Info__name)    #private properties lai use garna single underscore\n",
    "print(obj._Info__age)\n",
    "print(obj._Info__add)\n",
    "        "
   ]
  },
  {
   "cell_type": "code",
   "execution_count": 8,
   "id": "fd2ab8ba",
   "metadata": {},
   "outputs": [
    {
     "name": "stdout",
     "output_type": "stream",
     "text": [
      "enter name= ram\n",
      "enter age=34\n",
      "enter add= ktm\n",
      "hello world i am ram.i am 34 years old .\n",
      "hello world i am ram.\n",
      "        i am from ktm i am 34 years old .\n"
     ]
    }
   ],
   "source": [
    "class A:\n",
    "    def __init__(self):\n",
    "        self.name=input(\"enter name= \")\n",
    "        self._age=int(input(\"enter age=\"))   #protected properties\n",
    "        self.__add=input(\"enter add= \")     #private properties\n",
    "    def a(self):\n",
    "         print(f'''hello world i am {self.name}.\n",
    "        i am from {self.__add} i am {self._age} years old .''')\n",
    "class B(A):\n",
    "    def hello(self):\n",
    "        print(f\"hello world i am {self.name}.i am {self._age} years old .\")\n",
    "obj=B()\n",
    "obj.hello()\n",
    "obj.a()\n",
    "    "
   ]
  },
  {
   "cell_type": "code",
   "execution_count": 12,
   "id": "25330dc0",
   "metadata": {},
   "outputs": [
    {
     "name": "stdout",
     "output_type": "stream",
     "text": [
      "enter name=ee\n",
      "enter course=r\n",
      "Here is the certificate of r\n",
      "ee r\n"
     ]
    }
   ],
   "source": [
    "class A:\n",
    "    def __init__(self):\n",
    "        self.name=input(\"enter name=\")\n",
    "        self.course=input(\"enter course=\")\n",
    "       \n",
    "    def Hello(self):\n",
    "        pass\n",
    "class B(A):\n",
    "    def courses(self):\n",
    "        return (f\"Hello {self.name} .You have enrolled into {self.course} .\")\n",
    "              \n",
    "class C(B):\n",
    "    def certificate(self):\n",
    "        print(f\"Here is the certificate of {self.course}\")\n",
    "obj=C()\n",
    "obj.courses()\n",
    "obj.certificate()\n",
    "print(obj.name,obj.course)"
   ]
  },
  {
   "cell_type": "code",
   "execution_count": 13,
   "id": "09362ff6",
   "metadata": {},
   "outputs": [
    {
     "name": "stdout",
     "output_type": "stream",
     "text": [
      "enter name= ram\n",
      "enter age=33\n",
      "ente add= ktm\n",
      "hello world i am ram.i am ktm years old . i am from ktm\n",
      "hello world i am python i am ktm i am from ktm\n"
     ]
    }
   ],
   "source": [
    "class A:\n",
    "    def __init__(self,add):\n",
    "        self.add=add\n",
    "    def my_add(self):\n",
    "        return self.add\n",
    "class B:\n",
    "    def __init__(self,age,add):\n",
    "        self._age=age\n",
    "        A.__init__(self,add)\n",
    "    def my_info(self):\n",
    "        print(f\"hello world i am python i am {self._age} i am from {self.add}\")\n",
    "        \n",
    "class C(A,B):\n",
    "    def __init__(self,name,age,add):\n",
    "        self.__name=name\n",
    "        B.__init__(self,add,age)\n",
    "        A.__init__(self,add)\n",
    "    def hello(self):\n",
    "        print(f\"hello world i am {self.__name}.i am {self._age} years old . i am from {self.add}\")\n",
    "name=input(\"enter name= \")\n",
    "age=int(input(\"enter age=\"))\n",
    "add=input(\"ente add= \")\n",
    "\n",
    "obj=C(name,age,add)\n",
    "obj.hello()\n",
    "obj.my_info()\n"
   ]
  },
  {
   "cell_type": "code",
   "execution_count": null,
   "id": "4a5419ec",
   "metadata": {},
   "outputs": [],
   "source": [
    "#polymorphism "
   ]
  },
  {
   "cell_type": "code",
   "execution_count": null,
   "id": "b3179ba7",
   "metadata": {},
   "outputs": [],
   "source": [
    "class Parrot:\n",
    "    def fly(self):\n",
    "        print(\"parrot can fly\")\n",
    "    def swim(self):\n",
    "        print(\"parrot can't fly\")\n",
    "class Penguin\n",
    "    def fly(self):\n",
    "        print(\"penguin can fly\")\n",
    "    def swim(self):\n",
    "        print(\"penguin can't fly\")\n",
    "#common interface\n",
    "def flying"
   ]
  },
  {
   "cell_type": "code",
   "execution_count": null,
   "id": "9f90a876",
   "metadata": {},
   "outputs": [],
   "source": []
  },
  {
   "cell_type": "code",
   "execution_count": null,
   "id": "7acd9d72",
   "metadata": {},
   "outputs": [],
   "source": [
    "#public properties\n",
    "class Info:\n",
    "    def __init__(self,name,age,add):\n",
    "        self.name=name\n",
    "        self.age=age\n",
    "        self.add=add\n",
    "obj=Info(\"ram\",23,\"kathmandu\")\n",
    "print(obj.name)\n",
    "print(obj.age)\n",
    "print(obj.add)"
   ]
  },
  {
   "cell_type": "code",
   "execution_count": 1,
   "id": "822ca2c6",
   "metadata": {},
   "outputs": [
    {
     "name": "stdout",
     "output_type": "stream",
     "text": [
      "ram\n",
      "23\n",
      "kathmandu\n"
     ]
    }
   ],
   "source": [
    "#protected properties\n",
    "class Info:\n",
    "    def __init__(self,name,age,add):\n",
    "        self._name=name\n",
    "        self._age=age\n",
    "        self._add=add\n",
    "obj=Info(\"ram\",23,\"kathmandu\")\n",
    "print(obj._name)\n",
    "print(obj._age)\n",
    "print(obj._add)"
   ]
  },
  {
   "cell_type": "code",
   "execution_count": 2,
   "id": "a81dfe8b",
   "metadata": {},
   "outputs": [
    {
     "ename": "AttributeError",
     "evalue": "'Info' object has no attribute '__name'",
     "output_type": "error",
     "traceback": [
      "\u001b[1;31m---------------------------------------------------------------------------\u001b[0m",
      "\u001b[1;31mAttributeError\u001b[0m                            Traceback (most recent call last)",
      "\u001b[1;32m~\\AppData\\Local\\Temp/ipykernel_15976/1189452502.py\u001b[0m in \u001b[0;36m<module>\u001b[1;34m\u001b[0m\n\u001b[0;32m      6\u001b[0m         \u001b[0mself\u001b[0m\u001b[1;33m.\u001b[0m\u001b[0m__add\u001b[0m\u001b[1;33m=\u001b[0m\u001b[0madd\u001b[0m\u001b[1;33m\u001b[0m\u001b[1;33m\u001b[0m\u001b[0m\n\u001b[0;32m      7\u001b[0m \u001b[0mobj\u001b[0m\u001b[1;33m=\u001b[0m\u001b[0mInfo\u001b[0m\u001b[1;33m(\u001b[0m\u001b[1;34m\"ram\"\u001b[0m\u001b[1;33m,\u001b[0m\u001b[1;36m23\u001b[0m\u001b[1;33m,\u001b[0m\u001b[1;34m\"kathmandu\"\u001b[0m\u001b[1;33m)\u001b[0m\u001b[1;33m\u001b[0m\u001b[1;33m\u001b[0m\u001b[0m\n\u001b[1;32m----> 8\u001b[1;33m \u001b[0mprint\u001b[0m\u001b[1;33m(\u001b[0m\u001b[0mobj\u001b[0m\u001b[1;33m.\u001b[0m\u001b[0m__name\u001b[0m\u001b[1;33m)\u001b[0m\u001b[1;33m\u001b[0m\u001b[1;33m\u001b[0m\u001b[0m\n\u001b[0m\u001b[0;32m      9\u001b[0m \u001b[0mprint\u001b[0m\u001b[1;33m(\u001b[0m\u001b[0mobj\u001b[0m\u001b[1;33m.\u001b[0m\u001b[0m__age\u001b[0m\u001b[1;33m)\u001b[0m\u001b[1;33m\u001b[0m\u001b[1;33m\u001b[0m\u001b[0m\n\u001b[0;32m     10\u001b[0m \u001b[0mprint\u001b[0m\u001b[1;33m(\u001b[0m\u001b[0mobj\u001b[0m\u001b[1;33m.\u001b[0m\u001b[0m__add\u001b[0m\u001b[1;33m)\u001b[0m\u001b[1;33m\u001b[0m\u001b[1;33m\u001b[0m\u001b[0m\n",
      "\u001b[1;31mAttributeError\u001b[0m: 'Info' object has no attribute '__name'"
     ]
    }
   ],
   "source": [
    "#private properties\n",
    "class Info:\n",
    "    def __init__(self,name,age,add): #double underscore\n",
    "        self.__name=name\n",
    "        self.__age=age\n",
    "        self.__add=add\n",
    "obj=Info(\"ram\",23,\"kathmandu\")\n",
    "print(obj.__name)\n",
    "print(obj.__age)\n",
    "print(obj.__add)"
   ]
  },
  {
   "cell_type": "code",
   "execution_count": 3,
   "id": "3bb9b21d",
   "metadata": {},
   "outputs": [
    {
     "name": "stdout",
     "output_type": "stream",
     "text": [
      "ram\n",
      "23\n",
      "kathmandu\n"
     ]
    }
   ],
   "source": [
    "#private properties\n",
    "class Info:\n",
    "    def __init__(self,name,age,add): #double underscore\n",
    "        self.__name=name\n",
    "        self.__age=age\n",
    "        self.__add=add\n",
    "obj=Info(\"ram\",23,\"kathmandu\")  #name memmbling\n",
    "print(obj._Info__name)\n",
    "print(obj._Info__age)\n",
    "print(obj._Info__add)"
   ]
  },
  {
   "cell_type": "code",
   "execution_count": 8,
   "id": "a88b51e3",
   "metadata": {},
   "outputs": [
    {
     "name": "stdout",
     "output_type": "stream",
     "text": [
      "enter name =mp\n",
      "enter age=33\n",
      "enter add= ktm\n",
      "hello world i ammp i am 33years old\n",
      "hello world i am mp i am 33 years old i am from ktm \n"
     ]
    }
   ],
   "source": [
    "class A:\n",
    "    def __init__(self):\n",
    "        self.name=input(\"enter name =\")\n",
    "        self.age=int(input(\"enter age=\"))\n",
    "        self.__add=input(\"enter add= \")\n",
    "    def a(self):\n",
    "        print(f\"hello world i am {self.name} i am {self.age} years old i am from {self.__add} \")\n",
    "        \n",
    "class B(A):\n",
    "    def hello(self):\n",
    "        print(f\"hello world i am{self.name} i am {self.age}years old\")\n",
    "obj=B()\n",
    "obj.hello()\n",
    "obj.a()"
   ]
  },
  {
   "cell_type": "code",
   "execution_count": 9,
   "id": "93028ea3",
   "metadata": {},
   "outputs": [
    {
     "name": "stdout",
     "output_type": "stream",
     "text": [
      "enter name =mp\n",
      "enter age=45\n",
      "enter add= ktm\n",
      "hello world i ammp i am 45years old\n",
      "hello world i am mp\n",
      "        i am 45 years old i am from ktm \n"
     ]
    }
   ],
   "source": [
    "class A:\n",
    "    def __init__(self):\n",
    "        self.name=input(\"enter name =\")\n",
    "        self.age=int(input(\"enter age=\"))\n",
    "        self.__add=input(\"enter add= \") #private banako\n",
    "    def a(self):\n",
    "        print(f'''hello world i am {self.name}                  #next line \\n jastai\n",
    "        i am {self.age} years old i am from {self.__add} ''')\n",
    "        \n",
    "class B(A):\n",
    "    def hello(self):\n",
    "        print(f\"hello world i am{self.name} i am {self.age}years old\")\n",
    "obj=B()\n",
    "obj.hello()\n",
    "obj.a()"
   ]
  },
  {
   "cell_type": "code",
   "execution_count": 11,
   "id": "5a32c8d4",
   "metadata": {},
   "outputs": [
    {
     "name": "stdout",
     "output_type": "stream",
     "text": [
      "enter name=mp\n",
      "enter course=ktm\n",
      "Here is the certificate of ktm\n",
      "mp ktm\n"
     ]
    }
   ],
   "source": [
    "class A:\n",
    "    def __init__(self):\n",
    "        self.name=input(\"enter name=\")\n",
    "        self.course=input(\"enter course=\")\n",
    "       \n",
    "    def Hello(self):\n",
    "        pass\n",
    "class B(A):\n",
    "    def course(self):\n",
    "        return (f\"Hello {self.name} .You have enrolled into {self.course} .\")\n",
    "              \n",
    "class C(B):\n",
    "    def certificate(self):\n",
    "        print(f\"Here is the certificate of {self.course}\")\n",
    "obj=C()\n",
    "obj.course\n",
    "obj.certificate()\n",
    "print(obj.name,obj.course)"
   ]
  },
  {
   "cell_type": "code",
   "execution_count": 20,
   "id": "225cc88e",
   "metadata": {},
   "outputs": [
    {
     "name": "stdout",
     "output_type": "stream",
     "text": [
      "enter name= m\n",
      "enter age =9\n",
      "enter add= l\n",
      "hello world i am m i am 9 years old i am from l\n",
      "hello world i am ram i am 9\n"
     ]
    },
    {
     "data": {
      "text/plain": [
       "'l'"
      ]
     },
     "execution_count": 20,
     "metadata": {},
     "output_type": "execute_result"
    }
   ],
   "source": [
    "class A:\n",
    "    def __init__(self,add):\n",
    "        self.add=add\n",
    "    def my_add(self):\n",
    "        return self.add\n",
    "class B:\n",
    "    def __init__(self,age):\n",
    "        self._age=age\n",
    "    def my_info(self):\n",
    "        print(f\"hello world i am ram i am {self._age}\")\n",
    "class C(A,B):\n",
    "    def __init__(self,name,age,add):\n",
    "        self.__name=name\n",
    "        B.__init__(self,age)\n",
    "        A.__init__(self,add)\n",
    "    def hello(self):\n",
    "        print(f\"hello world i am {self.__name} i am {self._age} years old i am from {self.add}\")\n",
    "name=input(\"enter name= \")\n",
    "age=int(input(\"enter age =\"))\n",
    "add=input(\"enter add= \")\n",
    "obj=C(name,age,add)\n",
    "obj.hello()\n",
    "obj.my_info()\n",
    "obj.my_add()\n",
    "        \n",
    "        \n",
    "    "
   ]
  },
  {
   "cell_type": "code",
   "execution_count": null,
   "id": "35b8a543",
   "metadata": {},
   "outputs": [],
   "source": [
    "#polymorphism "
   ]
  },
  {
   "cell_type": "code",
   "execution_count": 25,
   "id": "a777677c",
   "metadata": {},
   "outputs": [
    {
     "name": "stdout",
     "output_type": "stream",
     "text": [
      "parrot can fly\n",
      "parrot can not swim\n",
      "penguin can not fly\n",
      "penguin can swim\n"
     ]
    }
   ],
   "source": [
    "class Parrot:\n",
    "    def fly(self):\n",
    "        print(\"parrot can fly\")\n",
    "    def swim(self):\n",
    "        print(\"parrot can not swim\")\n",
    "class Penguin:\n",
    "    def fly(self):\n",
    "        print(\"penguin can not fly\")\n",
    "    def swim(self):\n",
    "        print(\"penguin can swim\")\n",
    "#common interface\n",
    "def flying_test(bird):\n",
    "    bird.fly()\n",
    "    bird.swim()\n",
    "#instantiate object\n",
    "blu=Parrot()\n",
    "peggy=Penguin()\n",
    "#passing the object\n",
    "flying_test(blu)\n",
    "flying_test(peggy)"
   ]
  },
  {
   "cell_type": "code",
   "execution_count": null,
   "id": "3dbdce4a",
   "metadata": {},
   "outputs": [],
   "source": []
  },
  {
   "cell_type": "code",
   "execution_count": null,
   "id": "a9d9c76f",
   "metadata": {},
   "outputs": [],
   "source": []
  },
  {
   "cell_type": "code",
   "execution_count": null,
   "id": "2820ebcf",
   "metadata": {},
   "outputs": [],
   "source": []
  },
  {
   "cell_type": "code",
   "execution_count": null,
   "id": "976124cb",
   "metadata": {},
   "outputs": [],
   "source": []
  },
  {
   "cell_type": "code",
   "execution_count": null,
   "id": "0c5e7e94",
   "metadata": {},
   "outputs": [],
   "source": []
  },
  {
   "cell_type": "code",
   "execution_count": null,
   "id": "7cc185e2",
   "metadata": {},
   "outputs": [],
   "source": []
  },
  {
   "cell_type": "code",
   "execution_count": null,
   "id": "e9fd7636",
   "metadata": {},
   "outputs": [],
   "source": []
  },
  {
   "cell_type": "code",
   "execution_count": null,
   "id": "9cb97a6d",
   "metadata": {},
   "outputs": [],
   "source": []
  },
  {
   "cell_type": "code",
   "execution_count": null,
   "id": "507a5dc2",
   "metadata": {},
   "outputs": [],
   "source": []
  }
 ],
 "metadata": {
  "kernelspec": {
   "display_name": "Python 3 (ipykernel)",
   "language": "python",
   "name": "python3"
  },
  "language_info": {
   "codemirror_mode": {
    "name": "ipython",
    "version": 3
   },
   "file_extension": ".py",
   "mimetype": "text/x-python",
   "name": "python",
   "nbconvert_exporter": "python",
   "pygments_lexer": "ipython3",
   "version": "3.9.7"
  }
 },
 "nbformat": 4,
 "nbformat_minor": 5
}

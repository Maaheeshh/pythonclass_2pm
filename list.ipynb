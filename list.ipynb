{
 "cells": [
  {
   "cell_type": "code",
   "execution_count": null,
   "id": "9322767d",
   "metadata": {},
   "outputs": [],
   "source": [
    "#list \n",
    "# indexing\n",
    "# ordered\n",
    "# multiple and duplicate\n",
    "# mutable"
   ]
  },
  {
   "cell_type": "code",
   "execution_count": 2,
   "id": "6c0790aa",
   "metadata": {},
   "outputs": [
    {
     "name": "stdout",
     "output_type": "stream",
     "text": [
      "<class 'list'>\n",
      "[1, 2, 3, 4]\n"
     ]
    }
   ],
   "source": [
    "l=[1,2,3,4]\n",
    "print(type(l))\n",
    "print(l)"
   ]
  },
  {
   "cell_type": "code",
   "execution_count": 3,
   "id": "fca799de",
   "metadata": {},
   "outputs": [
    {
     "name": "stdout",
     "output_type": "stream",
     "text": [
      "apple\n"
     ]
    }
   ],
   "source": [
    "a=[\"apple\",\"ball\",\"cat\",\"dog\"]\n",
    "print(a[0])"
   ]
  },
  {
   "cell_type": "code",
   "execution_count": 4,
   "id": "0dbb091c",
   "metadata": {},
   "outputs": [
    {
     "name": "stdout",
     "output_type": "stream",
     "text": [
      "dog\n"
     ]
    }
   ],
   "source": [
    "a=[\"apple\",\"ball\",\"cat\",\"dog\"]\n",
    "print(a[3])"
   ]
  },
  {
   "cell_type": "code",
   "execution_count": 5,
   "id": "25e810e0",
   "metadata": {},
   "outputs": [
    {
     "name": "stdout",
     "output_type": "stream",
     "text": [
      "['apple', 'ball', 'cat']\n"
     ]
    }
   ],
   "source": [
    "a=[\"apple\",\"ball\",\"cat\",\"dog\"]\n",
    "print(a[0:3])"
   ]
  },
  {
   "cell_type": "code",
   "execution_count": 6,
   "id": "0ff769a4",
   "metadata": {},
   "outputs": [
    {
     "name": "stdout",
     "output_type": "stream",
     "text": [
      "['apple', 'cat']\n"
     ]
    }
   ],
   "source": [
    "a=[\"apple\",\"ball\",\"cat\",\"dog\"]\n",
    "print(a[0:3:2])"
   ]
  },
  {
   "cell_type": "code",
   "execution_count": 7,
   "id": "e6334b31",
   "metadata": {},
   "outputs": [
    {
     "name": "stdout",
     "output_type": "stream",
     "text": [
      "['apple', 'ball', 'cat', 'dog', 'apple']\n"
     ]
    }
   ],
   "source": [
    "a=[\"apple\",\"ball\",\"cat\",\"dog\",\"apple\"]\n",
    "print(a)"
   ]
  },
  {
   "cell_type": "code",
   "execution_count": null,
   "id": "7c035f4a",
   "metadata": {},
   "outputs": [],
   "source": [
    "a=[\"apple\",\"ball\",\"cat\",\"dog\",\"apple\",1,2]\n",
    "print(a)"
   ]
  },
  {
   "cell_type": "code",
   "execution_count": null,
   "id": "948934c2",
   "metadata": {},
   "outputs": [],
   "source": []
  },
  {
   "cell_type": "code",
   "execution_count": null,
   "id": "5a9c1329",
   "metadata": {},
   "outputs": [],
   "source": []
  },
  {
   "cell_type": "code",
   "execution_count": null,
   "id": "49519e68",
   "metadata": {},
   "outputs": [],
   "source": []
  },
  {
   "cell_type": "code",
   "execution_count": 8,
   "id": "7310cc85",
   "metadata": {},
   "outputs": [
    {
     "name": "stdout",
     "output_type": "stream",
     "text": [
      "['apple', 'ball', 'cat', 'dog']\n"
     ]
    }
   ],
   "source": [
    "a=[\"apple\",\"ball\"]\n",
    "b=[\"cat\",\"dog\"]\n",
    "c=a+b\n",
    "print(c)"
   ]
  },
  {
   "cell_type": "code",
   "execution_count": 9,
   "id": "a451a017",
   "metadata": {},
   "outputs": [
    {
     "name": "stdout",
     "output_type": "stream",
     "text": [
      "['cat', 'dog', 'apple', 'ball']\n"
     ]
    }
   ],
   "source": [
    "a=[\"apple\",\"ball\"]\n",
    "b=[\"cat\",\"dog\"]\n",
    "c=b+a\n",
    "print(c)"
   ]
  },
  {
   "cell_type": "code",
   "execution_count": 13,
   "id": "2452f6cd",
   "metadata": {},
   "outputs": [
    {
     "name": "stdout",
     "output_type": "stream",
     "text": [
      "['ant', 'ball', 'cat', 'dog', 'apple']\n"
     ]
    }
   ],
   "source": [
    "a=[\"apple\",\"ball\",\"cat\",\"dog\",\"apple\"]\n",
    "a[0]=\"ant\"\n",
    "print(a)"
   ]
  },
  {
   "cell_type": "code",
   "execution_count": null,
   "id": "8d0acbea",
   "metadata": {},
   "outputs": [],
   "source": [
    "# append() insert() extend()"
   ]
  },
  {
   "cell_type": "code",
   "execution_count": 14,
   "id": "ef6b9301",
   "metadata": {},
   "outputs": [
    {
     "name": "stdout",
     "output_type": "stream",
     "text": [
      "['apple', 'ball', 'cat']\n"
     ]
    }
   ],
   "source": [
    "a=list()  # or a=[]\n",
    "a.append(\"apple\")\n",
    "a.append(\"ball\")\n",
    "a.append(\"cat\")\n",
    "print(a)"
   ]
  },
  {
   "cell_type": "code",
   "execution_count": 16,
   "id": "2a09aed7",
   "metadata": {},
   "outputs": [
    {
     "name": "stdout",
     "output_type": "stream",
     "text": [
      "['apple', 'ant', 'ball', 'cat']\n"
     ]
    }
   ],
   "source": [
    "a=['apple', 'ball', 'cat']\n",
    "a.insert(1,\"ant\")# afule chayeko thau ma value rakhana insert use not append\n",
    "print(a)"
   ]
  },
  {
   "cell_type": "code",
   "execution_count": 17,
   "id": "d1878e31",
   "metadata": {},
   "outputs": [
    {
     "name": "stdout",
     "output_type": "stream",
     "text": [
      "['apple', 'ball', 'cat', 'dog']\n"
     ]
    }
   ],
   "source": [
    "a=['apple', 'ball', 'cat']\n",
    "a.append(\"dog\")\n",
    "print(a)"
   ]
  },
  {
   "cell_type": "code",
   "execution_count": 21,
   "id": "a456be70",
   "metadata": {},
   "outputs": [
    {
     "name": "stdout",
     "output_type": "stream",
     "text": [
      "['apple', 'ball', 'cat', 'dog', 'cat', 'fish']\n",
      "['dog', 'cat', 'fish', 'apple', 'ball', 'cat', 'dog', 'cat', 'fish']\n"
     ]
    }
   ],
   "source": [
    "a=['apple', 'ball', 'cat']\n",
    "b=[\"dog\",\"cat\",\"fish\"]\n",
    "a.extend(b)\n",
    "b.extend(a)\n",
    "print(a)\n",
    "print(b)\n"
   ]
  },
  {
   "cell_type": "code",
   "execution_count": null,
   "id": "65b0d185",
   "metadata": {},
   "outputs": [],
   "source": [
    "#list inside list"
   ]
  },
  {
   "cell_type": "code",
   "execution_count": null,
   "id": "93d6de5c",
   "metadata": {},
   "outputs": [],
   "source": []
  },
  {
   "cell_type": "code",
   "execution_count": null,
   "id": "d7163941",
   "metadata": {},
   "outputs": [],
   "source": []
  }
 ],
 "metadata": {
  "kernelspec": {
   "display_name": "Python 3 (ipykernel)",
   "language": "python",
   "name": "python3"
  },
  "language_info": {
   "codemirror_mode": {
    "name": "ipython",
    "version": 3
   },
   "file_extension": ".py",
   "mimetype": "text/x-python",
   "name": "python",
   "nbconvert_exporter": "python",
   "pygments_lexer": "ipython3",
   "version": "3.9.7"
  }
 },
 "nbformat": 4,
 "nbformat_minor": 5
}

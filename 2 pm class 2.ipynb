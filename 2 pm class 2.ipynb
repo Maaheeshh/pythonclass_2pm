{
 "cells": [
  {
   "cell_type": "code",
   "execution_count": 3,
   "id": "914943a2",
   "metadata": {},
   "outputs": [
    {
     "name": "stdout",
     "output_type": "stream",
     "text": [
      "10\n"
     ]
    }
   ],
   "source": [
    "#+ -  * ** / //  % reminder commenting \n",
    "a=10\n",
    "b=3\n",
    "c=a+b\n",
    "print(a) "
   ]
  },
  {
   "cell_type": "code",
   "execution_count": 5,
   "id": "4a3f4b38",
   "metadata": {},
   "outputs": [
    {
     "name": "stdout",
     "output_type": "stream",
     "text": [
      "11\n",
      "2.5\n",
      "hello world\n",
      "True\n",
      "11 2.5 hello world True\n",
      "<class 'int'>\n",
      "<class 'float'>\n",
      "<class 'str'>\n",
      "<class 'bool'>\n"
     ]
    }
   ],
   "source": [
    "a=11\n",
    "b=2.5\n",
    "c=\"hello world\"\n",
    "d=True\n",
    "print(a)\n",
    "print(b)\n",
    "print(c)\n",
    "print(d)\n",
    "print(a,b,c,d)\n",
    "print(type(a))\n",
    "print(type(b))\n",
    "print(type(c))\n",
    "print(type(d))"
   ]
  },
  {
   "cell_type": "code",
   "execution_count": 6,
   "id": "013f3ec2",
   "metadata": {},
   "outputs": [
    {
     "name": "stdout",
     "output_type": "stream",
     "text": [
      "262.5\n"
     ]
    }
   ],
   "source": [
    "p=1000\n",
    "t=2.5\n",
    "r=10.5\n",
    "i=p*t*r/100\n",
    "print(i)"
   ]
  },
  {
   "cell_type": "code",
   "execution_count": 7,
   "id": "4b50f94f",
   "metadata": {},
   "outputs": [
    {
     "name": "stdout",
     "output_type": "stream",
     "text": [
      "1000\n"
     ]
    }
   ],
   "source": [
    "a=input()"
   ]
  },
  {
   "cell_type": "code",
   "execution_count": 7,
   "id": "5b5aab0b",
   "metadata": {},
   "outputs": [
    {
     "name": "stdout",
     "output_type": "stream",
     "text": [
      "enter a=apple\n",
      "enter b=ball\n",
      "appleball\n"
     ]
    }
   ],
   "source": [
    "a=input(\"enter a=\")\n",
    "b=input(\"enter b=\")\n",
    "c=a+b\n",
    "print(c)"
   ]
  },
  {
   "cell_type": "code",
   "execution_count": 8,
   "id": "957dfbab",
   "metadata": {},
   "outputs": [
    {
     "data": {
      "text/plain": [
       "10"
      ]
     },
     "execution_count": 8,
     "metadata": {},
     "output_type": "execute_result"
    }
   ],
   "source": [
    "a=\"10\"\n",
    "int(a)"
   ]
  },
  {
   "cell_type": "markdown",
   "id": "98084eba",
   "metadata": {},
   "source": [
    "a=int(input(\"enter a=\"))\n",
    "b=int(input(\"enter b=\"))\n",
    "c=a+b\n",
    "print(c)"
   ]
  },
  {
   "cell_type": "code",
   "execution_count": 1,
   "id": "bdb0906f",
   "metadata": {},
   "outputs": [
    {
     "name": "stdout",
     "output_type": "stream",
     "text": [
      "10\n",
      "10\n",
      "10.0\n"
     ]
    }
   ],
   "source": [
    "a=10\n",
    "b=str(a)\n",
    "c=float(a)\n",
    "print(a)\n",
    "print(b)\n",
    "print(c)"
   ]
  },
  {
   "cell_type": "code",
   "execution_count": 2,
   "id": "1f04dfe5",
   "metadata": {},
   "outputs": [
    {
     "data": {
      "text/plain": [
       "'1010'"
      ]
     },
     "execution_count": 2,
     "metadata": {},
     "output_type": "execute_result"
    }
   ],
   "source": [
    "\"10\" +\"10\""
   ]
  },
  {
   "cell_type": "code",
   "execution_count": 1,
   "id": "3596dff2",
   "metadata": {},
   "outputs": [
    {
     "name": "stdout",
     "output_type": "stream",
     "text": [
      "enter p=122\n",
      "enter t=3\n",
      "enter r=3\n",
      "10.98\n"
     ]
    }
   ],
   "source": [
    "p=int(input(\"enter p=\"))\n",
    "t=float(input(\"enter t=\"))\n",
    "r=float(input(\"enter r=\"))\n",
    "i=p*t*r/100\n",
    "print(i)"
   ]
  },
  {
   "cell_type": "code",
   "execution_count": null,
   "id": "9582c8de",
   "metadata": {},
   "outputs": [],
   "source": [
    "name= input(\"enter name =\")\n",
    "add = input(\"enter add =\")\n",
    "print(\"hello world i am \" ,name ,\"i am from\" , add)"
   ]
  },
  {
   "cell_type": "markdown",
   "id": "7570e4af",
   "metadata": {},
   "source": [
    "name= input(\"enter name =\")\n",
    "add = input(\"enter add =\")\n",
    "info=\"hello world  i am \"+name+\". i am from \"+add\n",
    "print(info)"
   ]
  },
  {
   "cell_type": "code",
   "execution_count": 30,
   "id": "2f489add",
   "metadata": {},
   "outputs": [
    {
     "name": "stdout",
     "output_type": "stream",
     "text": [
      "enter name =ram\n",
      "enter add =ktm\n",
      "enter age =20\n",
      "hello world  i am ram. i am from ktm i am 20\n"
     ]
    }
   ],
   "source": [
    "name= input(\"enter name =\")\n",
    "add = input(\"enter add =\")\n",
    "age=int(input(\"enter age =\"))\n",
    "info=\"hello world  i am \"+name+\". i am from \"+add +\" i am \"+str(age)\n",
    "print(info)"
   ]
  },
  {
   "cell_type": "code",
   "execution_count": 31,
   "id": "2f4c030c",
   "metadata": {},
   "outputs": [
    {
     "name": "stdout",
     "output_type": "stream",
     "text": [
      "hello world\n",
      "hello world\n",
      "\n"
     ]
    }
   ],
   "source": [
    "a=\"hello world\\n\"\n",
    "print(a*2)"
   ]
  },
  {
   "cell_type": "code",
   "execution_count": 4,
   "id": "6a530816",
   "metadata": {},
   "outputs": [
    {
     "name": "stdout",
     "output_type": "stream",
     "text": [
      "hello world\thello world\t\n"
     ]
    }
   ],
   "source": [
    "a=\"hello world\\t\"\n",
    "print(a*2)"
   ]
  },
  {
   "cell_type": "code",
   "execution_count": null,
   "id": "563d8b97",
   "metadata": {},
   "outputs": [],
   "source": []
  },
  {
   "cell_type": "code",
   "execution_count": null,
   "id": "4115d9f2",
   "metadata": {},
   "outputs": [],
   "source": []
  }
 ],
 "metadata": {
  "kernelspec": {
   "display_name": "Python 3 (ipykernel)",
   "language": "python",
   "name": "python3"
  },
  "language_info": {
   "codemirror_mode": {
    "name": "ipython",
    "version": 3
   },
   "file_extension": ".py",
   "mimetype": "text/x-python",
   "name": "python",
   "nbconvert_exporter": "python",
   "pygments_lexer": "ipython3",
   "version": "3.9.7"
  }
 },
 "nbformat": 4,
 "nbformat_minor": 5
}

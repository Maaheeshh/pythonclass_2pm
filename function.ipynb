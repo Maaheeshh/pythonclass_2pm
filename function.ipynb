{
 "cells": [
  {
   "cell_type": "code",
   "execution_count": null,
   "id": "780dd677",
   "metadata": {},
   "outputs": [],
   "source": [
    "# def <function name>(): resusable\n",
    "#     <operation>\n",
    "    \n",
    "    \n",
    "#     function()paranthesis vaneko()"
   ]
  },
  {
   "cell_type": "code",
   "execution_count": null,
   "id": "a528a3b7",
   "metadata": {},
   "outputs": [],
   "source": []
  },
  {
   "cell_type": "code",
   "execution_count": null,
   "id": "c8609ca8",
   "metadata": {},
   "outputs": [],
   "source": []
  },
  {
   "cell_type": "code",
   "execution_count": null,
   "id": "f8291a68",
   "metadata": {},
   "outputs": [],
   "source": [
    "def hello():    #define the function\n",
    "    print(\"hello world\")\n",
    "    \n",
    "hello()       #call\n",
    "hello()\n",
    "hello()\n",
    "    "
   ]
  },
  {
   "cell_type": "code",
   "execution_count": null,
   "id": "50d9d243",
   "metadata": {},
   "outputs": [],
   "source": [
    "l=int(input(\"enter l= \"))   #global variable  function vanda bahira\n",
    "b=int(input(\"enter b= \"))    #global variable\n",
    "\n",
    "def area():              #function define\n",
    "    a=l*b\n",
    "    print(a)\n",
    "area()"
   ]
  },
  {
   "cell_type": "code",
   "execution_count": null,
   "id": "5a62db43",
   "metadata": {},
   "outputs": [],
   "source": [
    "l=int(input(\"enter l= \"))   \n",
    "b=int(input(\"enter b= \"))    #global variable\n",
    "h=int(input(\"enter h= \"))\n",
    "def area():              #function define\n",
    "    a=l*b\n",
    "    print(a)\n",
    "    \n",
    "def volume():\n",
    "    v=l*b*h\n",
    "    print(v)\n",
    "area()\n",
    "volume()"
   ]
  },
  {
   "cell_type": "code",
   "execution_count": null,
   "id": "00013774",
   "metadata": {},
   "outputs": [],
   "source": [
    "area() #function call\n",
    "area   #variable\n",
    "def area()  # define function"
   ]
  },
  {
   "cell_type": "code",
   "execution_count": null,
   "id": "894f8635",
   "metadata": {},
   "outputs": [],
   "source": [
    "l=int(input(\"enter l= \"))   \n",
    "b=int(input(\"enter b= \"))    #global variable\n",
    "h=int(input(\"enter h= \"))\n",
    "def vulme():              #function define\n",
    "    a=l*b\n",
    "    print(a)\n",
    "    \n",
    "def area():\n",
    "    v=l*b*h\n",
    "    print(v)\n",
    "area()   #pahila area auxa \n",
    "volume()"
   ]
  },
  {
   "cell_type": "code",
   "execution_count": null,
   "id": "91360ad7",
   "metadata": {},
   "outputs": [],
   "source": [
    "# function with  no argument and no return type\n",
    "\n",
    "def area():\n",
    "    l=int(input(\"enter l= \"))  #local variable  function vanda bahira use garna mildaina\n",
    "    b=int(input(\"enter b= \"))#local variable\n",
    "    a=l*b\n",
    "    print(\"this is inside function\",a)\n",
    "area()\n",
    "print(\"this is outside function \",a)"
   ]
  },
  {
   "cell_type": "code",
   "execution_count": null,
   "id": "574afea8",
   "metadata": {},
   "outputs": [],
   "source": [
    "def area():\n",
    "    global a\n",
    "    l=int(input(\"enter l= \"))  #local variable\n",
    "    b=int(input(\"enter b= \"))  #local variable\n",
    "    a=l*b                    #global variable\n",
    "    print(\"this is inside function\",a)\n",
    "area()\n",
    "print(\"this is outside function \",a)"
   ]
  },
  {
   "cell_type": "code",
   "execution_count": null,
   "id": "a0b95478",
   "metadata": {},
   "outputs": [],
   "source": [
    "\n",
    "\n",
    "def area():\n",
    "    l=int(input(\"enter l= \")) \n",
    "    b=int(input(\"enter b= \"))\n",
    "    a=l*b\n",
    "    print(\"this is inside function\",a)\n",
    "area()\n",
    "print(\"this is outside function \",a)"
   ]
  },
  {
   "cell_type": "code",
   "execution_count": null,
   "id": "dbe2b12e",
   "metadata": {},
   "outputs": [],
   "source": [
    "a=10\n",
    "def fun():\n",
    "    global a\n",
    "    a=5\n",
    "    print(a)\n",
    "fun()\n",
    "print(a)"
   ]
  },
  {
   "cell_type": "code",
   "execution_count": null,
   "id": "b1c6658e",
   "metadata": {},
   "outputs": [],
   "source": [
    "# print() int() str() float() bool() append() sort() max() min()  1 predefine function\n",
    "# 2 user define function\n"
   ]
  },
  {
   "cell_type": "code",
   "execution_count": null,
   "id": "3b60b525",
   "metadata": {},
   "outputs": [],
   "source": [
    "a.append(\"apple\")   #paranthesiis vitara ko argument"
   ]
  },
  {
   "cell_type": "code",
   "execution_count": null,
   "id": "28702489",
   "metadata": {},
   "outputs": [],
   "source": [
    "def hello(x):  #parameter is x\n",
    "    print(x)\n",
    "    \n",
    "hello(\"hello world\")   #argument\n",
    "\n"
   ]
  },
  {
   "cell_type": "code",
   "execution_count": null,
   "id": "a78c55cc",
   "metadata": {},
   "outputs": [],
   "source": [
    "# function with argument but no return type\n",
    "\n",
    "def area(l,b):\n",
    "    a=l*b\n",
    "    print(a)\n",
    "l=int(input(\"enter l= \")) \n",
    "b=int(input(\"enter b= \"))\n",
    "area(l,b)\n"
   ]
  },
  {
   "cell_type": "code",
   "execution_count": null,
   "id": "a49e2c24",
   "metadata": {},
   "outputs": [],
   "source": [
    "# function with argument but no return type\n",
    "\n",
    "def area(x,y):\n",
    "    a=x*y\n",
    "    print(a)\n",
    "l=int(input(\"enter l= \")) #argument mathi pass garne \n",
    "\n",
    "b=int(input(\"enter b= \"))\n",
    "area(l,b)\n"
   ]
  },
  {
   "cell_type": "code",
   "execution_count": null,
   "id": "6c8a99c7",
   "metadata": {},
   "outputs": [],
   "source": [
    "def language(lan=\"python\"): #default parameter\n",
    "    print(lan)\n",
    "language(\"C\")\n",
    "language(\"C++\")\n",
    "language(\"java\")\n",
    "language()\n",
    "\n"
   ]
  },
  {
   "cell_type": "code",
   "execution_count": 1,
   "id": "3ed332d5",
   "metadata": {},
   "outputs": [
    {
     "name": "stdout",
     "output_type": "stream",
     "text": [
      "enter l= 2\n",
      "enter b= 3\n",
      "enter l= 3\n",
      "enter b= 4\n",
      "12\n"
     ]
    }
   ],
   "source": [
    "#function  with return type\n",
    "def area():\n",
    "    l=int(input(\"enter l= \"))   \n",
    "    b=int(input(\"enter b= \")) \n",
    "    a=l*b\n",
    "    return a\n",
    "\n",
    "\n",
    "ar=area()\n",
    "h=2\n",
    "v=area()*h\n",
    "v=ar*h\n",
    "print(v)\n",
    "\n",
    "\n",
    "    \n"
   ]
  },
  {
   "cell_type": "code",
   "execution_count": null,
   "id": "dcf014e5",
   "metadata": {},
   "outputs": [],
   "source": [
    "def cal(p,t,r):\n",
    "    i=p*t*r/100\n",
    "    return i\n",
    "p=float(input(\"enter p= \"))\n",
    "t=float(input(\"enter t= \"))\n",
    "r=float(input(\"enter r= \"))\n",
    "\n",
    "x=(cal(p,t,r))\n",
    "print(\"the value of i= \",x)\n",
    "\n",
    "\n",
    "    "
   ]
  },
  {
   "cell_type": "code",
   "execution_count": null,
   "id": "e0e3b6a2",
   "metadata": {},
   "outputs": [],
   "source": [
    "def cal():\n",
    "    l=10\n",
    "    b=5\n",
    "    h=2\n",
    "    a=l*b\n",
    "    v=a*h\n",
    "    return a,v\n",
    "area,volume=cal()\n",
    "print(\"the area is=\",area)\n",
    "print(\"the volume is=\",volume)"
   ]
  },
  {
   "cell_type": "code",
   "execution_count": null,
   "id": "2a6ceb1b",
   "metadata": {},
   "outputs": [],
   "source": [
    "def area():\n",
    "    l=10\n",
    "    b=4\n",
    "    a=l*b\n",
    "    return a\n",
    "def volume():\n",
    "    h=2\n",
    "    v=area()*h\n",
    "    return v\n",
    "print(volume())"
   ]
  },
  {
   "cell_type": "code",
   "execution_count": 4,
   "id": "e5d6105b",
   "metadata": {},
   "outputs": [
    {
     "name": "stdout",
     "output_type": "stream",
     "text": [
      "enter a= 2\n",
      "enter b= 4\n",
      "enter + - * / /\n",
      "0.5\n"
     ]
    }
   ],
   "source": [
    "\n",
    "def add(a,b):\n",
    "    return a+b\n",
    "def sub(a,b):\n",
    "    return a-b\n",
    "def mul(a,b):\n",
    "    return a*b\n",
    "def div(a,b):\n",
    "    return(a/b)\n",
    "def cal():\n",
    "    a=int(input(\"enter a= \"))\n",
    "    b=int(input(\"enter b= \"))\n",
    "    o=input(\"enter + - * / \")\n",
    "    if o==\"+\":\n",
    "        print(add(a,b))\n",
    "    elif o==\"-\":\n",
    "        print(sub(a,b))\n",
    "    elif o==\"*\":\n",
    "        print(mul(a,b))\n",
    "    elif o==\"/\" and b !=0:\n",
    "        print(div(a,b)) \n",
    "    elif o==\"/\" and b==0:\n",
    "        print(\"value of b can not be zero\")\n",
    "    else:\n",
    "        print(\"invalid operator\")\n",
    "cal()\n"
   ]
  },
  {
   "cell_type": "code",
   "execution_count": null,
   "id": "3c070a42",
   "metadata": {},
   "outputs": [],
   "source": [
    "#recursive function"
   ]
  },
  {
   "cell_type": "code",
   "execution_count": null,
   "id": "3c4dcb79",
   "metadata": {},
   "outputs": [],
   "source": []
  },
  {
   "cell_type": "code",
   "execution_count": null,
   "id": "923a95bd",
   "metadata": {},
   "outputs": [],
   "source": [
    "def hello():\n",
    "    print(\"hello world\")\n",
    "    hello()\n",
    "hello()"
   ]
  },
  {
   "cell_type": "code",
   "execution_count": 7,
   "id": "5d0d9064",
   "metadata": {},
   "outputs": [
    {
     "name": "stdout",
     "output_type": "stream",
     "text": [
      "enter p= 2\n",
      "enter t= 3\n",
      "enter r= 4\n",
      "0.24\n",
      "enter y for more cal= 5\n"
     ]
    }
   ],
   "source": [
    " def cal():\n",
    "    p=float(input(\"enter p= \"))\n",
    "    t=float(input(\"enter t= \"))\n",
    "    r=float(input(\"enter r= \"))\n",
    "    i=p*t*r/100\n",
    "    print(i)\n",
    "    x=input(\"enter y for more cal= \")\n",
    "    if x=='y':\n",
    "        cal()\n",
    "cal()"
   ]
  },
  {
   "cell_type": "code",
   "execution_count": 8,
   "id": "5298e250",
   "metadata": {},
   "outputs": [
    {
     "name": "stdout",
     "output_type": "stream",
     "text": [
      "3.141592653589793\n",
      "2.718281828459045\n"
     ]
    }
   ],
   "source": [
    "# math function\n",
    "import math as m\n",
    "print(m.pi)\n",
    "print(m.e)"
   ]
  },
  {
   "cell_type": "code",
   "execution_count": 9,
   "id": "c50554c8",
   "metadata": {},
   "outputs": [
    {
     "data": {
      "text/plain": [
       "0.8939966636005579"
      ]
     },
     "execution_count": 9,
     "metadata": {},
     "output_type": "execute_result"
    }
   ],
   "source": [
    "m.sin(90)"
   ]
  },
  {
   "cell_type": "code",
   "execution_count": 10,
   "id": "fd7be990",
   "metadata": {},
   "outputs": [
    {
     "data": {
      "text/plain": [
       "1.0"
      ]
     },
     "execution_count": 10,
     "metadata": {},
     "output_type": "execute_result"
    }
   ],
   "source": [
    "m.sin(m.pi/2)"
   ]
  },
  {
   "cell_type": "code",
   "execution_count": 11,
   "id": "f397dda1",
   "metadata": {},
   "outputs": [
    {
     "data": {
      "text/plain": [
       "1.633123935319537e+16"
      ]
     },
     "execution_count": 11,
     "metadata": {},
     "output_type": "execute_result"
    }
   ],
   "source": [
    "m.tan(m.pi/2)"
   ]
  },
  {
   "cell_type": "code",
   "execution_count": 12,
   "id": "806c826a",
   "metadata": {},
   "outputs": [
    {
     "data": {
      "text/plain": [
       "1.0471975511965979"
      ]
     },
     "execution_count": 12,
     "metadata": {},
     "output_type": "execute_result"
    }
   ],
   "source": [
    "m.acos(1/2)"
   ]
  },
  {
   "cell_type": "code",
   "execution_count": 15,
   "id": "841468ac",
   "metadata": {},
   "outputs": [
    {
     "data": {
      "text/plain": [
       "8.0"
      ]
     },
     "execution_count": 15,
     "metadata": {},
     "output_type": "execute_result"
    }
   ],
   "source": [
    "m.pow(2,3)"
   ]
  },
  {
   "cell_type": "code",
   "execution_count": null,
   "id": "52028f7e",
   "metadata": {},
   "outputs": [],
   "source": []
  },
  {
   "cell_type": "code",
   "execution_count": null,
   "id": "5a786703",
   "metadata": {},
   "outputs": [],
   "source": []
  }
 ],
 "metadata": {
  "kernelspec": {
   "display_name": "Python 3 (ipykernel)",
   "language": "python",
   "name": "python3"
  },
  "language_info": {
   "codemirror_mode": {
    "name": "ipython",
    "version": 3
   },
   "file_extension": ".py",
   "mimetype": "text/x-python",
   "name": "python",
   "nbconvert_exporter": "python",
   "pygments_lexer": "ipython3",
   "version": "3.9.7"
  }
 },
 "nbformat": 4,
 "nbformat_minor": 5
}

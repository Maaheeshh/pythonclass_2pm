{
 "cells": [
  {
   "cell_type": "code",
   "execution_count": null,
   "id": "e58deeef",
   "metadata": {},
   "outputs": [],
   "source": [
    "# comprehension list and dictionary"
   ]
  },
  {
   "cell_type": "code",
   "execution_count": 1,
   "id": "99999e5c",
   "metadata": {},
   "outputs": [
    {
     "name": "stdout",
     "output_type": "stream",
     "text": [
      "[2, 4, 6]\n"
     ]
    }
   ],
   "source": [
    "a=[1,2,3,4,5,6,7]\n",
    "b=[]\n",
    "for i in a:\n",
    "    if i%2==0:\n",
    "        b.append(i)\n",
    "print(b)\n",
    "        "
   ]
  },
  {
   "cell_type": "code",
   "execution_count": 3,
   "id": "c44b129a",
   "metadata": {},
   "outputs": [
    {
     "data": {
      "text/plain": [
       "[2, 4, 6]"
      ]
     },
     "execution_count": 3,
     "metadata": {},
     "output_type": "execute_result"
    }
   ],
   "source": [
    "a=[1,2,3,4,5,6,7]\n",
    "b=[i for i in a if i%2==0]\n",
    "b"
   ]
  },
  {
   "cell_type": "code",
   "execution_count": 5,
   "id": "b524856e",
   "metadata": {},
   "outputs": [
    {
     "data": {
      "text/plain": [
       "[1, 2, 3, 4, 5, 6, 7, 8, 9, 10]"
      ]
     },
     "execution_count": 5,
     "metadata": {},
     "output_type": "execute_result"
    }
   ],
   "source": [
    "a=[i for i in range(1,11)]\n",
    "a"
   ]
  },
  {
   "cell_type": "code",
   "execution_count": 7,
   "id": "aca53455",
   "metadata": {},
   "outputs": [
    {
     "data": {
      "text/plain": [
       "[5, 10, 15, 20, 25, 30, 35, 40, 45, 50]"
      ]
     },
     "execution_count": 7,
     "metadata": {},
     "output_type": "execute_result"
    }
   ],
   "source": [
    "a=[i*5 for i in range(1,11)]\n",
    "a"
   ]
  },
  {
   "cell_type": "code",
   "execution_count": 9,
   "id": "da66ec0e",
   "metadata": {},
   "outputs": [
    {
     "data": {
      "text/plain": [
       "['Apple', 'Cat']"
      ]
     },
     "execution_count": 9,
     "metadata": {},
     "output_type": "execute_result"
    }
   ],
   "source": [
    "a=[\"Apple\",\"ball\",\"Cat\",'dog']\n",
    "b=[i for i in a if i[0].isupper()]\n",
    "b"
   ]
  },
  {
   "cell_type": "code",
   "execution_count": 11,
   "id": "4f06c650",
   "metadata": {},
   "outputs": [
    {
     "data": {
      "text/plain": [
       "{1: 1, 2: 4, 3: 9, 4: 16}"
      ]
     },
     "execution_count": 11,
     "metadata": {},
     "output_type": "execute_result"
    }
   ],
   "source": [
    "a={i:i**2 for i in range(1,5)}\n",
    "a\n"
   ]
  },
  {
   "cell_type": "code",
   "execution_count": 13,
   "id": "7b0a849c",
   "metadata": {},
   "outputs": [
    {
     "data": {
      "text/plain": [
       "{'Apple': 'apple', 'Ball': 'ball', 'Cat': 'cat', 'Dog': 'dog'}"
      ]
     },
     "execution_count": 13,
     "metadata": {},
     "output_type": "execute_result"
    }
   ],
   "source": [
    "a=[\"Apple\",\"Ball\",\"Cat\",'Dog']\n",
    "b={i:i.lower() for i in a}\n",
    "b"
   ]
  },
  {
   "cell_type": "code",
   "execution_count": 14,
   "id": "316cbc5a",
   "metadata": {},
   "outputs": [],
   "source": [
    "import os\n",
    "os.mkdir('apple')"
   ]
  },
  {
   "cell_type": "code",
   "execution_count": 15,
   "id": "f849cd04",
   "metadata": {},
   "outputs": [
    {
     "data": {
      "text/plain": [
       "[' 2 pm class 2.ipynb',\n",
       " ' DAY 1.ipynb',\n",
       " '.anaconda',\n",
       " '.android',\n",
       " '.BigNox',\n",
       " '.conda',\n",
       " '.condarc',\n",
       " '.config',\n",
       " '.continuum',\n",
       " '.idlerc',\n",
       " '.ipynb_checkpoints',\n",
       " '.ipython',\n",
       " '.jupyter',\n",
       " '.matplotlib',\n",
       " '.node_repl_history',\n",
       " '.smplayer',\n",
       " '.VirtualBox',\n",
       " '.vscode',\n",
       " '2 pm class  3 if else.ipynb',\n",
       " '2 pm class python.ipynb',\n",
       " '3D Objects',\n",
       " 'anaconda',\n",
       " 'anaconda1',\n",
       " 'anaconda3',\n",
       " 'AppData',\n",
       " 'apple',\n",
       " 'Application Data',\n",
       " 'bmi calculator.ipynb',\n",
       " 'bonus topic.ipynb',\n",
       " 'book.csv',\n",
       " 'books.csv',\n",
       " 'boooks.csv',\n",
       " 'calculator.js',\n",
       " 'calculator.py',\n",
       " 'class 06 while loop.ipynb',\n",
       " 'class 07 STRING.ipynb',\n",
       " 'Contacts',\n",
       " 'Cookies',\n",
       " 'covids_data.csv',\n",
       " 'csv and pandas.ipynb',\n",
       " 'd4ac4633ebd6440fa397b84f1bc94a3c.7z',\n",
       " 'data.csv',\n",
       " 'data.txt',\n",
       " 'data1.txt',\n",
       " 'datas.csv',\n",
       " 'datas.txt',\n",
       " 'datas1. csv',\n",
       " 'datas1.csv',\n",
       " 'datas1.txt',\n",
       " 'Desktop',\n",
       " 'dete.txt',\n",
       " 'detes.csv',\n",
       " 'detes.txt',\n",
       " 'dictionary 11.ipynb',\n",
       " 'disease.csv',\n",
       " 'Documents',\n",
       " 'Downloads',\n",
       " 'dsz.csv',\n",
       " 'dz.csv',\n",
       " 'dz.txt',\n",
       " 'dz1.txt',\n",
       " 'Favorites',\n",
       " 'file.ipynb',\n",
       " 'function.ipynb',\n",
       " 'hiscore.txt',\n",
       " 'hiscore1.txt',\n",
       " 'histogramm.py',\n",
       " 'info.csv',\n",
       " 'infos.csv',\n",
       " 'inittk.ini',\n",
       " 'inst.ini',\n",
       " 'Links',\n",
       " 'list 8 and 9.ipynb',\n",
       " 'list.ipynb',\n",
       " 'Local Settings',\n",
       " 'loop class 4.ipynb',\n",
       " 'loop class 5.ipynb',\n",
       " 'Music',\n",
       " 'My Documents',\n",
       " 'mysql.ipynb',\n",
       " 'MYSQLs.ipynb',\n",
       " 'NCH Software Suite',\n",
       " 'nep1.csv',\n",
       " 'nepse chart.ipynb',\n",
       " 'nepse current price.ipynb',\n",
       " 'nepse.csv',\n",
       " 'nepse.ipynb',\n",
       " 'nepsepr.csv',\n",
       " 'nepsepr1.csv',\n",
       " 'nepse_data.csv',\n",
       " 'NetHood',\n",
       " 'new_data.csv',\n",
       " 'new_data1.csv',\n",
       " 'Nox_share',\n",
       " 'NTUSER.DAT',\n",
       " 'ntuser.dat.LOG1',\n",
       " 'ntuser.dat.LOG2',\n",
       " 'NTUSER.DAT{5c4479d7-9f64-11ec-a542-be9fe48a6f3d}.TM.blf',\n",
       " 'NTUSER.DAT{5c4479d7-9f64-11ec-a542-be9fe48a6f3d}.TMContainer00000000000000000001.regtrans-ms',\n",
       " 'NTUSER.DAT{5c4479d7-9f64-11ec-a542-be9fe48a6f3d}.TMContainer00000000000000000002.regtrans-ms',\n",
       " 'ntuser.ini',\n",
       " 'nuuid.ini',\n",
       " 'OneDrive',\n",
       " 'oop.ipynb',\n",
       " 'Pictures',\n",
       " 'pr file.ipynb',\n",
       " 'pr1.ipynb',\n",
       " 'PrintHood',\n",
       " 'pro1.py',\n",
       " 'prr.ipynb',\n",
       " 'Python39',\n",
       " 'Recent',\n",
       " 'sample.txt',\n",
       " 'Saved Games',\n",
       " 'Searches',\n",
       " 'SendTo',\n",
       " 'set.ipynb',\n",
       " 'Start Menu',\n",
       " 'student.csv',\n",
       " 'student.txt',\n",
       " 'Templates',\n",
       " 'tuple 11.ipynb',\n",
       " 'Untitled Folder',\n",
       " 'Untitled Folder 1',\n",
       " 'Untitled Folder 10',\n",
       " 'Untitled Folder 11',\n",
       " 'Untitled Folder 12',\n",
       " 'Untitled Folder 2',\n",
       " 'Untitled Folder 3',\n",
       " 'Untitled Folder 4',\n",
       " 'Untitled Folder 5',\n",
       " 'Untitled Folder 6',\n",
       " 'Untitled Folder 7',\n",
       " 'Untitled Folder 8',\n",
       " 'Untitled Folder 9',\n",
       " 'Untitled.ipynb',\n",
       " 'untitled.txt',\n",
       " 'Untitled1.ipynb',\n",
       " 'Untitled10.ipynb',\n",
       " 'Untitled11.ipynb',\n",
       " 'Untitled2.ipynb',\n",
       " 'Untitled3.ipynb',\n",
       " 'Untitled4.ipynb',\n",
       " 'Untitled5.ipynb',\n",
       " 'Untitled6.ipynb',\n",
       " 'Untitled7.ipynb',\n",
       " 'Untitled8.ipynb',\n",
       " 'Untitled9.ipynb',\n",
       " 'useruid.ini',\n",
       " 'Videos',\n",
       " 'VirtualBox VMs',\n",
       " 'vmlogs',\n",
       " 'webscarping.csv',\n",
       " 'webscarping.ipynb',\n",
       " 'webscarpings.csv',\n",
       " 'worldometer.csv',\n",
       " 'worldometer1.csv',\n",
       " 'wspr2.ipynb']"
      ]
     },
     "execution_count": 15,
     "metadata": {},
     "output_type": "execute_result"
    }
   ],
   "source": [
    "os.listdir()"
   ]
  },
  {
   "cell_type": "code",
   "execution_count": 17,
   "id": "da2a0788",
   "metadata": {},
   "outputs": [],
   "source": [
    "os.remove('books.csv')"
   ]
  },
  {
   "cell_type": "code",
   "execution_count": 16,
   "id": "6cab0f25",
   "metadata": {},
   "outputs": [
    {
     "ename": "PermissionError",
     "evalue": "[WinError 5] Access is denied: 'apple'",
     "output_type": "error",
     "traceback": [
      "\u001b[1;31m---------------------------------------------------------------------------\u001b[0m",
      "\u001b[1;31mPermissionError\u001b[0m                           Traceback (most recent call last)",
      "\u001b[1;32m~\\AppData\\Local\\Temp/ipykernel_22908/3630684937.py\u001b[0m in \u001b[0;36m<module>\u001b[1;34m\u001b[0m\n\u001b[1;32m----> 1\u001b[1;33m \u001b[0mos\u001b[0m\u001b[1;33m.\u001b[0m\u001b[0mremove\u001b[0m\u001b[1;33m(\u001b[0m\u001b[1;34m'apple'\u001b[0m\u001b[1;33m)\u001b[0m\u001b[1;33m\u001b[0m\u001b[1;33m\u001b[0m\u001b[0m\n\u001b[0m",
      "\u001b[1;31mPermissionError\u001b[0m: [WinError 5] Access is denied: 'apple'"
     ]
    }
   ],
   "source": [
    "os.remove('apple')"
   ]
  },
  {
   "cell_type": "code",
   "execution_count": 18,
   "id": "0b993fff",
   "metadata": {},
   "outputs": [
    {
     "name": "stdout",
     "output_type": "stream",
     "text": [
      "C:\\Users\\HP\\apple\n"
     ]
    }
   ],
   "source": [
    "cd apple"
   ]
  },
  {
   "cell_type": "code",
   "execution_count": 19,
   "id": "39bc64d3",
   "metadata": {},
   "outputs": [
    {
     "data": {
      "text/plain": [
       "'C:\\\\Users\\\\HP\\\\apple'"
      ]
     },
     "execution_count": 19,
     "metadata": {},
     "output_type": "execute_result"
    }
   ],
   "source": [
    "pwd   print working directory"
   ]
  },
  {
   "cell_type": "code",
   "execution_count": 24,
   "id": "e15795e4",
   "metadata": {},
   "outputs": [
    {
     "name": "stdout",
     "output_type": "stream",
     "text": [
      "C:\\Users\\HP\n"
     ]
    }
   ],
   "source": [
    "cd .."
   ]
  },
  {
   "cell_type": "code",
   "execution_count": 25,
   "id": "ab3be0b0",
   "metadata": {},
   "outputs": [
    {
     "data": {
      "text/plain": [
       "[' 2 pm class 2.ipynb',\n",
       " ' DAY 1.ipynb',\n",
       " '.anaconda',\n",
       " '.android',\n",
       " '.BigNox',\n",
       " '.conda',\n",
       " '.condarc',\n",
       " '.config',\n",
       " '.continuum',\n",
       " '.idlerc',\n",
       " '.ipynb_checkpoints',\n",
       " '.ipython',\n",
       " '.jupyter',\n",
       " '.matplotlib',\n",
       " '.node_repl_history',\n",
       " '.smplayer',\n",
       " '.VirtualBox',\n",
       " '.vscode',\n",
       " '2 pm class  3 if else.ipynb',\n",
       " '2 pm class python.ipynb',\n",
       " '3D Objects',\n",
       " 'anaconda',\n",
       " 'anaconda1',\n",
       " 'anaconda3',\n",
       " 'AppData',\n",
       " 'apple',\n",
       " 'Application Data',\n",
       " 'bmi calculator.ipynb',\n",
       " 'bonus topic.ipynb',\n",
       " 'book.csv',\n",
       " 'boooks.csv',\n",
       " 'calculator.js',\n",
       " 'calculator.py',\n",
       " 'class 06 while loop.ipynb',\n",
       " 'class 07 STRING.ipynb',\n",
       " 'Contacts',\n",
       " 'Cookies',\n",
       " 'covids_data.csv',\n",
       " 'csv and pandas.ipynb',\n",
       " 'd4ac4633ebd6440fa397b84f1bc94a3c.7z',\n",
       " 'data.csv',\n",
       " 'data.txt',\n",
       " 'data1.txt',\n",
       " 'datas.csv',\n",
       " 'datas.txt',\n",
       " 'datas1. csv',\n",
       " 'datas1.csv',\n",
       " 'datas1.txt',\n",
       " 'Desktop',\n",
       " 'dete.txt',\n",
       " 'detes.csv',\n",
       " 'detes.txt',\n",
       " 'dictionary 11.ipynb',\n",
       " 'disease.csv',\n",
       " 'Documents',\n",
       " 'Downloads',\n",
       " 'dsz.csv',\n",
       " 'dz.csv',\n",
       " 'dz.txt',\n",
       " 'dz1.txt',\n",
       " 'Favorites',\n",
       " 'file.ipynb',\n",
       " 'function.ipynb',\n",
       " 'hiscore.txt',\n",
       " 'hiscore1.txt',\n",
       " 'histogramm.py',\n",
       " 'info.csv',\n",
       " 'infos.csv',\n",
       " 'inittk.ini',\n",
       " 'inst.ini',\n",
       " 'Links',\n",
       " 'list 8 and 9.ipynb',\n",
       " 'list.ipynb',\n",
       " 'Local Settings',\n",
       " 'loop class 4.ipynb',\n",
       " 'loop class 5.ipynb',\n",
       " 'Music',\n",
       " 'My Documents',\n",
       " 'mysql.ipynb',\n",
       " 'MYSQLs.ipynb',\n",
       " 'NCH Software Suite',\n",
       " 'nep1.csv',\n",
       " 'nepse chart.ipynb',\n",
       " 'nepse current price.ipynb',\n",
       " 'nepse.csv',\n",
       " 'nepse.ipynb',\n",
       " 'nepsepr.csv',\n",
       " 'nepsepr1.csv',\n",
       " 'nepse_data.csv',\n",
       " 'NetHood',\n",
       " 'new_data.csv',\n",
       " 'new_data1.csv',\n",
       " 'Nox_share',\n",
       " 'NTUSER.DAT',\n",
       " 'ntuser.dat.LOG1',\n",
       " 'ntuser.dat.LOG2',\n",
       " 'NTUSER.DAT{5c4479d7-9f64-11ec-a542-be9fe48a6f3d}.TM.blf',\n",
       " 'NTUSER.DAT{5c4479d7-9f64-11ec-a542-be9fe48a6f3d}.TMContainer00000000000000000001.regtrans-ms',\n",
       " 'NTUSER.DAT{5c4479d7-9f64-11ec-a542-be9fe48a6f3d}.TMContainer00000000000000000002.regtrans-ms',\n",
       " 'ntuser.ini',\n",
       " 'nuuid.ini',\n",
       " 'OneDrive',\n",
       " 'oop.ipynb',\n",
       " 'Pictures',\n",
       " 'pr file.ipynb',\n",
       " 'pr1.ipynb',\n",
       " 'PrintHood',\n",
       " 'pro1.py',\n",
       " 'prr.ipynb',\n",
       " 'Python39',\n",
       " 'Recent',\n",
       " 'sample.txt',\n",
       " 'Saved Games',\n",
       " 'Searches',\n",
       " 'SendTo',\n",
       " 'set.ipynb',\n",
       " 'Start Menu',\n",
       " 'student.csv',\n",
       " 'student.txt',\n",
       " 'Templates',\n",
       " 'tuple 11.ipynb',\n",
       " 'Untitled Folder',\n",
       " 'Untitled Folder 1',\n",
       " 'Untitled Folder 10',\n",
       " 'Untitled Folder 11',\n",
       " 'Untitled Folder 12',\n",
       " 'Untitled Folder 2',\n",
       " 'Untitled Folder 3',\n",
       " 'Untitled Folder 4',\n",
       " 'Untitled Folder 5',\n",
       " 'Untitled Folder 6',\n",
       " 'Untitled Folder 7',\n",
       " 'Untitled Folder 8',\n",
       " 'Untitled Folder 9',\n",
       " 'Untitled.ipynb',\n",
       " 'untitled.txt',\n",
       " 'Untitled1.ipynb',\n",
       " 'Untitled10.ipynb',\n",
       " 'Untitled11.ipynb',\n",
       " 'Untitled2.ipynb',\n",
       " 'Untitled3.ipynb',\n",
       " 'Untitled4.ipynb',\n",
       " 'Untitled5.ipynb',\n",
       " 'Untitled6.ipynb',\n",
       " 'Untitled7.ipynb',\n",
       " 'Untitled8.ipynb',\n",
       " 'Untitled9.ipynb',\n",
       " 'useruid.ini',\n",
       " 'Videos',\n",
       " 'VirtualBox VMs',\n",
       " 'vmlogs',\n",
       " 'webscarping.csv',\n",
       " 'webscarping.ipynb',\n",
       " 'webscarpings.csv',\n",
       " 'worldometer.csv',\n",
       " 'worldometer1.csv',\n",
       " 'wspr2.ipynb']"
      ]
     },
     "execution_count": 25,
     "metadata": {},
     "output_type": "execute_result"
    }
   ],
   "source": [
    "os.listdir()"
   ]
  },
  {
   "cell_type": "code",
   "execution_count": 27,
   "id": "33e67e3d",
   "metadata": {},
   "outputs": [
    {
     "name": "stdout",
     "output_type": "stream",
     "text": [
      "[WinError 2] The system cannot find the file specified: 'D..'\n",
      "C:\\Users\\HP\n"
     ]
    }
   ],
   "source": [
    "cd D.."
   ]
  },
  {
   "cell_type": "code",
   "execution_count": 28,
   "id": "3a8860ce",
   "metadata": {},
   "outputs": [
    {
     "name": "stdout",
     "output_type": "stream",
     "text": [
      "C:\\Users\\HP\n"
     ]
    }
   ],
   "source": [
    "cd C:"
   ]
  },
  {
   "cell_type": "code",
   "execution_count": null,
   "id": "e06806e4",
   "metadata": {},
   "outputs": [],
   "source": [
    "date and time"
   ]
  },
  {
   "cell_type": "code",
   "execution_count": 29,
   "id": "614d2206",
   "metadata": {},
   "outputs": [
    {
     "name": "stdout",
     "output_type": "stream",
     "text": [
      "2022-06-05 14:50:49.473680\n"
     ]
    }
   ],
   "source": [
    "import datetime\n",
    "\n",
    "x = datetime.datetime.now()\n",
    "print(x)"
   ]
  },
  {
   "cell_type": "code",
   "execution_count": 31,
   "id": "0f289eac",
   "metadata": {},
   "outputs": [
    {
     "name": "stdout",
     "output_type": "stream",
     "text": [
      "Sun Jun  5 14:52:30 2022\n"
     ]
    }
   ],
   "source": [
    "import datetime\n",
    "\n",
    "x = datetime.datetime.now()\n",
    "\n",
    "print(x.strftime(\"%c\"))\n"
   ]
  },
  {
   "cell_type": "code",
   "execution_count": 33,
   "id": "3f581750",
   "metadata": {},
   "outputs": [
    {
     "name": "stdout",
     "output_type": "stream",
     "text": [
      "hello world\n",
      "hello world\n",
      "hello world\n",
      "hello world\n",
      "hello world\n",
      "hello world\n",
      "hello world\n",
      "hello world\n",
      "hello world\n",
      "hello world\n",
      "0:00:00.008002\n"
     ]
    }
   ],
   "source": [
    "import datetime      #program run huna kati time lagxa\n",
    "\n",
    "x = datetime.datetime.now()\n",
    "\n",
    "for i in range(10):\n",
    "    print(\"hello world\")\n",
    "y= datetime.datetime.now()\n",
    "print(y-x)\n",
    "\n"
   ]
  },
  {
   "cell_type": "code",
   "execution_count": null,
   "id": "3e2b63ac",
   "metadata": {},
   "outputs": [],
   "source": []
  }
 ],
 "metadata": {
  "kernelspec": {
   "display_name": "Python 3 (ipykernel)",
   "language": "python",
   "name": "python3"
  },
  "language_info": {
   "codemirror_mode": {
    "name": "ipython",
    "version": 3
   },
   "file_extension": ".py",
   "mimetype": "text/x-python",
   "name": "python",
   "nbconvert_exporter": "python",
   "pygments_lexer": "ipython3",
   "version": "3.9.7"
  }
 },
 "nbformat": 4,
 "nbformat_minor": 5
}

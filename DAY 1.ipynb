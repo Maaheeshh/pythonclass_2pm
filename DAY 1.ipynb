{
 "cells": [
  {
   "cell_type": "code",
   "execution_count": 21,
   "id": "6a74ef66",
   "metadata": {},
   "outputs": [
    {
     "name": "stdout",
     "output_type": "stream",
     "text": [
      "12\n"
     ]
    }
   ],
   "source": [
    "a=10\n",
    "b=2\n",
    "c=a+b\n",
    "print(c)"
   ]
  },
  {
   "cell_type": "code",
   "execution_count": 22,
   "id": "5428d727",
   "metadata": {},
   "outputs": [
    {
     "name": "stdout",
     "output_type": "stream",
     "text": [
      "10\n",
      "2.3\n",
      "hello world\n",
      "True\n",
      "10 2.3 hello world True\n",
      "<class 'int'>\n",
      "<class 'float'>\n",
      "<class 'str'>\n",
      "<class 'bool'>\n"
     ]
    }
   ],
   "source": [
    "a=10\n",
    "b=2.3\n",
    "c=\"hello world\"\n",
    "d=True\n",
    "print(a)\n",
    "print(b)\n",
    "print(c)\n",
    "print(d)\n",
    "print(a,b,c,d)\n",
    "print(type(a))\n",
    "print(type(b))\n",
    "print(type(c))\n",
    "print(type(d))"
   ]
  },
  {
   "cell_type": "code",
   "execution_count": 7,
   "id": "56a09754",
   "metadata": {},
   "outputs": [
    {
     "name": "stdout",
     "output_type": "stream",
     "text": [
      "the value of i= 12.879999999999997\n"
     ]
    }
   ],
   "source": [
    "#commenting    AND   ctrl/  multiline comment\n",
    "p=100\n",
    "t=2.3\n",
    "r=5.6\n",
    "i=p*t*r/100\n",
    "print(\"the value of i=\" ,i )\n"
   ]
  },
  {
   "cell_type": "code",
   "execution_count": 20,
   "id": "c2a76310",
   "metadata": {},
   "outputs": [],
   "source": [
    "# *=multiply\n",
    "#**=power value\n",
    "# /= divide\n",
    "# //=whole number not fraction\n",
    "# % reminder value\n"
   ]
  },
  {
   "cell_type": "code",
   "execution_count": 19,
   "id": "615695b8",
   "metadata": {},
   "outputs": [
    {
     "name": "stdout",
     "output_type": "stream",
     "text": [
      "30\n",
      "1000\n",
      "3.3333333333333335\n",
      "3\n",
      "1\n"
     ]
    }
   ],
   "source": [
    "a=10\n",
    "b=3\n",
    "c=a*b\n",
    "d=a**b\n",
    "e=a/b\n",
    "f=a//b\n",
    "g=a%b\n",
    "print(c)\n",
    "print(d)\n",
    "print(e)\n",
    "print(f)\n",
    "print(g)\n"
   ]
  },
  {
   "cell_type": "code",
   "execution_count": null,
   "id": "23e19f98",
   "metadata": {},
   "outputs": [],
   "source": [
    "# fname=input(\"enter your fname sir \")\n",
    "lname=input(\"enter your lname sir \")\n",
    "a=fname+lname\n",
    "print(a)\n"
   ]
  },
  {
   "cell_type": "code",
   "execution_count": 17,
   "id": "62608d9a",
   "metadata": {},
   "outputs": [
    {
     "name": "stdout",
     "output_type": "stream",
     "text": [
      "102\n",
      "12\n"
     ]
    }
   ],
   "source": [
    "a=\"10\"\n",
    "b=\"2\"\n",
    "c=a+b\n",
    "print(c)  #it become string value\n",
    "a=10\n",
    "b=2\n",
    "c=a+b\n",
    "print(c) #it become integer value\n"
   ]
  },
  {
   "cell_type": "code",
   "execution_count": null,
   "id": "a2d4f534",
   "metadata": {},
   "outputs": [],
   "source": []
  }
 ],
 "metadata": {
  "kernelspec": {
   "display_name": "Python 3 (ipykernel)",
   "language": "python",
   "name": "python3"
  },
  "language_info": {
   "codemirror_mode": {
    "name": "ipython",
    "version": 3
   },
   "file_extension": ".py",
   "mimetype": "text/x-python",
   "name": "python",
   "nbconvert_exporter": "python",
   "pygments_lexer": "ipython3",
   "version": "3.9.7"
  }
 },
 "nbformat": 4,
 "nbformat_minor": 5
}

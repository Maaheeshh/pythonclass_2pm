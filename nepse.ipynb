{
 "cells": [
  {
   "cell_type": "code",
   "execution_count": null,
   "id": "b6935040",
   "metadata": {},
   "outputs": [],
   "source": [
    "from bs4 import BeautifulSoup\n",
    "import requests\n",
    "url = BeautifulSoup('https://merolagani.com/LatestMarket.aspx', 'html.parser')\n",
    "soup=requests.get(url)\n",
    "soup\n"
   ]
  },
  {
   "cell_type": "code",
   "execution_count": null,
   "id": "02820e1d",
   "metadata": {},
   "outputs": [],
   "source": [
    "code=soup.text    #beautiful code parse garna mildaina     lxml brouser readble format\n",
    "code"
   ]
  },
  {
   "cell_type": "code",
   "execution_count": null,
   "id": "c93b5fc3",
   "metadata": {},
   "outputs": [],
   "source": [
    "lxml_code=BeautifulSoup(code, \"lxml\")    #browser readle form\n",
    "lxml_code"
   ]
  },
  {
   "cell_type": "code",
   "execution_count": null,
   "id": "8e7b7325",
   "metadata": {},
   "outputs": [],
   "source": [
    "table=lxml_code.table"
   ]
  },
  {
   "cell_type": "code",
   "execution_count": null,
   "id": "e3af60cf",
   "metadata": {},
   "outputs": [],
   "source": [
    "tag=table.find_all('tr')\n",
    "tag"
   ]
  },
  {
   "cell_type": "code",
   "execution_count": null,
   "id": "0d919cdc",
   "metadata": {},
   "outputs": [],
   "source": []
  },
  {
   "cell_type": "code",
   "execution_count": null,
   "id": "02c31dbc",
   "metadata": {},
   "outputs": [],
   "source": [
    "for i in range(len(tag)):\n",
    "    print(tag[i].text.split(','))"
   ]
  },
  {
   "cell_type": "code",
   "execution_count": null,
   "id": "21cd27d9",
   "metadata": {},
   "outputs": [],
   "source": [
    "# import pandas as pd   \n",
    "# df=pd.read_csv('nepse.csv')\n",
    "# df"
   ]
  },
  {
   "cell_type": "code",
   "execution_count": null,
   "id": "3ebeca39",
   "metadata": {},
   "outputs": [],
   "source": [
    "df.to_csv('nep1.csv')"
   ]
  },
  {
   "cell_type": "code",
   "execution_count": null,
   "id": "ee1db4e4",
   "metadata": {},
   "outputs": [],
   "source": [
    "tag[0].text.split('\\n')   #euta line ko ayo but multiple lina xa"
   ]
  },
  {
   "cell_type": "code",
   "execution_count": null,
   "id": "4591a756",
   "metadata": {},
   "outputs": [],
   "source": [
    "for i in range(len(tag)):    #sabai ko value nikalana range use gariyo  list ko format ma ayo sabai data\n",
    "    print(tag[i].text.split('\\n')[1:-1])"
   ]
  },
  {
   "cell_type": "code",
   "execution_count": null,
   "id": "b816ce25",
   "metadata": {},
   "outputs": [],
   "source": []
  },
  {
   "cell_type": "code",
   "execution_count": null,
   "id": "12e19ca6",
   "metadata": {},
   "outputs": [],
   "source": [
    "output=[]\n",
    "for i in range(len(tag)):\n",
    "    datas=tag[i].text.split(',')\n",
    "    output.append(datas)\n",
    "output"
   ]
  },
  {
   "cell_type": "code",
   "execution_count": null,
   "id": "9ff4eb22",
   "metadata": {},
   "outputs": [],
   "source": [
    "output=[]\n",
    "for i in range(len(tag)):\n",
    "    datas=tag[i].text.split('\\n')[1:-1]\n",
    "    if datas[-1]!=int:\n",
    "        if datas[0]!='':\n",
    "            output.append(datas)\n",
    "output\n"
   ]
  },
  {
   "cell_type": "code",
   "execution_count": null,
   "id": "2b315cbf",
   "metadata": {},
   "outputs": [],
   "source": [
    "import csv \n",
    "file=open('nepsepr1.csv','w')\n",
    "x=csv.writer(file)\n",
    "\n",
    "for i in output:\n",
    "    x.writerow(i)\n"
   ]
  },
  {
   "cell_type": "code",
   "execution_count": null,
   "id": "9ce0fdf4",
   "metadata": {},
   "outputs": [],
   "source": [
    "import pandas as pd\n",
    "df=pd.read_csv('nepsepr1.csv')\n",
    "df"
   ]
  },
  {
   "cell_type": "code",
   "execution_count": null,
   "id": "01f8f3e7",
   "metadata": {},
   "outputs": [],
   "source": [
    "# import plotly.graph_objects as go\n",
    "\n",
    "# Traded companies=list(df['TotalDeaths'][0:10])\n",
    "# Traded shares=[]\n",
    "# new_country=df['Country,Other'][0:10]\n",
    "# for i in death:\n",
    "#   new_death.append(int(i.replace(',','')))\n",
    "# print(new_death)\n",
    "# fig=go.Figure([go.Bar(x=new_country,y=new_death)])\n",
    "# fig.show()\n"
   ]
  },
  {
   "cell_type": "code",
   "execution_count": null,
   "id": "1ce46fd9",
   "metadata": {},
   "outputs": [],
   "source": [
    "pip install plotly==5.8."
   ]
  },
  {
   "cell_type": "code",
   "execution_count": null,
   "id": "fb478337",
   "metadata": {},
   "outputs": [],
   "source": []
  },
  {
   "cell_type": "code",
   "execution_count": null,
   "id": "d83b4538",
   "metadata": {},
   "outputs": [],
   "source": []
  },
  {
   "cell_type": "code",
   "execution_count": 2,
   "id": "314e5014",
   "metadata": {},
   "outputs": [
    {
     "ename": "SyntaxError",
     "evalue": "invalid syntax (Temp/ipykernel_14744/343217897.py, line 3)",
     "output_type": "error",
     "traceback": [
      "\u001b[1;36m  File \u001b[1;32m\"C:\\Users\\HP\\AppData\\Local\\Temp/ipykernel_14744/343217897.py\"\u001b[1;36m, line \u001b[1;32m3\u001b[0m\n\u001b[1;33m    x = [Traded Companies]\u001b[0m\n\u001b[1;37m                ^\u001b[0m\n\u001b[1;31mSyntaxError\u001b[0m\u001b[1;31m:\u001b[0m invalid syntax\n"
     ]
    }
   ],
   "source": [
    "import plotly.graph_objects as go\n",
    "\n",
    "x = [Traded Companies]\n",
    "y =[Traded Share]\n",
    "\n",
    "fig = go.Figure(data=[go.Pie(labels=x, values=y)])\n",
    "fig.show()\n"
   ]
  },
  {
   "cell_type": "code",
   "execution_count": null,
   "id": "5b918632",
   "metadata": {},
   "outputs": [],
   "source": [
    "\n",
    "\n"
   ]
  },
  {
   "cell_type": "code",
   "execution_count": null,
   "id": "dde77191",
   "metadata": {},
   "outputs": [],
   "source": [
    "import plotly.graph_objects as go\n",
    "\n",
    "x = 'Traded Companies'\n",
    "y = 'Traded Shares'\n",
    "\n",
    "\n",
    "fig = go.Figure(data=[go.Pie(labels=x, values=y)])\n",
    "fig.show()\n"
   ]
  },
  {
   "cell_type": "code",
   "execution_count": 1,
   "id": "c92055f2",
   "metadata": {},
   "outputs": [
    {
     "name": "stderr",
     "output_type": "stream",
     "text": [
      "C:\\Users\\HP\\anaconda\\lib\\site-packages\\bs4\\__init__.py:431: MarkupResemblesLocatorWarning: \"http://nepalstock.com/main/floorsheet/index/1/\" looks like a URL. Beautiful Soup is not an HTTP client. You should probably use an HTTP client like requests to get the document behind the URL, and feed that document to Beautiful Soup.\n",
      "  warnings.warn(\n",
      "C:\\Users\\HP\\anaconda\\lib\\site-packages\\bs4\\__init__.py:431: MarkupResemblesLocatorWarning: \"http://nepalstock.com/main/floorsheet/index/2/\" looks like a URL. Beautiful Soup is not an HTTP client. You should probably use an HTTP client like requests to get the document behind the URL, and feed that document to Beautiful Soup.\n",
      "  warnings.warn(\n",
      "C:\\Users\\HP\\anaconda\\lib\\site-packages\\bs4\\__init__.py:431: MarkupResemblesLocatorWarning: \"http://nepalstock.com/main/floorsheet/index/3/\" looks like a URL. Beautiful Soup is not an HTTP client. You should probably use an HTTP client like requests to get the document behind the URL, and feed that document to Beautiful Soup.\n",
      "  warnings.warn(\n",
      "C:\\Users\\HP\\anaconda\\lib\\site-packages\\bs4\\__init__.py:431: MarkupResemblesLocatorWarning: \"http://nepalstock.com/main/floorsheet/index/4/\" looks like a URL. Beautiful Soup is not an HTTP client. You should probably use an HTTP client like requests to get the document behind the URL, and feed that document to Beautiful Soup.\n",
      "  warnings.warn(\n",
      "C:\\Users\\HP\\anaconda\\lib\\site-packages\\bs4\\__init__.py:431: MarkupResemblesLocatorWarning: \"http://nepalstock.com/main/floorsheet/index/5/\" looks like a URL. Beautiful Soup is not an HTTP client. You should probably use an HTTP client like requests to get the document behind the URL, and feed that document to Beautiful Soup.\n",
      "  warnings.warn(\n"
     ]
    }
   ],
   "source": [
    "from bs4 import BeautifulSoup\n",
    "import requests\n",
    "for i in range(1,6):\n",
    "    url = BeautifulSoup(f'http://nepalstock.com/main/floorsheet/index/{i}/', 'html.parser')\n",
    "    soup=requests.get(url)\n",
    "    soup\n"
   ]
  },
  {
   "cell_type": "code",
   "execution_count": null,
   "id": "98a1037d",
   "metadata": {},
   "outputs": [],
   "source": []
  }
 ],
 "metadata": {
  "kernelspec": {
   "display_name": "Python 3 (ipykernel)",
   "language": "python",
   "name": "python3"
  },
  "language_info": {
   "codemirror_mode": {
    "name": "ipython",
    "version": 3
   },
   "file_extension": ".py",
   "mimetype": "text/x-python",
   "name": "python",
   "nbconvert_exporter": "python",
   "pygments_lexer": "ipython3",
   "version": "3.9.7"
  }
 },
 "nbformat": 4,
 "nbformat_minor": 5
}
